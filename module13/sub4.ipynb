{
 "cells": [
  {
   "cell_type": "code",
   "execution_count": 1,
   "outputs": [
    {
     "name": "stdout",
     "output_type": "stream",
     "text": [
      "Перед исключением\n",
      "После исключения division by zero\n",
      "Finally на месте\n",
      "После После исключения\n"
     ]
    }
   ],
   "source": [
    "try:\n",
    "    print(\"Перед исключением\")\n",
    "    a = int(input(\"a: \"))\n",
    "    b = int(input(\"b: \"))\n",
    "    c = a / b\n",
    "    print(c) # печатаем c = a / b, если всё хорошо\n",
    "except ZeroDivisionError as e:\n",
    "    print(\"После исключения\", e)\n",
    "else: # код в блоке else выполняется только в том случае, если код в блоке try выполнился успешно (т.е. не вылетело никакого исключения).\n",
    "    print(\"Всё ништяк\")\n",
    "finally: # код в блоке finally выполнится в любом случае при выходе из try-except\n",
    "    print(\"Finally на месте\")\n",
    "\n",
    "print(\"После После исключения\")"
   ],
   "metadata": {
    "collapsed": false
   }
  },
  {
   "cell_type": "code",
   "execution_count": 2,
   "outputs": [
    {
     "ename": "ValueError",
     "evalue": "Тебе не может быть столько лет",
     "output_type": "error",
     "traceback": [
      "\u001B[1;31m---------------------------------------------------------------------------\u001B[0m",
      "\u001B[1;31mValueError\u001B[0m                                Traceback (most recent call last)",
      "Cell \u001B[1;32mIn[2], line 4\u001B[0m\n\u001B[0;32m      1\u001B[0m age \u001B[38;5;241m=\u001B[39m \u001B[38;5;28mint\u001B[39m(\u001B[38;5;28minput\u001B[39m(\u001B[38;5;124m\"\u001B[39m\u001B[38;5;124mHow old are you?\u001B[39m\u001B[38;5;124m\"\u001B[39m))\n\u001B[0;32m      3\u001B[0m \u001B[38;5;28;01mif\u001B[39;00m age \u001B[38;5;241m>\u001B[39m \u001B[38;5;241m100\u001B[39m \u001B[38;5;129;01mor\u001B[39;00m age \u001B[38;5;241m<\u001B[39m\u001B[38;5;241m=\u001B[39m \u001B[38;5;241m0\u001B[39m:\n\u001B[1;32m----> 4\u001B[0m     \u001B[38;5;28;01mraise\u001B[39;00m \u001B[38;5;167;01mValueError\u001B[39;00m(\u001B[38;5;124m\"\u001B[39m\u001B[38;5;124mТебе не может быть столько лет\u001B[39m\u001B[38;5;124m\"\u001B[39m)\n\u001B[0;32m      6\u001B[0m \u001B[38;5;28mprint\u001B[39m(\u001B[38;5;124mf\u001B[39m\u001B[38;5;124m\"\u001B[39m\u001B[38;5;124mТебе \u001B[39m\u001B[38;5;132;01m{\u001B[39;00mage\u001B[38;5;132;01m}\u001B[39;00m\u001B[38;5;124m лет!\u001B[39m\u001B[38;5;124m\"\u001B[39m) \u001B[38;5;66;03m# Возраст выводится только в случае, если пользователь ввёл правильный возраст.\u001B[39;00m\n",
      "\u001B[1;31mValueError\u001B[0m: Тебе не может быть столько лет"
     ]
    }
   ],
   "source": [
    "age = int(input(\"How old are you?\"))\n",
    "\n",
    "if age > 100 or age <= 0:\n",
    "    raise ValueError(\"Тебе не может быть столько лет\")\n",
    "\n",
    "print(f\"Тебе {age} лет!\") # Возраст выводится только в случае, если пользователь ввёл правильный возраст."
   ],
   "metadata": {
    "collapsed": false
   }
  },
  {
   "cell_type": "code",
   "execution_count": 3,
   "outputs": [
    {
     "name": "stdout",
     "output_type": "stream",
     "text": [
      "Тебе не может быть столько лет\n",
      "Неправильный возраст\n"
     ]
    }
   ],
   "source": [
    "try:\n",
    "    age = int(input(\"How old are you?\"))\n",
    "    if age > 100 or age <= 0:\n",
    "        raise ValueError(\"Тебе не может быть столько лет\")\n",
    "except ValueError as error:\n",
    "    print(error)\n",
    "    print(\"Неправильный возраст\")\n",
    "else:\n",
    "    print(f\"You are {age} years old!\") # Возраст выводится только в случае, если пользователь ввёл правильный возраст."
   ],
   "metadata": {
    "collapsed": false
   }
  },
  {
   "cell_type": "code",
   "execution_count": 8,
   "outputs": [
    {
     "name": "stdout",
     "output_type": "stream",
     "text": [
      "Вы ввели 4\n",
      "Выход из программы\n"
     ]
    }
   ],
   "source": [
    "try:\n",
    "    num = int(input(\"Input a number:\\t\"))\n",
    "except ValueError as error:\n",
    "    print(\"Вы ввели неправильное число\")\n",
    "else:\n",
    "    print(f\"Вы ввели {num}\")\n",
    "finally:\n",
    "    print(\"Выход из программы\")\n"
   ],
   "metadata": {
    "collapsed": false
   }
  },
  {
   "cell_type": "code",
   "execution_count": null,
   "outputs": [],
   "source": [],
   "metadata": {
    "collapsed": false
   }
  }
 ],
 "metadata": {
  "kernelspec": {
   "display_name": "Python 3",
   "language": "python",
   "name": "python3"
  },
  "language_info": {
   "codemirror_mode": {
    "name": "ipython",
    "version": 2
   },
   "file_extension": ".py",
   "mimetype": "text/x-python",
   "name": "python",
   "nbconvert_exporter": "python",
   "pygments_lexer": "ipython2",
   "version": "2.7.6"
  }
 },
 "nbformat": 4,
 "nbformat_minor": 0
}
