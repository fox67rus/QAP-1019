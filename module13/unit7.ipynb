{
 "cells": [
  {
   "cell_type": "code",
   "execution_count": null,
   "metadata": {},
   "outputs": [],
   "source": [
    "list_ = [-5, 2, 4, 8, 12, -7, 5]\n",
    "# Функция enumerate возвращает данные в виде кортежей,\n",
    "# где на первом месте стоит индекс, а затем значение\n",
    "# [(0, -5), (1, 2), (2, 4), ...]\n",
    "for i, value in enumerate(list_):\n",
    "    print(\"Индекс элемента: \", i)\n",
    "    print(\"Значение элемента: \", value)  # с помощью индекса получаем значение элемента\n",
    "    print(\"---\")\n",
    "print(\"Конец цикла\")"
   ]
  },
  {
   "cell_type": "code",
   "execution_count": null,
   "metadata": {},
   "outputs": [],
   "source": [
    "list_ = [-5, 2, 4, 8, 12, -7, 5]\n",
    "# Объявим переменную, в которой будем хранить индекс отрицательного элемента\n",
    "index_negative = None\n",
    "\n",
    "for i, value in enumerate(list_):\n",
    "    if value < 0:\n",
    "        print(\"Отрицательное число: \", value)\n",
    "        index_negative = i  # перезаписываем значение индекса\n",
    "        print(\"Новый индекс отрицательного числа: \", index_negative)\n",
    "    else:\n",
    "        print(\"Положительное число: \", value)\n",
    "    print(\"---\")\n",
    "print(\"Конец цикла\")\n",
    "print()\n",
    "print(\"Ответ: индекс последнего отрицательного элемента = \", index_negative)"
   ]
  },
  {
   "cell_type": "code",
   "execution_count": null,
   "metadata": {},
   "outputs": [],
   "source": [
    "text = \"\"\"\n",
    "У лукоморья дуб зелёный;\n",
    "Златая цепь на дубе том:\n",
    "И днём и ночью кот учёный\n",
    "Всё ходит по цепи кругом;\n",
    "Идёт направо -- песнь заводит,\n",
    "Налево -- сказку говорит.\n",
    "Там чудеса: там леший бродит,\n",
    "Русалка на ветвях сидит;\n",
    "Там на неведомых дорожках\n",
    "Следы невиданных зверей;\n",
    "Избушка там на курьих ножках\n",
    "Стоит без окон, без дверей;\n",
    "Там лес и дол видений полны;\n",
    "Там о заре прихлынут волны\n",
    "На брег песчаный и пустой,\n",
    "И тридцать витязей прекрасных\n",
    "Чредой из вод выходят ясных,\n",
    "И с ними дядька их морской;\n",
    "Там королевич мимоходом\n",
    "Пленяет грозного царя;\n",
    "Там в облаках перед народом\n",
    "Через леса, через моря\n",
    "Колдун несёт богатыря;\n",
    "В темнице там царевна тужит,\n",
    "А бурый волк ей верно служит;\n",
    "Там ступа с Бабою Ягой\n",
    "Идёт, бредёт сама собой,\n",
    "Там царь Кащей над златом чахнет;\n",
    "Там русский дух... там Русью пахнет!\n",
    "И там я был, и мёд я пил;\n",
    "У моря видел дуб зелёный;\n",
    "Под ним сидел, и кот учёный\n",
    "Свои мне сказки говорил.\n",
    "\"\"\"\n",
    "\n",
    "text = text.lower()\n",
    "text = text.replace(\" \", \"\")\n",
    "text = text.replace(\"\\n\", \"\")\n",
    "print(text)\n",
    "\n",
    "count = {}  # для подсчета символов и их количества\n",
    "for char in text:\n",
    "    if char in count:  # если символ уже встречался, то увеличиваем его количество на 1\n",
    "        count[char] += 1\n",
    "    else:\n",
    "        count[char] = 1\n",
    "\n",
    "for char, cnt in count.items():\n",
    "    print(f\"Символ {char} встречается {cnt} раз\")\n"
   ]
  },
  {
   "cell_type": "code",
   "execution_count": null,
   "metadata": {},
   "outputs": [],
   "source": [
    "import datetime\n",
    "\n",
    "name = 'Fred'\n",
    "age = 50\n",
    "anniversary = datetime.date(1991, 10, 12)\n",
    "print(f'My name is {name}, my age next year is {age + 1}, my anniversary is {anniversary:%A, %B %d, %Y}.')\n",
    "\n",
    "print(f'He said his name is {name!r}.')"
   ]
  },
  {
   "cell_type": "code",
   "execution_count": null,
   "metadata": {},
   "outputs": [],
   "source": [
    "date = datetime.date(1991, 10, 12)\n",
    "print(f'{date} was on a {date:%A}')"
   ]
  },
  {
   "cell_type": "code",
   "execution_count": 1,
   "metadata": {},
   "outputs": [],
   "source": [
    "# Условие задачи. Проверьте, является ли заданное число степенью тройки\n",
    "\n",
    "while True:\n",
    "    if n % 3 == 0:\n",
    "        n //= 3\n",
    "        if n == 1:\n",
    "            break\n",
    "    else:\n",
    "        break"
   ]
  },
  {
   "cell_type": "code",
   "execution_count": 3,
   "outputs": [
    {
     "name": "stdout",
     "output_type": "stream",
     "text": [
      "Done\n",
      "True\n"
     ]
    }
   ],
   "source": [
    "# Задание 13.7.2\n",
    "# Гипотеза Сиракуз заключается в том, что любое натуральное число можно свести к 1, если повторять над ним следующие действия:\n",
    "# если число четное, то разделить его пополам,\n",
    "# если нечетное - умножить на 3, прибавить 1 и результат разделить на 2.\n",
    "\n",
    "def check_h(n):\n",
    "    while n > 1:\n",
    "        if n % 2 == 0:\n",
    "            n //= 2\n",
    "        else:\n",
    "            n = (n * 3 + 1) // 2\n",
    "        if n == 1:\n",
    "            print(\"Done\")\n",
    "            return True\n",
    "    return False\n",
    "print(check_h(10))"
   ],
   "metadata": {
    "collapsed": false
   }
  }
 ],
 "metadata": {
  "kernelspec": {
   "display_name": "Python 3 (ipykernel)",
   "language": "python",
   "name": "python3"
  },
  "language_info": {
   "codemirror_mode": {
    "name": "ipython",
    "version": 3
   },
   "file_extension": ".py",
   "mimetype": "text/x-python",
   "name": "python",
   "nbconvert_exporter": "python",
   "pygments_lexer": "ipython3",
   "version": "3.8.10"
  }
 },
 "nbformat": 4,
 "nbformat_minor": 1
}
