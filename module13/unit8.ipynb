{
 "cells": [
  {
   "cell_type": "code",
   "execution_count": 2,
   "outputs": [
    {
     "name": "stdout",
     "output_type": "stream",
     "text": [
      "<class 'tuple'>\n"
     ]
    }
   ],
   "source": [
    "some_var = None\n",
    "\n",
    "if some_var is None:\n",
    "    print(\"NoneType\")\n",
    "else:\n",
    "    print(type(some_var))"
   ],
   "metadata": {
    "collapsed": false
   }
  },
  {
   "cell_type": "code",
   "execution_count": 3,
   "outputs": [
    {
     "name": "stdout",
     "output_type": "stream",
     "text": [
      "[False]\n"
     ]
    }
   ],
   "source": [
    "# and: если все операнды являются истинными (не нулевые или не пустые), то возвращается последнее истинное значение\n",
    "print( 1 and \"hello\" and [False])"
   ],
   "metadata": {
    "collapsed": false
   }
  },
  {
   "cell_type": "code",
   "execution_count": 4,
   "outputs": [
    {
     "name": "stdout",
     "output_type": "stream",
     "text": [
      "0\n"
     ]
    }
   ],
   "source": [
    "# and: если один из операндов является ложным, то такой операнд возвращается первым\n",
    "print(42 and 0 and '' and False)"
   ],
   "metadata": {
    "collapsed": false
   }
  },
  {
   "cell_type": "code",
   "execution_count": 5,
   "outputs": [
    {
     "name": "stdout",
     "output_type": "stream",
     "text": [
      "3.14\n"
     ]
    }
   ],
   "source": [
    "# or: если один из операндов является истинным, то такой операнд возвращается первым, а остальные игнорируются.\n",
    "print([] or 3.14 or False)"
   ],
   "metadata": {
    "collapsed": false
   }
  },
  {
   "cell_type": "code",
   "execution_count": 6,
   "outputs": [
    {
     "name": "stdout",
     "output_type": "stream",
     "text": [
      "False\n"
     ]
    }
   ],
   "source": [
    "# or: если все операнды являются ложными, то возвращается последний\n",
    "print(0 or '' or False)"
   ],
   "metadata": {
    "collapsed": false
   }
  },
  {
   "cell_type": "code",
   "execution_count": 9,
   "outputs": [
    {
     "name": "stdout",
     "output_type": "stream",
     "text": [
      "1\n"
     ]
    }
   ],
   "source": [
    "a = None\n",
    "b = a or 1\n",
    "print(b)"
   ],
   "metadata": {
    "collapsed": false
   }
  },
  {
   "cell_type": "code",
   "execution_count": 2,
   "outputs": [
    {
     "name": "stdout",
     "output_type": "stream",
     "text": [
      "Условия выполнены\n"
     ]
    }
   ],
   "source": [
    "a = int(input())\n",
    "if type(a) == int:\n",
    "    if 100 <= a <= 999:\n",
    "        if a % 2 == 0 and a % 3 == 0:\n",
    "            print('Условия выполнены')"
   ],
   "metadata": {
    "collapsed": false
   }
  },
  {
   "cell_type": "code",
   "execution_count": 3,
   "outputs": [
    {
     "name": "stdout",
     "output_type": "stream",
     "text": [
      "Условия выполнены\n"
     ]
    }
   ],
   "source": [
    "a = int(input())\n",
    "if type(a) == int and 100 <= a <= 999 and a % 2 == 0 and a % 3 == 0:\n",
    "            print('Условия выполнены')"
   ],
   "metadata": {
    "collapsed": false
   }
  },
  {
   "cell_type": "code",
   "execution_count": 4,
   "outputs": [
    {
     "name": "stdout",
     "output_type": "stream",
     "text": [
      "Условия выполнены\n"
     ]
    }
   ],
   "source": [
    "# Функция all([ ]) возвращает True, если все элементы списка являются истинными\n",
    "a = int(input())\n",
    "if all([type(a) == int,\n",
    "       100 <= a <= 999,\n",
    "        a % 2 == 0,\n",
    "        a % 3 == 0]):\n",
    "    print('Условия выполнены')"
   ],
   "metadata": {
    "collapsed": false
   }
  },
  {
   "cell_type": "code",
   "execution_count": 8,
   "outputs": [
    {
     "name": "stdout",
     "output_type": "stream",
     "text": [
      "[1, 2, 5, 4, 5, 8, 6, 8, 7, 9, 8, 5, 5]\n"
     ]
    },
    {
     "data": {
      "text/plain": "True"
     },
     "execution_count": 8,
     "metadata": {},
     "output_type": "execute_result"
    }
   ],
   "source": [
    "# Задание 13.8.11\n",
    "def not_null():\n",
    "  list_num = list(map(int, input().split()))\n",
    "  print(list_num)\n",
    "  if 0 in list_num:\n",
    "    return False\n",
    "  return True\n",
    "\n",
    "not_null()"
   ],
   "metadata": {
    "collapsed": false
   }
  },
  {
   "cell_type": "code",
   "execution_count": 11,
   "outputs": [
    {
     "name": "stdout",
     "output_type": "stream",
     "text": [
      "True\n"
     ]
    }
   ],
   "source": [
    "# Задание 13.8.11\n",
    "L = list(map(int, input().split()))\n",
    "\n",
    "print(all(L))"
   ],
   "metadata": {
    "collapsed": false
   }
  },
  {
   "cell_type": "code",
   "execution_count": 14,
   "outputs": [
    {
     "name": "stdout",
     "output_type": "stream",
     "text": [
      "True\n"
     ]
    }
   ],
   "source": [
    "# Задание 13.8.12\n",
    "L = list(map(int, input().split()))\n",
    "\n",
    "print(not any(L))"
   ],
   "metadata": {
    "collapsed": false
   }
  }
 ],
 "metadata": {
  "kernelspec": {
   "display_name": "Python 3 (ipykernel)",
   "language": "python",
   "name": "python3"
  },
  "language_info": {
   "codemirror_mode": {
    "name": "ipython",
    "version": 3
   },
   "file_extension": ".py",
   "mimetype": "text/x-python",
   "name": "python",
   "nbconvert_exporter": "python",
   "pygments_lexer": "ipython3",
   "version": "3.8.10"
  }
 },
 "nbformat": 4,
 "nbformat_minor": 1
}
