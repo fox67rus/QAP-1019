{
 "cells": [
  {
   "cell_type": "code",
   "execution_count": 2,
   "outputs": [
    {
     "name": "stdout",
     "output_type": "stream",
     "text": [
      "<class 'tuple'>\n"
     ]
    }
   ],
   "source": [
    "some_var = None\n",
    "\n",
    "if some_var is None:\n",
    "    print(\"NoneType\")\n",
    "else:\n",
    "    print(type(some_var))"
   ],
   "metadata": {
    "collapsed": false
   }
  },
  {
   "cell_type": "code",
   "execution_count": 3,
   "outputs": [
    {
     "name": "stdout",
     "output_type": "stream",
     "text": [
      "[False]\n"
     ]
    }
   ],
   "source": [
    "# and: если все операнды являются истинными (не нулевые или не пустые), то возвращается последнее истинное значение\n",
    "print(1 and \"hello\" and [False])"
   ],
   "metadata": {
    "collapsed": false
   }
  },
  {
   "cell_type": "code",
   "execution_count": 4,
   "outputs": [
    {
     "name": "stdout",
     "output_type": "stream",
     "text": [
      "0\n"
     ]
    }
   ],
   "source": [
    "# and: если один из операндов является ложным, то такой операнд возвращается первым\n",
    "print(42 and 0 and '' and False)"
   ],
   "metadata": {
    "collapsed": false
   }
  },
  {
   "cell_type": "code",
   "execution_count": 5,
   "outputs": [
    {
     "name": "stdout",
     "output_type": "stream",
     "text": [
      "3.14\n"
     ]
    }
   ],
   "source": [
    "# or: если один из операндов является истинным, то такой операнд возвращается первым, а остальные игнорируются.\n",
    "print([] or 3.14 or False)"
   ],
   "metadata": {
    "collapsed": false
   }
  },
  {
   "cell_type": "code",
   "execution_count": 6,
   "outputs": [
    {
     "name": "stdout",
     "output_type": "stream",
     "text": [
      "False\n"
     ]
    }
   ],
   "source": [
    "# or: если все операнды являются ложными, то возвращается последний\n",
    "print(0 or '' or False)"
   ],
   "metadata": {
    "collapsed": false
   }
  },
  {
   "cell_type": "code",
   "execution_count": 9,
   "outputs": [
    {
     "name": "stdout",
     "output_type": "stream",
     "text": [
      "1\n"
     ]
    }
   ],
   "source": [
    "a = None\n",
    "b = a or 1\n",
    "print(b)"
   ],
   "metadata": {
    "collapsed": false
   }
  },
  {
   "cell_type": "code",
   "execution_count": 2,
   "outputs": [
    {
     "name": "stdout",
     "output_type": "stream",
     "text": [
      "Условия выполнены\n"
     ]
    }
   ],
   "source": [
    "a = int(input())\n",
    "if type(a) == int:\n",
    "    if 100 <= a <= 999:\n",
    "        if a % 2 == 0 and a % 3 == 0:\n",
    "            print('Условия выполнены')"
   ],
   "metadata": {
    "collapsed": false
   }
  },
  {
   "cell_type": "code",
   "execution_count": 3,
   "outputs": [
    {
     "name": "stdout",
     "output_type": "stream",
     "text": [
      "Условия выполнены\n"
     ]
    }
   ],
   "source": [
    "a = int(input())\n",
    "if type(a) == int and 100 <= a <= 999 and a % 2 == 0 and a % 3 == 0:\n",
    "    print('Условия выполнены')"
   ],
   "metadata": {
    "collapsed": false
   }
  },
  {
   "cell_type": "code",
   "execution_count": 4,
   "outputs": [
    {
     "name": "stdout",
     "output_type": "stream",
     "text": [
      "Условия выполнены\n"
     ]
    }
   ],
   "source": [
    "# Функция all([ ]) возвращает True, если все элементы списка являются истинными\n",
    "a = int(input())\n",
    "if all([type(a) == int,\n",
    "        100 <= a <= 999,\n",
    "        a % 2 == 0,\n",
    "        a % 3 == 0]):\n",
    "    print('Условия выполнены')"
   ],
   "metadata": {
    "collapsed": false
   }
  },
  {
   "cell_type": "code",
   "execution_count": 8,
   "outputs": [
    {
     "name": "stdout",
     "output_type": "stream",
     "text": [
      "[1, 2, 5, 4, 5, 8, 6, 8, 7, 9, 8, 5, 5]\n"
     ]
    },
    {
     "data": {
      "text/plain": "True"
     },
     "execution_count": 8,
     "metadata": {},
     "output_type": "execute_result"
    }
   ],
   "source": [
    "# Задание 13.8.11\n",
    "def not_null():\n",
    "    list_num = list(map(int, input().split()))\n",
    "    print(list_num)\n",
    "    if 0 in list_num:\n",
    "        return False\n",
    "    return True\n",
    "\n",
    "\n",
    "not_null()"
   ],
   "metadata": {
    "collapsed": false
   }
  },
  {
   "cell_type": "code",
   "execution_count": 11,
   "outputs": [
    {
     "name": "stdout",
     "output_type": "stream",
     "text": [
      "True\n"
     ]
    }
   ],
   "source": [
    "# Задание 13.8.11\n",
    "L = list(map(int, input().split()))\n",
    "\n",
    "print(all(L))"
   ],
   "metadata": {
    "collapsed": false
   }
  },
  {
   "cell_type": "code",
   "execution_count": 14,
   "outputs": [
    {
     "name": "stdout",
     "output_type": "stream",
     "text": [
      "True\n"
     ]
    }
   ],
   "source": [
    "# Задание 13.8.12\n",
    "L = list(map(int, input().split()))\n",
    "\n",
    "print(not any(L))"
   ],
   "metadata": {
    "collapsed": false
   }
  },
  {
   "cell_type": "code",
   "execution_count": 15,
   "outputs": [
    {
     "name": "stdout",
     "output_type": "stream",
     "text": [
      "[1, 4, 9, 16, 25, 36, 49, 64, 81, 100]\n"
     ]
    }
   ],
   "source": [
    "# List comprehension\n",
    "# генератор списков, в котором будут храниться квадраты первых десяти натуральных чисел\n",
    "squares = [i ** 2 for i in range(1, 11)]\n",
    "print(squares)"
   ],
   "metadata": {
    "collapsed": false
   }
  },
  {
   "cell_type": "code",
   "execution_count": 16,
   "outputs": [
    {
     "name": "stdout",
     "output_type": "stream",
     "text": [
      "[4, 16, 36, 64, 100]\n"
     ]
    }
   ],
   "source": [
    "# в список будут включаться квадраты только от нечетных чисел\n",
    "squares = [i ** 2 for i in range(1, 11) if i % 2 == 0]\n",
    "print(squares)"
   ],
   "metadata": {
    "collapsed": false
   }
  },
  {
   "cell_type": "code",
   "execution_count": 17,
   "outputs": [
    {
     "name": "stdout",
     "output_type": "stream",
     "text": [
      "[(1, 1), (2, 4), (3, 9), (4, 16), (5, 25), (6, 36), (7, 49), (8, 64), (9, 81), (10, 100)]\n"
     ]
    }
   ],
   "source": [
    "# составить список из кортежей\n",
    "list_tuples = [(i, i ** 2) for i in range(1, 11)]\n",
    "print(list_tuples)"
   ],
   "metadata": {
    "collapsed": false
   }
  },
  {
   "cell_type": "code",
   "execution_count": 26,
   "outputs": [
    {
     "name": "stdout",
     "output_type": "stream",
     "text": [
      "[0, 1, 2, 3, 4]\n",
      "[1, 2, 3, 4, 5]\n",
      "[2, 3, 4, 5, 6]\n",
      "[3, 4, 5, 6, 7]\n",
      "[4, 5, 6, 7, 8]\n"
     ]
    }
   ],
   "source": [
    "# вложенные генераторы списков и создание матрицы\n",
    "# i - строки, j - столбцы\n",
    "M = [[i + j for j in range(5)] for i in range(5)]\n",
    "# вывод на печать в виде матрицы\n",
    "for i, val in enumerate(M):\n",
    "    if i % (len(M) - 1) == 0:\n",
    "        print(val, sep='\\n')\n",
    "    else:\n",
    "        print(val)"
   ],
   "metadata": {
    "collapsed": false
   }
  },
  {
   "cell_type": "code",
   "execution_count": 30,
   "outputs": [
    {
     "name": "stdout",
     "output_type": "stream",
     "text": [
      "[1, 2, 3, 4, 5, 6, 7, 8, 9, 10, 2, 4, 6, 8, 10, 12, 14, 16, 18, 20, 3, 6, 9, 12, 15, 18, 21, 24, 27, 30, 4, 8, 12, 16, 20, 24, 28, 32, 36, 40, 5, 10, 15, 20, 25, 30, 35, 40, 45, 50, 6, 12, 18, 24, 30, 36, 42, 48, 54, 60, 7, 14, 21, 28, 35, 42, 49, 56, 63, 70, 8, 16, 24, 32, 40, 48, 56, 64, 72, 80, 9, 18, 27, 36, 45, 54, 63, 72, 81, 90, 10, 20, 30, 40, 50, 60, 70, 80, 90, 100]\n"
     ]
    }
   ],
   "source": [
    "mul_table = [i * j for j in range(1, 11) for i in range(1, 11)]\n",
    "print(mul_table)"
   ],
   "metadata": {
    "collapsed": false
   }
  },
  {
   "cell_type": "code",
   "execution_count": null,
   "outputs": [],
   "source": [],
   "metadata": {
    "collapsed": false
   }
  },
  {
   "cell_type": "code",
   "execution_count": 33,
   "outputs": [
    {
     "name": "stdout",
     "output_type": "stream",
     "text": [
      "[True, False, True, False, True]\n",
      "True\n"
     ]
    }
   ],
   "source": [
    "# чтобы в список сохранялось True, если элемент четный, и False, если элемент нечетный\n",
    "L = [int(input()) % 2 == 0 for i in range(5)]\n",
    "print(L)\n",
    "# результат будет истинным тогда и только тогда, когда в списке есть хотя бы один четный и хотя бы один нечетный элемент\n",
    "print(any(L) and not all(L))"
   ],
   "metadata": {
    "collapsed": false
   }
  },
  {
   "cell_type": "code",
   "execution_count": 37,
   "outputs": [
    {
     "name": "stdout",
     "output_type": "stream",
     "text": [
      "(0, 10)\n",
      "(1, 9)\n",
      "(2, 8)\n",
      "(3, 7)\n",
      "(4, 6)\n",
      "(5, 5)\n",
      "(6, 4)\n",
      "(7, 3)\n",
      "(8, 2)\n",
      "(9, 1)\n",
      "a = 0 b = 10\n",
      "a = 1 b = 9\n",
      "a = 2 b = 8\n",
      "a = 3 b = 7\n",
      "a = 4 b = 6\n",
      "a = 5 b = 5\n",
      "a = 6 b = 4\n",
      "a = 7 b = 3\n",
      "a = 8 b = 2\n",
      "a = 9 b = 1\n"
     ]
    }
   ],
   "source": [
    "# zip() позволяет объединить два списка в новый список кортежей, каждый из которых будет\n",
    "# содержать по одному элементу из каждого списка\n",
    "\n",
    "L = [i for i in range(10)]\n",
    "# 0 1 2 3 4 5 6 7 8 9\n",
    "M = [i for i in range(10, 0, -1)]\n",
    "# 10 9 8 7 6 5 4 3 2 1\n",
    "N = []\n",
    "for i in range(10):\n",
    "    N.append(L[i] * M[i])\n",
    "\n",
    "for a in zip(L, M):\n",
    "    print(a)\n",
    "\n",
    "for a, b in zip(L, M):\n",
    "    print('a =', a, 'b =', b)\n"
   ],
   "metadata": {
    "collapsed": false
   }
  },
  {
   "cell_type": "code",
   "execution_count": 41,
   "outputs": [
    {
     "name": "stdout",
     "output_type": "stream",
     "text": [
      "[0, 9, 16, 21, 24, 25, 24, 21, 16, 9]\n"
     ]
    }
   ],
   "source": [
    "zip_list = [a * b for a, b in zip(L, M)]\n",
    "print(zip_list)"
   ],
   "metadata": {
    "collapsed": false
   }
  }
 ],
 "metadata": {
  "kernelspec": {
   "display_name": "Python 3 (ipykernel)",
   "language": "python",
   "name": "python3"
  },
  "language_info": {
   "codemirror_mode": {
    "name": "ipython",
    "version": 3
   },
   "file_extension": ".py",
   "mimetype": "text/x-python",
   "name": "python",
   "nbconvert_exporter": "python",
   "pygments_lexer": "ipython3",
   "version": "3.8.10"
  }
 },
 "nbformat": 4,
 "nbformat_minor": 1
}
