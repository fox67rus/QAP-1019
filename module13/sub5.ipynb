{
 "cells": [
  {
   "cell_type": "code",
   "execution_count": null,
   "outputs": [],
   "source": [
    "A = 6\n",
    "if A % 2 == 0 or A % 3 == 0:\n",
    "    print('Число А кратно 2 или 3')"
   ],
   "metadata": {
    "collapsed": false
   }
  },
  {
   "cell_type": "code",
   "execution_count": 5,
   "outputs": [
    {
     "name": "stdout",
     "output_type": "stream",
     "text": [
      "Список положительных чисел равен:  [1]\n"
     ]
    }
   ],
   "source": [
    "pozitive_num = []\n",
    "if pozitive_num:  # нет смысла проверять len(pozitive_num)\n",
    "    # если список не пустой, то печатаем его\n",
    "    print(\"Список положительных чисел равен: \", pozitive_num)\n",
    "else:\n",
    "    # печатаем, если список оказался пустым\n",
    "    print(\"Список положительных чисел пустой\")"
   ],
   "metadata": {
    "collapsed": false
   }
  },
  {
   "cell_type": "code",
   "execution_count": 10,
   "outputs": [
    {
     "data": {
      "text/plain": "True"
     },
     "execution_count": 10,
     "metadata": {},
     "output_type": "execute_result"
    }
   ],
   "source": [
    "def are_both_odd(A, B):\n",
    "    if A % 2 == 1 and B % 2 == 1:\n",
    "        return True\n",
    "\n",
    "\n",
    "are_both_odd(3, 5)"
   ],
   "metadata": {
    "collapsed": false
   }
  },
  {
   "cell_type": "code",
   "execution_count": 1,
   "outputs": [
    {
     "name": "stdout",
     "output_type": "stream",
     "text": [
      "Утро!!!\n"
     ]
    }
   ],
   "source": [
    "hour = 10\n",
    "if 6 <= hour < 12:\n",
    "    print(\"Утро!!!\")"
   ],
   "metadata": {
    "collapsed": false
   }
  },
  {
   "cell_type": "code",
   "execution_count": 3,
   "outputs": [
    {
     "name": "stdout",
     "output_type": "stream",
     "text": [
      "Четвертая четверть\n"
     ]
    }
   ],
   "source": [
    "x = 5\n",
    "y = -2\n",
    "if x > 0 and y > 0:\n",
    "    print(\"Первая четверть\")\n",
    "if x < 0 < y:\n",
    "    print(\"Вторая четверть\")\n",
    "if x < 0 and y < 0:\n",
    "    print(\"Третья четверть\")\n",
    "if x > 0 > y:\n",
    "    print(\"Четвертая четверть\")"
   ],
   "metadata": {
    "collapsed": false
   }
  },
  {
   "cell_type": "code",
   "execution_count": 4,
   "outputs": [
    {
     "name": "stdout",
     "output_type": "stream",
     "text": [
      "Лето\n"
     ]
    }
   ],
   "source": [
    "month = int(input())\n",
    "\n",
    "if month in [3, 4, 5]:\n",
    "    print(\"Весна\")\n",
    "elif month in [6, 7, 8]:\n",
    "    print(\"Лето\")\n",
    "elif month in [9, 10, 11]:\n",
    "    print(\"Осень\")\n",
    "elif month in [12, 1, 2]:\n",
    "    print(\"Зима\")"
   ],
   "metadata": {
    "collapsed": false
   }
  },
  {
   "cell_type": "code",
   "execution_count": 9,
   "outputs": [
    {
     "name": "stdout",
     "output_type": "stream",
     "text": [
      "hurricane [4]\n"
     ]
    }
   ],
   "source": [
    "def get_wind_class(speed):\n",
    "    if 1 <= speed <= 4:\n",
    "        return \"weak [1]\"\n",
    "    elif 5 <= speed <= 10:\n",
    "        return \"moderate [2]\"\n",
    "    elif 11 <= speed <= 18:\n",
    "        return \"strong [3]\"\n",
    "    elif speed <= 19:\n",
    "        return \"hurricane [4]\"\n",
    "    else:\n",
    "        return \"no grade\"\n",
    "\n",
    "\n",
    "print(get_wind_class(19))"
   ],
   "metadata": {
    "collapsed": false
   }
  },
  {
   "cell_type": "code",
   "execution_count": null,
   "outputs": [],
   "source": [
    "user_database = {\n",
    "    'user': 'password',\n",
    "    'iseedeadpeople': 'greedisgood',\n",
    "    'hesoyam': 'tgm'\n",
    "}\n",
    "\n",
    "\n",
    "def check_user(username, password):\n",
    "    if username in user_database.keys():\n",
    "        if user_database[username] == password:\n",
    "            return True\n",
    "        else:\n",
    "            return False\n",
    "    return False\n"
   ],
   "metadata": {
    "collapsed": false
   }
  },
  {
   "cell_type": "code",
   "execution_count": 13,
   "outputs": [
    {
     "name": "stdout",
     "output_type": "stream",
     "text": [
      "условие не выполнено\n"
     ]
    }
   ],
   "source": [
    "# Задание 13.5.5\n",
    "A, B, C = map(int, input().strip().split())\n",
    "if (A < 45 and B >= 45 or C >= 45) or (A >= 45 and B < 45 and C >= 45) or (A >= 45 and B >= 45 and C < 45):\n",
    "    print(f\"одно из чисел меньше 45. Числа {A=}, {B=}, {C=}\")\n",
    "else:\n",
    "    print(\"условие не выполнено\")\n"
   ],
   "metadata": {
    "collapsed": false
   }
  },
  {
   "cell_type": "code",
   "execution_count": 16,
   "outputs": [
    {
     "name": "stdout",
     "output_type": "stream",
     "text": [
      "Число A= -1 в интервале от -10 до -1 или от 2 до 15\n"
     ]
    }
   ],
   "source": [
    "# Задание 13.5.6\n",
    "A = int(input().strip())\n",
    "\n",
    "if A < -10 or -1 < A < 2 or A > 15:\n",
    "    print(f\"Число {A= } не принадлежит интервалу от -10 до -1 или от 2 до 15\")\n",
    "else:\n",
    "    print(f\"Число {A= } в интервале от -10 до -1 или от 2 до 15\")"
   ],
   "metadata": {
    "collapsed": false
   }
  },
  {
   "cell_type": "code",
   "execution_count": null,
   "outputs": [],
   "source": [
    "A = int(input('Введите число\\n'))\n",
    "\n",
    "if not (-10 <= A <= -1 or 2 <= A <= 15):\n",
    "    print(\"Число не принадлежит интервалу\")\n",
    "else:\n",
    "    print(\"Число принадлежит интервалу\")"
   ],
   "metadata": {
    "collapsed": false
   }
  },
  {
   "cell_type": "code",
   "execution_count": 19,
   "outputs": [
    {
     "name": "stdout",
     "output_type": "stream",
     "text": [
      "цифры 5 нет\n"
     ]
    }
   ],
   "source": [
    "# Задание 13.5.7\n",
    "AA = int(input('Введите двузначное число\\n'))\n",
    "\n",
    "if AA % 5 == 0 or AA // 5 == 10:\n",
    "    print(\"цифра 5 входит в число\")\n",
    "else:\n",
    "    print(\"цифры 5 нет\")"
   ],
   "metadata": {
    "collapsed": false
   }
  },
  {
   "cell_type": "code",
   "execution_count": 20,
   "outputs": [
    {
     "name": "stdout",
     "output_type": "stream",
     "text": [
      "True\n"
     ]
    }
   ],
   "source": [
    "n = 15\n",
    "first_digit = n // 10\n",
    "second_digit = n % 10\n",
    "\n",
    "print((first_digit == 5) or (second_digit == 5))"
   ],
   "metadata": {
    "collapsed": false
   }
  },
  {
   "cell_type": "code",
   "execution_count": 24,
   "outputs": [
    {
     "name": "stdout",
     "output_type": "stream",
     "text": [
      "[1, 2, 6, 4, 5, 8, 5, 2, 5, 6, 5, 4, 5, 8]\n",
      "{1, 2, 4, 5, 6, 8}\n",
      "Присутствуют не уникальные элементы\n"
     ]
    }
   ],
   "source": [
    "# Задание 13.5.8\n",
    "list1 = [1, 2, 6, 4, 5, 8, 5, 2, 5, 6, 5, 4, 5, 8]\n",
    "list2 = set(list1)\n",
    "print(f\"{list1}\\n{list2}\")\n",
    "if len(list1) > len(list2):\n",
    "    print(\"Присутствуют не уникальные элементы\")"
   ],
   "metadata": {
    "collapsed": false
   }
  },
  {
   "cell_type": "code",
   "execution_count": 25,
   "outputs": [
    {
     "name": "stdout",
     "output_type": "stream",
     "text": [
      "True\n"
     ]
    }
   ],
   "source": [
    "list_ = [-5, 2, 4, 8, 12, -7, 5]\n",
    "\n",
    "print(len(list_) == len(set(list_)))"
   ],
   "metadata": {
    "collapsed": false
   }
  },
  {
   "cell_type": "code",
   "execution_count": 42,
   "outputs": [
    {
     "name": "stdout",
     "output_type": "stream",
     "text": [
      "Палиндром\n"
     ]
    }
   ],
   "source": [
    "# Задание 13.5.9\n",
    "num = 12344321\n",
    "if str(num) == str(num)[::-1]:\n",
    "    print(\"Палиндром\")\n",
    "else:\n",
    "    print(\"не Палиндром\")\n"
   ],
   "metadata": {
    "collapsed": false
   }
  },
  {
   "cell_type": "code",
   "execution_count": null,
   "outputs": [],
   "source": [],
   "metadata": {
    "collapsed": false
   }
  }
 ],
 "metadata": {
  "kernelspec": {
   "display_name": "Python 3",
   "language": "python",
   "name": "python3"
  },
  "language_info": {
   "codemirror_mode": {
    "name": "ipython",
    "version": 2
   },
   "file_extension": ".py",
   "mimetype": "text/x-python",
   "name": "python",
   "nbconvert_exporter": "python",
   "pygments_lexer": "ipython2",
   "version": "2.7.6"
  }
 },
 "nbformat": 4,
 "nbformat_minor": 0
}
