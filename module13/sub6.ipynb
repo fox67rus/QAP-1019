{
 "cells": [
  {
   "cell_type": "code",
   "execution_count": null,
   "outputs": [],
   "source": [
    "# Циклы"
   ],
   "metadata": {
    "collapsed": false
   }
  },
  {
   "cell_type": "code",
   "execution_count": null,
   "outputs": [],
   "source": [
    "S = 0  # заводим переменную-счетчик, в которой мы будем считать сумму\n",
    "N = 5\n",
    "\n",
    "# заводим цикл for, в котором мы будем проходить по всем числам от одного до N\n",
    "for i in range(1, N + 1):  # равносильно выражению for i in [1, 2, 3, ... , N -1, N]:\n",
    "    print(\"Значение суммы на предыдущем шаге: \", S)\n",
    "    print(\"Текущее число: \", i)\n",
    "    S = S + i  # cуммируем текущее число i и перезаписываем значение суммы\n",
    "    print(\"Значение суммы после сложения: \", S)\n",
    "    print(\"---\")\n",
    "print(\"Конец цикла\")\n",
    "print()\n",
    "print(\"Ответ: сумма равна = \", S)\n"
   ],
   "metadata": {
    "collapsed": false
   }
  },
  {
   "cell_type": "code",
   "execution_count": null,
   "outputs": [],
   "source": [
    "P = 1  # заводим переменную-счетчик, в которой мы будем считать произведение, подумайте чему она должна быть равна\n",
    "N = 5\n",
    "\n",
    "# запишите цикл for для подсчета произведения\n",
    "for i in range(1, N + 1):\n",
    "    P *= i\n",
    "\n",
    "print(f\"Произведение натуральных чисел от 1 до {N} равно {P}\")"
   ],
   "metadata": {
    "collapsed": false
   }
  },
  {
   "cell_type": "code",
   "execution_count": null,
   "outputs": [],
   "source": [
    "n = 4\n",
    "\n",
    "for i in range(n + 1):\n",
    "    print('*' * i)"
   ],
   "metadata": {
    "collapsed": false
   }
  },
  {
   "cell_type": "code",
   "execution_count": null,
   "outputs": [],
   "source": [
    "S = 0  # заводим переменную-счетчик, в которой мы будем считать сумму\n",
    "n = 1  # текущее натуральное число\n",
    "\n",
    "# заводим цикл while, который будет работать, пока сумма не превысит 500\n",
    "while S < 500:  # делай пока ...\n",
    "    S += n  # увеличиваем сумму, равносильно S = S + n\n",
    "    n += 1  # так как сумма ещё не достигла нужного значения, то увеличиваем переменную-счетчик\n",
    "    print(\"Ещё считаю ...\")\n",
    "\n",
    "print(\"Сумма равна: \", S)\n",
    "print(\"Количество чисел: \", n)"
   ],
   "metadata": {
    "collapsed": false
   }
  },
  {
   "cell_type": "code",
   "execution_count": null,
   "outputs": [],
   "source": [
    "M = 1\n",
    "while M ** 2 < 1000:\n",
    "    M += 1\n",
    "    print(f\"Ещё считаю ... Текущее число {M}\")\n",
    "\n",
    "print(\"Готово\")"
   ],
   "metadata": {
    "collapsed": false
   }
  },
  {
   "cell_type": "code",
   "execution_count": null,
   "outputs": [],
   "source": [
    "# цикл с постусловием - тело цикла точно выполнится один раз\n",
    "n = 11\n",
    "while True:  # в данной программе это условие всегда True, цикл будет бесконечным\n",
    "   print(\"Hello World\")\n",
    "   n += 1\n",
    "   if n > 10:  # условие, при достижении которого цикл while будет принудительно завершен\n",
    "       break"
   ],
   "metadata": {
    "collapsed": false
   }
  },
  {
   "cell_type": "code",
   "execution_count": null,
   "outputs": [],
   "source": [
    "n = 1\n",
    "while True:\n",
    "   if n ** 2 >= 1000:\n",
    "       print(\"Последнее число\", n - 1)\n",
    "       break\n",
    "   n += 1"
   ],
   "metadata": {
    "collapsed": false
   }
  },
  {
   "cell_type": "code",
   "execution_count": null,
   "outputs": [],
   "source": [
    "N = 2\n",
    "M = 3\n",
    "# заполнили матрицу последовательными числами\n",
    "matrix = [\n",
    "    [0, 1, 2],\n",
    "    [3, 4, 5],\n",
    "]\n",
    "\n",
    "for i in range(N):  # цикл, отвечающий за строки\n",
    "    for j in range(M):  # цикл, отвечающий за столбцы\n",
    "        print(matrix[i][j], end=\" \")"
   ],
   "metadata": {
    "collapsed": false
   }
  },
  {
   "cell_type": "code",
   "execution_count": null,
   "outputs": [],
   "source": [
    "for i in range(N):\n",
    "    for j in range(M):\n",
    "        print(matrix[i][j], end=\" \")\n",
    "    print()  # перенос на новую строку"
   ],
   "metadata": {
    "collapsed": false
   }
  },
  {
   "cell_type": "code",
   "execution_count": 1,
   "outputs": [
    {
     "name": "stdout",
     "output_type": "stream",
     "text": [
      "[1, 2, 4]\n",
      "[2, 0, 0]\n",
      "[9, 5, 8]\n",
      "[0, 1, 1]\n"
     ]
    }
   ],
   "source": [
    "random_matrix = [\n",
    "   [9, 2, 1],\n",
    "   [2, 5, 3],\n",
    "   [4, 8, 5]\n",
    "]\n",
    "\n",
    "mean_value_rows = []  # здесь будут храниться средние значения для каждой строки\n",
    "min_value_rows = []  # здесь будут храниться минимальные значения для каждой строки\n",
    "min_index_rows = []  # здесь будут храниться индексы минимальных значений для каждой строки\n",
    "max_value_rows = []  # здесь будут храниться максимальные значения для каждой строки\n",
    "max_index_rows = []  # здесь будут храниться индексы максимальных значений для каждой строки\n",
    "\n",
    "for row in random_matrix:  # здесь мы целиком берем каждую сроку\n",
    "   min_index = 0  # в качестве минимального значения возьмем первый элемент строки\n",
    "   max_index = 0\n",
    "   min_value = row[min_index]  # начальное минимальное значение для каждой строки будет новое\n",
    "   max_value = row[max_index]  # для максимального значения тоже самое\n",
    "   for index_col in range(len(row)):\n",
    "       if row[index_col] < min_value:\n",
    "           min_value = row[index_col]\n",
    "           min_index = index_col\n",
    "       if row[index_col] > max_value:\n",
    "           max_value = row[index_col]\n",
    "           max_index = index_col\n",
    "   min_value_rows.append(min_value)\n",
    "   min_index_rows.append(min_index)\n",
    "   max_value_rows.append(max_value)\n",
    "   max_index_rows.append(max_index)\n",
    "\n",
    "print(min_value_rows)\n",
    "print(min_index_rows)\n",
    "print(max_value_rows)\n",
    "print(max_index_rows)\n"
   ],
   "metadata": {
    "collapsed": false
   }
  }
 ],
 "metadata": {
  "kernelspec": {
   "display_name": "Python 3",
   "language": "python",
   "name": "python3"
  },
  "language_info": {
   "codemirror_mode": {
    "name": "ipython",
    "version": 2
   },
   "file_extension": ".py",
   "mimetype": "text/x-python",
   "name": "python",
   "nbconvert_exporter": "python",
   "pygments_lexer": "ipython2",
   "version": "2.7.6"
  }
 },
 "nbformat": 4,
 "nbformat_minor": 0
}
