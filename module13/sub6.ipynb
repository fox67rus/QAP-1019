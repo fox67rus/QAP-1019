{
 "cells": [
  {
   "cell_type": "code",
   "execution_count": null,
   "outputs": [],
   "source": [
    "# Циклы"
   ],
   "metadata": {
    "collapsed": false
   }
  },
  {
   "cell_type": "code",
   "execution_count": 2,
   "outputs": [
    {
     "name": "stdout",
     "output_type": "stream",
     "text": [
      "Значение суммы на предыдущем шаге:  0\n",
      "Текущее число:  1\n",
      "Значение суммы после сложения:  1\n",
      "---\n",
      "Значение суммы на предыдущем шаге:  1\n",
      "Текущее число:  2\n",
      "Значение суммы после сложения:  3\n",
      "---\n",
      "Значение суммы на предыдущем шаге:  3\n",
      "Текущее число:  3\n",
      "Значение суммы после сложения:  6\n",
      "---\n",
      "Значение суммы на предыдущем шаге:  6\n",
      "Текущее число:  4\n",
      "Значение суммы после сложения:  10\n",
      "---\n",
      "Значение суммы на предыдущем шаге:  10\n",
      "Текущее число:  5\n",
      "Значение суммы после сложения:  15\n",
      "---\n",
      "Конец цикла\n",
      "\n"
     ]
    },
    {
     "ename": "KeyboardInterrupt",
     "evalue": "",
     "output_type": "error",
     "traceback": [
      "\u001B[1;31m---------------------------------------------------------------------------\u001B[0m",
      "\u001B[1;31mKeyboardInterrupt\u001B[0m                         Traceback (most recent call last)",
      "Cell \u001B[1;32mIn[2], line 13\u001B[0m\n\u001B[0;32m     11\u001B[0m \u001B[38;5;28mprint\u001B[39m(\u001B[38;5;124m\"\u001B[39m\u001B[38;5;124mКонец цикла\u001B[39m\u001B[38;5;124m\"\u001B[39m)\n\u001B[0;32m     12\u001B[0m \u001B[38;5;28mprint\u001B[39m()\n\u001B[1;32m---> 13\u001B[0m \u001B[38;5;28;43mprint\u001B[39;49m(\u001B[38;5;124m\"\u001B[39m\u001B[38;5;124mОтвет: сумма равна = \u001B[39m\u001B[38;5;124m\"\u001B[39m, S)\n",
      "Cell \u001B[1;32mIn[2], line 13\u001B[0m\n\u001B[0;32m     11\u001B[0m \u001B[38;5;28mprint\u001B[39m(\u001B[38;5;124m\"\u001B[39m\u001B[38;5;124mКонец цикла\u001B[39m\u001B[38;5;124m\"\u001B[39m)\n\u001B[0;32m     12\u001B[0m \u001B[38;5;28mprint\u001B[39m()\n\u001B[1;32m---> 13\u001B[0m \u001B[38;5;28;43mprint\u001B[39;49m(\u001B[38;5;124m\"\u001B[39m\u001B[38;5;124mОтвет: сумма равна = \u001B[39m\u001B[38;5;124m\"\u001B[39m, S)\n",
      "File \u001B[1;32m_pydevd_bundle\\pydevd_cython_win32_38_64.pyx:1179\u001B[0m, in \u001B[0;36m_pydevd_bundle.pydevd_cython_win32_38_64.SafeCallWrapper.__call__\u001B[1;34m()\u001B[0m\n",
      "File \u001B[1;32m_pydevd_bundle\\pydevd_cython_win32_38_64.pyx:620\u001B[0m, in \u001B[0;36m_pydevd_bundle.pydevd_cython_win32_38_64.PyDBFrame.trace_dispatch\u001B[1;34m()\u001B[0m\n",
      "File \u001B[1;32m_pydevd_bundle\\pydevd_cython_win32_38_64.pyx:1095\u001B[0m, in \u001B[0;36m_pydevd_bundle.pydevd_cython_win32_38_64.PyDBFrame.trace_dispatch\u001B[1;34m()\u001B[0m\n",
      "File \u001B[1;32m_pydevd_bundle\\pydevd_cython_win32_38_64.pyx:1053\u001B[0m, in \u001B[0;36m_pydevd_bundle.pydevd_cython_win32_38_64.PyDBFrame.trace_dispatch\u001B[1;34m()\u001B[0m\n",
      "File \u001B[1;32mC:\\Program Files\\JetBrains\\PyCharm 2022.3.1\\plugins\\python\\helpers-pro\\jupyter_debug\\pydev_jupyter_plugin.py:169\u001B[0m, in \u001B[0;36mstop\u001B[1;34m(plugin, pydb, frame, event, args, stop_info, arg, step_cmd)\u001B[0m\n\u001B[0;32m    167\u001B[0m     frame \u001B[38;5;241m=\u001B[39m suspend_jupyter(main_debugger, thread, frame, step_cmd)\n\u001B[0;32m    168\u001B[0m     \u001B[38;5;28;01mif\u001B[39;00m frame:\n\u001B[1;32m--> 169\u001B[0m         \u001B[43mmain_debugger\u001B[49m\u001B[38;5;241;43m.\u001B[39;49m\u001B[43mdo_wait_suspend\u001B[49m\u001B[43m(\u001B[49m\u001B[43mthread\u001B[49m\u001B[43m,\u001B[49m\u001B[43m \u001B[49m\u001B[43mframe\u001B[49m\u001B[43m,\u001B[49m\u001B[43m \u001B[49m\u001B[43mevent\u001B[49m\u001B[43m,\u001B[49m\u001B[43m \u001B[49m\u001B[43marg\u001B[49m\u001B[43m)\u001B[49m\n\u001B[0;32m    170\u001B[0m         \u001B[38;5;28;01mreturn\u001B[39;00m \u001B[38;5;28;01mTrue\u001B[39;00m\n\u001B[0;32m    171\u001B[0m \u001B[38;5;28;01mreturn\u001B[39;00m \u001B[38;5;28;01mFalse\u001B[39;00m\n",
      "File \u001B[1;32mC:\\Program Files\\JetBrains\\PyCharm 2022.3.1\\plugins\\python\\helpers\\pydev\\pydevd.py:1160\u001B[0m, in \u001B[0;36mPyDB.do_wait_suspend\u001B[1;34m(self, thread, frame, event, arg, send_suspend_message, is_unhandled_exception)\u001B[0m\n\u001B[0;32m   1157\u001B[0m         from_this_thread\u001B[38;5;241m.\u001B[39mappend(frame_id)\n\u001B[0;32m   1159\u001B[0m \u001B[38;5;28;01mwith\u001B[39;00m \u001B[38;5;28mself\u001B[39m\u001B[38;5;241m.\u001B[39m_threads_suspended_single_notification\u001B[38;5;241m.\u001B[39mnotify_thread_suspended(thread_id, stop_reason):\n\u001B[1;32m-> 1160\u001B[0m     \u001B[38;5;28;43mself\u001B[39;49m\u001B[38;5;241;43m.\u001B[39;49m\u001B[43m_do_wait_suspend\u001B[49m\u001B[43m(\u001B[49m\u001B[43mthread\u001B[49m\u001B[43m,\u001B[49m\u001B[43m \u001B[49m\u001B[43mframe\u001B[49m\u001B[43m,\u001B[49m\u001B[43m \u001B[49m\u001B[43mevent\u001B[49m\u001B[43m,\u001B[49m\u001B[43m \u001B[49m\u001B[43marg\u001B[49m\u001B[43m,\u001B[49m\u001B[43m \u001B[49m\u001B[43msuspend_type\u001B[49m\u001B[43m,\u001B[49m\u001B[43m \u001B[49m\u001B[43mfrom_this_thread\u001B[49m\u001B[43m)\u001B[49m\n",
      "File \u001B[1;32mC:\\Program Files\\JetBrains\\PyCharm 2022.3.1\\plugins\\python\\helpers\\pydev\\pydevd.py:1175\u001B[0m, in \u001B[0;36mPyDB._do_wait_suspend\u001B[1;34m(self, thread, frame, event, arg, suspend_type, from_this_thread)\u001B[0m\n\u001B[0;32m   1172\u001B[0m             \u001B[38;5;28mself\u001B[39m\u001B[38;5;241m.\u001B[39m_call_mpl_hook()\n\u001B[0;32m   1174\u001B[0m         \u001B[38;5;28mself\u001B[39m\u001B[38;5;241m.\u001B[39mprocess_internal_commands()\n\u001B[1;32m-> 1175\u001B[0m         \u001B[43mtime\u001B[49m\u001B[38;5;241;43m.\u001B[39;49m\u001B[43msleep\u001B[49m\u001B[43m(\u001B[49m\u001B[38;5;241;43m0.01\u001B[39;49m\u001B[43m)\u001B[49m\n\u001B[0;32m   1177\u001B[0m \u001B[38;5;28mself\u001B[39m\u001B[38;5;241m.\u001B[39mcancel_async_evaluation(get_current_thread_id(thread), \u001B[38;5;28mstr\u001B[39m(\u001B[38;5;28mid\u001B[39m(frame)))\n\u001B[0;32m   1179\u001B[0m \u001B[38;5;66;03m# process any stepping instructions\u001B[39;00m\n",
      "\u001B[1;31mKeyboardInterrupt\u001B[0m: "
     ]
    }
   ],
   "source": [
    "S = 0  # заводим переменную-счетчик, в которой мы будем считать сумму\n",
    "N = 5\n",
    "\n",
    "# заводим цикл for, в котором мы будем проходить по всем числам от одного до N\n",
    "for i in range(1, N + 1):  # равносильно выражению for i in [1, 2, 3, ... , N -1, N]:\n",
    "    print(\"Значение суммы на предыдущем шаге: \", S)\n",
    "    print(\"Текущее число: \", i)\n",
    "    S = S + i  # cуммируем текущее число i и перезаписываем значение суммы\n",
    "    print(\"Значение суммы после сложения: \", S)\n",
    "    print(\"---\")\n",
    "print(\"Конец цикла\")\n",
    "print()\n",
    "print(\"Ответ: сумма равна = \", S)\n"
   ],
   "metadata": {
    "collapsed": false
   }
  },
  {
   "cell_type": "code",
   "execution_count": 4,
   "outputs": [
    {
     "name": "stdout",
     "output_type": "stream",
     "text": [
      "Произведение натуральных чисел от 1 до 15 равно 1307674368000\n"
     ]
    }
   ],
   "source": [
    "P = 1  # заводим переменную-счетчик, в которой мы будем считать произведение, подумайте чему она должна быть равна\n",
    "N = 5\n",
    "\n",
    "# запишите цикл for для подсчета произведения\n",
    "for i in range(1, N + 1):\n",
    "    P *= i\n",
    "\n",
    "print(f\"Произведение натуральных чисел от 1 до {N} равно {P}\")"
   ],
   "metadata": {
    "collapsed": false
   }
  },
  {
   "cell_type": "code",
   "execution_count": 8,
   "outputs": [
    {
     "name": "stdout",
     "output_type": "stream",
     "text": [
      "\n",
      "*\n",
      "**\n",
      "***\n",
      "****\n"
     ]
    }
   ],
   "source": [
    "n = 4\n",
    "\n",
    "for i in range(n + 1):\n",
    "    print('*' * i)"
   ],
   "metadata": {
    "collapsed": false
   }
  },
  {
   "cell_type": "code",
   "execution_count": 10,
   "outputs": [
    {
     "name": "stdout",
     "output_type": "stream",
     "text": [
      "Ещё считаю ...\n",
      "Ещё считаю ...\n",
      "Ещё считаю ...\n",
      "Ещё считаю ...\n",
      "Ещё считаю ...\n",
      "Ещё считаю ...\n",
      "Ещё считаю ...\n",
      "Ещё считаю ...\n",
      "Ещё считаю ...\n",
      "Ещё считаю ...\n",
      "Ещё считаю ...\n",
      "Ещё считаю ...\n",
      "Ещё считаю ...\n",
      "Ещё считаю ...\n",
      "Ещё считаю ...\n",
      "Ещё считаю ...\n",
      "Ещё считаю ...\n",
      "Ещё считаю ...\n",
      "Ещё считаю ...\n",
      "Ещё считаю ...\n",
      "Ещё считаю ...\n",
      "Ещё считаю ...\n",
      "Ещё считаю ...\n",
      "Ещё считаю ...\n",
      "Ещё считаю ...\n",
      "Ещё считаю ...\n",
      "Ещё считаю ...\n",
      "Ещё считаю ...\n",
      "Ещё считаю ...\n",
      "Ещё считаю ...\n",
      "Ещё считаю ...\n",
      "Ещё считаю ...\n",
      "Сумма равна:  528\n",
      "Количество чисел:  33\n"
     ]
    }
   ],
   "source": [
    "S = 0  # заводим переменную-счетчик, в которой мы будем считать сумму\n",
    "n = 1  # текущее натуральное число\n",
    "\n",
    "# заводим цикл while, который будет работать, пока сумма не превысит 500\n",
    "while S < 500:  # делай пока ...\n",
    "    S += n  # увеличиваем сумму, равносильно S = S + n\n",
    "    n += 1  # так как сумма ещё не достигла нужного значения, то увеличиваем переменную-счетчик\n",
    "    print(\"Ещё считаю ...\")\n",
    "\n",
    "print(\"Сумма равна: \", S)\n",
    "print(\"Количество чисел: \", n)"
   ],
   "metadata": {
    "collapsed": false
   }
  },
  {
   "cell_type": "code",
   "execution_count": 16,
   "outputs": [
    {
     "name": "stdout",
     "output_type": "stream",
     "text": [
      "Ещё считаю ... Текущее число 2\n",
      "Ещё считаю ... Текущее число 3\n",
      "Ещё считаю ... Текущее число 4\n",
      "Ещё считаю ... Текущее число 5\n",
      "Ещё считаю ... Текущее число 6\n",
      "Ещё считаю ... Текущее число 7\n",
      "Ещё считаю ... Текущее число 8\n",
      "Ещё считаю ... Текущее число 9\n",
      "Ещё считаю ... Текущее число 10\n",
      "Ещё считаю ... Текущее число 11\n",
      "Ещё считаю ... Текущее число 12\n",
      "Ещё считаю ... Текущее число 13\n",
      "Ещё считаю ... Текущее число 14\n",
      "Ещё считаю ... Текущее число 15\n",
      "Ещё считаю ... Текущее число 16\n",
      "Ещё считаю ... Текущее число 17\n",
      "Ещё считаю ... Текущее число 18\n",
      "Ещё считаю ... Текущее число 19\n",
      "Ещё считаю ... Текущее число 20\n",
      "Ещё считаю ... Текущее число 21\n",
      "Ещё считаю ... Текущее число 22\n",
      "Ещё считаю ... Текущее число 23\n",
      "Ещё считаю ... Текущее число 24\n",
      "Ещё считаю ... Текущее число 25\n",
      "Ещё считаю ... Текущее число 26\n",
      "Ещё считаю ... Текущее число 27\n",
      "Ещё считаю ... Текущее число 28\n",
      "Ещё считаю ... Текущее число 29\n",
      "Ещё считаю ... Текущее число 30\n",
      "Ещё считаю ... Текущее число 31\n",
      "Ещё считаю ... Текущее число 32\n",
      "Готово\n"
     ]
    }
   ],
   "source": [
    "M = 1\n",
    "while M ** 2 < 1000:\n",
    "    M += 1\n",
    "    print(f\"Ещё считаю ... Текущее число {M}\")\n",
    "\n",
    "print(\"Готово\")"
   ],
   "metadata": {
    "collapsed": false
   }
  },
  {
   "cell_type": "code",
   "execution_count": 18,
   "outputs": [
    {
     "name": "stdout",
     "output_type": "stream",
     "text": [
      "Hello World\n"
     ]
    }
   ],
   "source": [
    "# цикл с постусловием - тело цикла точно выполнится один раз\n",
    "n = 11\n",
    "while True:  # в данной программе это условие всегда True, цикл будет бесконечным\n",
    "   print(\"Hello World\")\n",
    "   n += 1\n",
    "   if n > 10:  # условие, при достижении которого цикл while будет принудительно завершен\n",
    "       break"
   ],
   "metadata": {
    "collapsed": false
   }
  },
  {
   "cell_type": "code",
   "execution_count": 20,
   "outputs": [
    {
     "name": "stdout",
     "output_type": "stream",
     "text": [
      "Последнее число 31\n"
     ]
    }
   ],
   "source": [
    "n = 1\n",
    "while True:\n",
    "   if n ** 2 >= 1000:\n",
    "       print(\"Последнее число\", n - 1)\n",
    "       break\n",
    "   n += 1"
   ],
   "metadata": {
    "collapsed": false
   }
  },
  {
   "cell_type": "code",
   "execution_count": 21,
   "outputs": [
    {
     "name": "stdout",
     "output_type": "stream",
     "text": [
      "0 1 2 3 4 5 "
     ]
    }
   ],
   "source": [
    "N = 2\n",
    "M = 3\n",
    "# заполнили матрицу последовательными числами\n",
    "matrix = [\n",
    "    [0, 1, 2],\n",
    "    [3, 4, 5],\n",
    "]\n",
    "\n",
    "for i in range(N):  # цикл, отвечающий за строки\n",
    "    for j in range(M):  # цикл, отвечающий за столбцы\n",
    "        print(matrix[i][j], end=\" \")"
   ],
   "metadata": {
    "collapsed": false
   }
  },
  {
   "cell_type": "code",
   "execution_count": 22,
   "outputs": [
    {
     "name": "stdout",
     "output_type": "stream",
     "text": [
      "0 1 2 \n",
      "3 4 5 \n"
     ]
    }
   ],
   "source": [
    "for i in range(N):\n",
    "    for j in range(M):\n",
    "        print(matrix[i][j], end=\" \")\n",
    "    print()  # перенос на новую строку"
   ],
   "metadata": {
    "collapsed": false
   }
  }
 ],
 "metadata": {
  "kernelspec": {
   "display_name": "Python 3",
   "language": "python",
   "name": "python3"
  },
  "language_info": {
   "codemirror_mode": {
    "name": "ipython",
    "version": 2
   },
   "file_extension": ".py",
   "mimetype": "text/x-python",
   "name": "python",
   "nbconvert_exporter": "python",
   "pygments_lexer": "ipython2",
   "version": "2.7.6"
  }
 },
 "nbformat": 4,
 "nbformat_minor": 0
}
