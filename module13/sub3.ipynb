{
 "cells": [
  {
   "cell_type": "code",
   "execution_count": null,
   "outputs": [],
   "source": [
    "print(bool(0))  # False\n",
    "print(bool(1))  # True\n",
    "\n",
    "print(bool(\"\")) # False\n",
    "print(bool(\"1\"))  # True\n",
    "\n",
    "print(bool([])) # False\n",
    "print(bool([1]))  # True"
   ],
   "metadata": {
    "collapsed": false
   }
  },
  {
   "cell_type": "code",
   "execution_count": null,
   "outputs": [],
   "source": [
    "zero = 0\n",
    "# Хорошо\n",
    "if zero:\n",
    "   print(10 / zero)\n",
    "else:\n",
    "   print(\"Делить на ноль нельзя\")"
   ],
   "metadata": {
    "collapsed": false
   }
  },
  {
   "cell_type": "code",
   "execution_count": null,
   "outputs": [],
   "source": [
    "password = ''\n",
    "# Хорошо\n",
    "if not password:\n",
    "   print(\"Вы забыли ввести пароль\")\n",
    "else:\n",
    "  print('Hello!')"
   ],
   "metadata": {
    "collapsed": false
   }
  },
  {
   "cell_type": "code",
   "execution_count": null,
   "outputs": [],
   "source": [],
   "metadata": {
    "collapsed": false
   }
  }
 ],
 "metadata": {
  "kernelspec": {
   "display_name": "Python 3",
   "language": "python",
   "name": "python3"
  },
  "language_info": {
   "codemirror_mode": {
    "name": "ipython",
    "version": 2
   },
   "file_extension": ".py",
   "mimetype": "text/x-python",
   "name": "python",
   "nbconvert_exporter": "python",
   "pygments_lexer": "ipython2",
   "version": "2.7.6"
  }
 },
 "nbformat": 4,
 "nbformat_minor": 0
}
