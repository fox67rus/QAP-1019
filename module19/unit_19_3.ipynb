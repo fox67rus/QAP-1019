{
 "cells": [
  {
   "cell_type": "markdown",
   "source": [
    "\n",
    "# 19.3. Библиотека requests\n",
    "Тип запроса GET используется, чтобы запросить данные, хранящиеся на сервере. Библиотека requests позволяет отправить такой запрос следующим образом:\n",
    "```python\n",
    "res = requests.get(url, headers=headers, params=params)\n",
    "```\n",
    "Наиболее важные свойства и методы в объекте с ответом:\n",
    "\n",
    "    res.status_code — код состояния ответа,\n",
    "    res.text — текстовые данные ответа от сервера,\n",
    "    res.json() — преобразование полученных текстовых данных в формат json, который затем можно легко использовать в качестве словаря Python.\n",
    "\n",
    "## Тип запроса POST\n",
    "```python\n",
    "res = requests.post(url, headers=headers, data=data)\n",
    "```\n",
    "- `url` и `header` — уже известные нам параметры.\n",
    "- `data` — это данные, отправляемые на сервер в теле запроса. Передаются в формате словаря data = {‘key1’: ‘value1’, ‘key2’: ‘value2’}.\n",
    "\n",
    "В `res` также возвращается результат выполнения запроса с кодом состояния и ответной информацией, как и в GET-запросе.\n",
    "\n",
    "## Тип запроса DELETE\n",
    "Используется для удаления какого-либо объекта данных на сервере. Для этого в качестве параметров запроса также обязательно передаётся url-адрес, на который делается запрос. В зависимости от того, как сервер читает входящий запрос, соответственно передаются и остальные параметры.\n",
    "\n",
    "```python\n",
    "res = requests.delete(url, **kwargs)\n",
    "```\n",
    "\n",
    "## Тип запроса PUT\n",
    "Используется для изменения данных на сервере. В качестве параметров также принимает url и данные data для внесения изменений.\n",
    "\n",
    "```python\n",
    "res = requests.put(url, data=data)\n",
    "```\n"
   ],
   "metadata": {
    "collapsed": false
   }
  },
  {
   "cell_type": "code",
   "execution_count": null,
   "outputs": [],
   "source": [],
   "metadata": {
    "collapsed": false
   }
  }
 ],
 "metadata": {
  "kernelspec": {
   "display_name": "Python 3",
   "language": "python",
   "name": "python3"
  },
  "language_info": {
   "codemirror_mode": {
    "name": "ipython",
    "version": 2
   },
   "file_extension": ".py",
   "mimetype": "text/x-python",
   "name": "python",
   "nbconvert_exporter": "python",
   "pygments_lexer": "ipython2",
   "version": "2.7.6"
  }
 },
 "nbformat": 4,
 "nbformat_minor": 0
}
