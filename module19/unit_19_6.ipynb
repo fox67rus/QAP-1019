{
 "cells": [
  {
   "cell_type": "markdown",
   "metadata": {},
   "source": [
    "# 19.6. Определяем причины упавших тестов\n",
    "\n",
    "Коды ошибок, которые делятся на пять основных групп:\n",
    "\n",
    "1ХХ — информационные коды,\n",
    "\n",
    "2ХХ — успешно,\n",
    "\n",
    "3ХХ — перенаправление,\n",
    "\n",
    "4ХХ — ошибка со стороны клиента,\n",
    "\n",
    "5ХХ — ошибка на стороне сервера.\n",
    "\n",
    "[Подробное описание](https://ru.wikipedia.org/wiki/%D0%A1%D0%BF%D0%B8%D1%81%D0%BE%D0%BA_%D0%BA%D0%BE%D0%B4%D0%BE%D0%B2_%D1%81%D0%BE%D1%81%D1%82%D0%BE%D1%8F%D0%BD%D0%B8%D1%8F_HTTP)\n",
    "\n"
   ]
  }
 ],
 "metadata": {
  "kernelspec": {
   "display_name": "Python 3 (ipykernel)",
   "language": "python",
   "name": "python3"
  },
  "language_info": {
   "codemirror_mode": {
    "name": "ipython",
    "version": 3
   },
   "file_extension": ".py",
   "mimetype": "text/x-python",
   "name": "python",
   "nbconvert_exporter": "python",
   "pygments_lexer": "ipython3",
   "version": "3.10.6"
  }
 },
 "nbformat": 4,
 "nbformat_minor": 1
}
