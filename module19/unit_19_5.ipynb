{
 "cells": [
  {
   "cell_type": "markdown",
   "metadata": {},
   "source": [
    "# 19.5. Запускаем API тесты\n",
    "\n",
    "Вы можете запускать тесты из консоли, перейдя в директорию, где лежит наш файл с тестами, и написав py.test директория/имя_файла.py.\n",
    "\n",
    "Но и здесь может возникнуть проблема: pytest будет выдавать ошибку, что не видит импортируемых модулей в строках import. Для решения этой проблемы необходимо положить в каждую папку с кодом пустой файл __init__.py. В нашем случае это папка tests.\n",
    "\n",
    "Запуск с ключами (справка pytest -h)\n",
    "- `pytest -v`\n",
    "- `pytest -v tests/test_pet_friends.py::test_successful_delete_self_pet`\n",
    "- `pytest --collect-only`\n",
    "- `pytest --lf`\n",
    "- `pytest --ff --tb=no`\n",
    "- `pytest -q`\n"
   ]
  }
 ],
 "metadata": {
  "kernelspec": {
   "display_name": "Python 3 (ipykernel)",
   "language": "python",
   "name": "python3"
  },
  "language_info": {
   "codemirror_mode": {
    "name": "ipython",
    "version": 3
   },
   "file_extension": ".py",
   "mimetype": "text/x-python",
   "name": "python",
   "nbconvert_exporter": "python",
   "pygments_lexer": "ipython3",
   "version": "3.10.6"
  }
 },
 "nbformat": 4,
 "nbformat_minor": 1
}
