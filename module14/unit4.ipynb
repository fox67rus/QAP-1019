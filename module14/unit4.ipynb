{
 "cells": [
  {
   "cell_type": "markdown",
   "source": [
    "**Функция высшего порядка** — в программировании это функция, принимающая в качестве аргументов другие функции или возвращающая другую функцию в качестве результата."
   ],
   "metadata": {
    "collapsed": false
   }
  },
  {
   "cell_type": "code",
   "execution_count": null,
   "outputs": [],
   "source": [
    "def twice_func(inside_func):\n",
    "    \"\"\"Функция, выполняющая дважды функцию принятую в качестве аргумента\"\"\"\n",
    "    inside_func()\n",
    "    inside_func()\n",
    "\n",
    "\n",
    "def hello():\n",
    "    print(\"Hello\")\n",
    "\n",
    "\n",
    "test = twice_func(hello)"
   ],
   "metadata": {
    "collapsed": false
   }
  },
  {
   "cell_type": "markdown",
   "source": [
    "**Замыкание в программировании** — это функция, в теле которой присутствуют ссылки на переменные, объявленные вне тела этой функции в окружающем коде и не являющиеся её аргументами."
   ],
   "metadata": {
    "collapsed": false
   }
  },
  {
   "cell_type": "code",
   "execution_count": null,
   "outputs": [],
   "source": [
    "def make_adder(x):\n",
    "    \"\"\" возвращает функцию, всегда прибавляющую одно и тоже число x\"\"\"\n",
    "\n",
    "    def adder(n):\n",
    "        return x + n  # захват переменной \"x\" из nonlocal области\n",
    "\n",
    "    return adder  # возвращение функции в качестве результата\n",
    "\n",
    "\n",
    "# функция, которая будет к любому числу прибавлять пятёрку\n",
    "add_5 = make_adder(5)\n",
    "print(add_5(10))  # 15\n",
    "print(add_5(100))  # 105"
   ],
   "metadata": {
    "collapsed": false
   }
  },
  {
   "cell_type": "markdown",
   "source": [
    "**Декораторы** предназначены для подключения любого дополнительного поведения к основной функции, называемой декорируемой функцией, которое может выполняться до, после или даже вместо основной функции. При этом исходный код декорируемой функции никак не затрагивается."
   ],
   "metadata": {
    "collapsed": false
   }
  },
  {
   "cell_type": "code",
   "execution_count": null,
   "outputs": [],
   "source": [
    "def my_decorator(a_function_to_decorate):\n",
    "    # Здесь мы определяем новую функцию - «обертку». Она нам нужна, чтобы выполнять\n",
    "    # каждый раз при вызове оригинальной функции, а не только один раз\n",
    "    def wrapper():\n",
    "        # здесь поместим код, который будет выполняться до вызова, потом вызов\n",
    "        # оригинальной функции, потом код после вызова\n",
    "        print(\"Я буду выполнен до основного вызова!\")\n",
    "\n",
    "        result = a_function_to_decorate()  # не забываем вернуть значение исходной функции\n",
    "\n",
    "        print(\"Я буду выполнен после основного вызова!\")\n",
    "        return result\n",
    "\n",
    "    return wrapper\n",
    "\n",
    "\n",
    "def my_function():\n",
    "    print(\"Я - оборачиваемая функция!\")\n",
    "    return 0\n",
    "\n",
    "\n",
    "print(my_function())\n",
    "print(\"-------------\")\n",
    "\n",
    "decorated_function = my_decorator(my_function)  # декорирование функции\n",
    "print(decorated_function())"
   ],
   "metadata": {
    "collapsed": false
   }
  },
  {
   "cell_type": "code",
   "execution_count": 35,
   "outputs": [
    {
     "name": "stdout",
     "output_type": "stream",
     "text": [
      "Запустилась функция <function pow_2 at 0x00000235CEF209D0>\n",
      "Функция выполнилась. Время: 0.0019938946\n",
      "Запустилась функция <function in_build_pow at 0x00000235CD17A820>\n",
      "Функция выполнилась. Время: 0.0009973049\n"
     ]
    },
    {
     "data": {
      "text/plain": "0.000997304916381836"
     },
     "execution_count": 35,
     "metadata": {},
     "output_type": "execute_result"
    }
   ],
   "source": [
    "import time\n",
    "\n",
    "\n",
    "def decorator_time(fn):\n",
    "    def wrapper():\n",
    "        print(f\"Запустилась функция {fn}\")\n",
    "        t0 = time.time()\n",
    "        result = fn()\n",
    "        dt = time.time() - t0\n",
    "        print(f\"Функция выполнилась. Время: {dt:.10f}\")\n",
    "        return dt  # задекорированная функция будет возвращать время работы\n",
    "\n",
    "    return wrapper\n",
    "\n",
    "\n",
    "def pow_2():\n",
    "    return 10000000000000000000000000000000000000000000000 ** 1000\n",
    "\n",
    "\n",
    "def in_build_pow():\n",
    "    return pow(10000000000000000000000000000000000000000000000, 1000)\n",
    "\n",
    "pow_2 = decorator_time(pow_2)\n",
    "in_build_pow = decorator_time(in_build_pow)\n",
    "\n",
    "pow_2()\n",
    "# Запустилась функция <function pow_2 at 0x7f938401b158>\n",
    "# Функция выполнилась. Время: 0.0000011921\n",
    "\n",
    "in_build_pow()\n",
    "# Запустилась функция <function in_build_pow at 0x7f938401b620>\n",
    "# Функция выполнилась. Время: 0.0000021458"
   ],
   "metadata": {
    "collapsed": false
   }
  },
  {
   "cell_type": "code",
   "execution_count": 42,
   "outputs": [
    {
     "name": "stdout",
     "output_type": "stream",
     "text": [
      "Функция <function decorator_time.<locals>.wrapper at 0x00000235CEE888B0> выполнялась 100 раз. Среднее время: 0.0000000000\n",
      "Функция <function decorator_time.<locals>.wrapper at 0x00000235CEAC8F70> выполнялась 100 раз. Среднее время: 0.0000000000\n"
     ]
    }
   ],
   "source": [
    "import time\n",
    "\n",
    "N = 100\n",
    "\n",
    "\n",
    "def decorator_time(fn):\n",
    "   def wrapper():\n",
    "       t0 = time.time()\n",
    "       result = fn()\n",
    "       dt = time.time() - t0\n",
    "       return dt\n",
    "   return wrapper\n",
    "\n",
    "\n",
    "def pow_2():\n",
    "   return 10000000 ** 2\n",
    "\n",
    "\n",
    "def in_build_pow():\n",
    "   return pow(10000000, 2)\n",
    "\n",
    "\n",
    "pow_2 = decorator_time(pow_2)\n",
    "in_build_pow = decorator_time(in_build_pow)\n",
    "\n",
    "mean_pow_2 = 0\n",
    "mean_in_build_pow = 0\n",
    "for _ in range(N):\n",
    "   mean_pow_2 += pow_2()\n",
    "   mean_in_build_pow += in_build_pow()\n",
    "\n",
    "print(f\"Функция {pow_2} выполнялась {N} раз. Среднее время: {mean_pow_2 / N:.10f}\")\n",
    "print(f\"Функция {in_build_pow} выполнялась {N} раз. Среднее время: {mean_in_build_pow / 100:.10f}\")\n"
   ],
   "metadata": {
    "collapsed": false
   }
  }
 ],
 "metadata": {
  "kernelspec": {
   "display_name": "Python 3 (ipykernel)",
   "language": "python",
   "name": "python3"
  },
  "language_info": {
   "codemirror_mode": {
    "name": "ipython",
    "version": 3
   },
   "file_extension": ".py",
   "mimetype": "text/x-python",
   "name": "python",
   "nbconvert_exporter": "python",
   "pygments_lexer": "ipython3",
   "version": "3.8.10"
  }
 },
 "nbformat": 4,
 "nbformat_minor": 1
}
