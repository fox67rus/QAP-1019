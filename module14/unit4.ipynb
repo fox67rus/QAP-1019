{
 "cells": [
  {
   "cell_type": "markdown",
   "source": [
    "**Функция высшего порядка** — в программировании это функция, принимающая в качестве аргументов другие функции или возвращающая другую функцию в качестве результата."
   ],
   "metadata": {
    "collapsed": false
   }
  },
  {
   "cell_type": "code",
   "execution_count": 1,
   "outputs": [
    {
     "name": "stdout",
     "output_type": "stream",
     "text": [
      "Hello\n",
      "Hello\n"
     ]
    }
   ],
   "source": [
    "def twice_func(inside_func):\n",
    "   \"\"\"Функция, выполняющая дважды функцию принятую в качестве аргумента\"\"\"\n",
    "   inside_func()\n",
    "   inside_func()\n",
    "\n",
    "def hello():\n",
    "   print(\"Hello\")\n",
    "\n",
    "test = twice_func(hello)"
   ],
   "metadata": {
    "collapsed": false
   }
  },
  {
   "cell_type": "markdown",
   "source": [
    "**Замыкание в программировании** — это функция, в теле которой присутствуют ссылки на переменные, объявленные вне тела этой функции в окружающем коде и не являющиеся её аргументами."
   ],
   "metadata": {
    "collapsed": false
   }
  },
  {
   "cell_type": "code",
   "execution_count": 2,
   "outputs": [
    {
     "name": "stdout",
     "output_type": "stream",
     "text": [
      "15\n",
      "105\n"
     ]
    }
   ],
   "source": [
    "def make_adder(x):\n",
    "   \"\"\" возвращает функцию, всегда прибавляющую одно и тоже число x\"\"\"\n",
    "   def adder(n):\n",
    "       return x + n # захват переменной \"x\" из nonlocal области\n",
    "   return adder  # возвращение функции в качестве результата\n",
    "\n",
    "# функция, которая будет к любому числу прибавлять пятёрку\n",
    "add_5 = make_adder(5)\n",
    "print(add_5(10))  # 15\n",
    "print(add_5(100))  # 105"
   ],
   "metadata": {
    "collapsed": false
   }
  }
 ],
 "metadata": {
  "kernelspec": {
   "display_name": "Python 3 (ipykernel)",
   "language": "python",
   "name": "python3"
  },
  "language_info": {
   "codemirror_mode": {
    "name": "ipython",
    "version": 3
   },
   "file_extension": ".py",
   "mimetype": "text/x-python",
   "name": "python",
   "nbconvert_exporter": "python",
   "pygments_lexer": "ipython3",
   "version": "3.8.10"
  }
 },
 "nbformat": 4,
 "nbformat_minor": 1
}
