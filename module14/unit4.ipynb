{
 "cells": [
  {
   "cell_type": "markdown",
   "source": [
    "**Функция высшего порядка** — в программировании это функция, принимающая в качестве аргументов другие функции или возвращающая другую функцию в качестве результата."
   ],
   "metadata": {
    "collapsed": false
   }
  },
  {
   "cell_type": "code",
   "execution_count": 1,
   "outputs": [
    {
     "name": "stdout",
     "output_type": "stream",
     "text": [
      "Hello\n",
      "Hello\n"
     ]
    }
   ],
   "source": [
    "def twice_func(inside_func):\n",
    "   \"\"\"Функция, выполняющая дважды функцию принятую в качестве аргумента\"\"\"\n",
    "   inside_func()\n",
    "   inside_func()\n",
    "\n",
    "def hello():\n",
    "   print(\"Hello\")\n",
    "\n",
    "test = twice_func(hello)"
   ],
   "metadata": {
    "collapsed": false
   }
  }
 ],
 "metadata": {
  "kernelspec": {
   "display_name": "Python 3 (ipykernel)",
   "language": "python",
   "name": "python3"
  },
  "language_info": {
   "codemirror_mode": {
    "name": "ipython",
    "version": 3
   },
   "file_extension": ".py",
   "mimetype": "text/x-python",
   "name": "python",
   "nbconvert_exporter": "python",
   "pygments_lexer": "ipython3",
   "version": "3.8.10"
  }
 },
 "nbformat": 4,
 "nbformat_minor": 1
}
