{
 "cells": [
  {
   "cell_type": "code",
   "execution_count": 6,
   "outputs": [
    {
     "name": "stdout",
     "output_type": "stream",
     "text": [
      "4.5\n",
      "Нет корней\n",
      "Бесконечное количество корней\n"
     ]
    }
   ],
   "source": [
    "def linear_solve(a, b):\n",
    "    if a:  # помним, что 0 интерпретируется как False, иначе — True\n",
    "        return b / a\n",
    "    elif not a and not b:  # снова используем числа в логических выражениях\n",
    "        return \"Бесконечное количество корней\"\n",
    "    else:\n",
    "        return \"Нет корней\"\n",
    "\n",
    "\n",
    "# 2*x = 9\n",
    "print(linear_solve(2, 9))\n",
    "\n",
    "# 0*x = 1\n",
    "print(linear_solve(0, 1))\n",
    "\n",
    "# 0*x = 0\n",
    "print(linear_solve(0, 0))"
   ],
   "metadata": {
    "collapsed": false
   }
  },
  {
   "cell_type": "code",
   "execution_count": 8,
   "outputs": [
    {
     "name": "stdout",
     "output_type": "stream",
     "text": [
      "(-1.0, 1.0)\n"
     ]
    }
   ],
   "source": [
    "# a*x**2 + b*x + c = 0 - общий вид уравнения\n",
    "# D = b**2 - 4*a*c - дискриминант\n",
    "# Если D<0, то уравнение не имеет вещественных корней\n",
    "# Если D=0, то уравнение имеет один корень - x = -b/(2*a)\n",
    "# Если D>0, то уравнение имеет два корня\n",
    "# x1 = (-b - D**0.5)/(2*a)\n",
    "# x2 = (-b + D**0.5)/(2*a)\n",
    "#\n",
    "# P.S. D**0.5 - равносильно извлечению квадратного корня\n",
    "\n",
    "def discriminant(a, b, c):\n",
    "    return b ** 2 - 4 * a * c\n",
    "\n",
    "\n",
    "def quadratic_solve(a, b, c):\n",
    "    if discriminant(a, b, c) < 0:\n",
    "        return \"Нет вещественных корней\"\n",
    "    elif discriminant(a, b, c) == 0:\n",
    "        return -b / (2 * a)\n",
    "    else:\n",
    "        return (-b - discriminant(a, b, c) ** 0.5) / (2 * a), (-b + discriminant(a, b, c) ** 0.5) / (2 * a)\n",
    "\n",
    "\n",
    "# разбили строку из input и преобразовали к float\n",
    "# Ввод строки 1 0 -1\n",
    "L = list(map(float, input().split()))\n",
    "# Вывод [1.0, 0.0, -1.0]\n",
    "# [1, 0, -1] - например\n",
    "\n",
    "print(quadratic_solve(L[0], L[1], L[2]))"
   ],
   "metadata": {
    "collapsed": false
   }
  },
  {
   "cell_type": "markdown",
   "source": [
    "### Практический совет: побочные эффекты\n",
    "В результате работы функции может произойти много чего. Иногда это предсказуемо, иногда не очень. Однако предсказуемое поведение функций принято проектировать согласно принципам функционального программирования. И один из главных принципов рекомендует создавать функции без побочных эффектов (side effects).\n",
    "\n",
    "К ним относят:\n",
    "\n",
    "- изменение переменных, находящихся на более высоком уровне видимости;\n",
    "- ввод/вывод данных;\n",
    "- чтение/запись в файл и др."
   ],
   "metadata": {
    "collapsed": false
   }
  },
  {
   "cell_type": "code",
   "execution_count": 9,
   "outputs": [
    {
     "data": {
      "text/plain": "1"
     },
     "execution_count": 9,
     "metadata": {},
     "output_type": "execute_result"
    }
   ],
   "source": [
    "# Напишите рекурсивную функцию, находящую минимальный элемент списка без использование циклов и встроенной функции min().\n",
    "def rec_min(list_):\n",
    "    if len(list_) == 1:\n",
    "        return list_[0]\n",
    "\n",
    "    return list_[0] if list_[0] < rec_min(list_[1:]) else rec_min(list_[1:])\n",
    "\n",
    "\n",
    "rec_min([1, 2, 3, 4, 5, 6, 8, 7, 1, 2, 3, 4, 5, 6, 8, 7, 1, 2, 3, 5])"
   ],
   "metadata": {
    "collapsed": false
   }
  },
  {
   "cell_type": "code",
   "execution_count": 19,
   "outputs": [
    {
     "data": {
      "text/plain": "5312"
     },
     "execution_count": 19,
     "metadata": {},
     "output_type": "execute_result"
    }
   ],
   "source": [
    "# Напишите рекурсивную функцию, которая зеркально разворачивает число. Предполагается, что число не содержит нули\n",
    "# Ответ\n",
    "def mirror(a, res=0):\n",
    "    if a == 0:\n",
    "        return res\n",
    "    else:\n",
    "        return mirror(a // 10, res * 10 + a % 10)\n",
    "\n",
    "\n",
    "mirror(35)\n",
    "mirror(135)\n",
    "mirror(2135)"
   ],
   "metadata": {
    "collapsed": false
   }
  },
  {
   "cell_type": "markdown",
   "source": [
    "### Задание 14.5.11\n",
    "реализовать функцию equal(N, S), проверяющую, совпадает ли сумма цифр числа N с числом S.\n",
    "При написании программы следует обратить внимание на то, что, если S стала отрицательной, то необходимо сразу вернуть False."
   ],
   "metadata": {
    "collapsed": false
   }
  },
  {
   "cell_type": "code",
   "execution_count": 20,
   "outputs": [
    {
     "data": {
      "text/plain": "False"
     },
     "execution_count": 20,
     "metadata": {},
     "output_type": "execute_result"
    }
   ],
   "source": [
    "def equal(N, S):\n",
    "    if S < 0:\n",
    "        return False\n",
    "    if N < 10:\n",
    "        return N == S\n",
    "    else:\n",
    "        return equal(N // 10, S - N % 10)\n",
    "\n",
    "\n",
    "equal(35,8)\n",
    "equal(355,8)"
   ],
   "metadata": {
    "collapsed": false
   }
  },
  {
   "cell_type": "code",
   "execution_count": 21,
   "outputs": [
    {
     "name": "stdout",
     "output_type": "stream",
     "text": [
      "2.7181652432261854\n"
     ]
    }
   ],
   "source": [
    "def e():\n",
    "    n = 1\n",
    "    while True:\n",
    "        yield (1 + 1/n)**n\n",
    "        n += 1\n",
    "\n",
    "last = 0\n",
    "for a in e(): # e() - генератор\n",
    "    if (a - last) < 0.00000001: # ограничение на точность\n",
    "        print(a)\n",
    "        break # после достижения которого - завершаем цикл\n",
    "    else:\n",
    "        last = a # иначе - присваиваем новое значение"
   ],
   "metadata": {
    "collapsed": false
   }
  },
  {
   "cell_type": "code",
   "execution_count": 23,
   "outputs": [
    {
     "name": "stdout",
     "output_type": "stream",
     "text": [
      "H\n",
      "e\n",
      "l\n",
      "l\n",
      "o\n",
      "!\n"
     ]
    },
    {
     "ename": "StopIteration",
     "evalue": "",
     "output_type": "error",
     "traceback": [
      "\u001B[1;31m---------------------------------------------------------------------------\u001B[0m",
      "\u001B[1;31mStopIteration\u001B[0m                             Traceback (most recent call last)",
      "Cell \u001B[1;32mIn[23], line 9\u001B[0m\n\u001B[0;32m      7\u001B[0m \u001B[38;5;28mprint\u001B[39m(\u001B[38;5;28mnext\u001B[39m(iter_obj))\n\u001B[0;32m      8\u001B[0m \u001B[38;5;28mprint\u001B[39m(\u001B[38;5;28mnext\u001B[39m(iter_obj))\n\u001B[1;32m----> 9\u001B[0m \u001B[38;5;28mprint\u001B[39m(\u001B[38;5;28;43mnext\u001B[39;49m\u001B[43m(\u001B[49m\u001B[43miter_obj\u001B[49m\u001B[43m)\u001B[49m)\n",
      "\u001B[1;31mStopIteration\u001B[0m: "
     ]
    }
   ],
   "source": [
    "iter_obj = iter(\"Hello!\")\n",
    "\n",
    "print(next(iter_obj))\n",
    "print(next(iter_obj))\n",
    "print(next(iter_obj))\n",
    "print(next(iter_obj))\n",
    "print(next(iter_obj))\n",
    "print(next(iter_obj))\n",
    "print(next(iter_obj))"
   ],
   "metadata": {
    "collapsed": false
   }
  },
  {
   "cell_type": "markdown",
   "source": [
    "Пусть у нас есть функция, которая должна извлекать из базы данных какую-то информацию. На начальном этапе разработки мы не заботились о том, что это можно делать только при условии, что пользователь программы авторизовался, но сейчас время пришло. Попробуем написать декоратор, который позволяет вызвать функцию, только если она вызывается авторизованным пользователем."
   ],
   "metadata": {
    "collapsed": false
   }
  },
  {
   "cell_type": "code",
   "execution_count": 2,
   "outputs": [
    {
     "name": "stdout",
     "output_type": "stream",
     "text": [
      "Пользователь неавторизован. Функция выполнена не будет\n"
     ]
    }
   ],
   "source": [
    "yesno = input(\"\"\"Введите Y, если хотите авторизоваться или N,\n",
    "             если хотите продолжить работу как анонимный пользователь: \"\"\")\n",
    "\n",
    "auth = yesno == \"Y\"\n",
    "\n",
    "def is_auth(func):\n",
    "    def wrapper():\n",
    "        if auth:\n",
    "            print(\"Пользователь авторизован\")\n",
    "            func()\n",
    "        else:\n",
    "            print(\"Пользователь неавторизован. Функция выполнена не будет\")\n",
    "    return wrapper\n",
    "\n",
    "@is_auth\n",
    "def from_db():\n",
    "    print(\"some data from database\")\n",
    "\n",
    "from_db()"
   ],
   "metadata": {
    "collapsed": false
   }
  }
 ],
 "metadata": {
  "kernelspec": {
   "display_name": "Python 3 (ipykernel)",
   "language": "python",
   "name": "python3"
  },
  "language_info": {
   "codemirror_mode": {
    "name": "ipython",
    "version": 3
   },
   "file_extension": ".py",
   "mimetype": "text/x-python",
   "name": "python",
   "nbconvert_exporter": "python",
   "pygments_lexer": "ipython3",
   "version": "3.8.10"
  }
 },
 "nbformat": 4,
 "nbformat_minor": 1
}
