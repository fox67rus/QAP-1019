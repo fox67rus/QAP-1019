{
 "cells": [
  {
   "cell_type": "code",
   "execution_count": 45,
   "metadata": {
    "collapsed": true
   },
   "outputs": [
    {
     "name": "stdout",
     "output_type": "stream",
     "text": [
      "4\n"
     ]
    }
   ],
   "source": [
    "def print_2_add_2():\n",
    "    result = 2 + 2\n",
    "    print(result)\n",
    "\n",
    "\n",
    "print_2_add_2()"
   ]
  },
  {
   "cell_type": "code",
   "execution_count": 46,
   "metadata": {},
   "outputs": [
    {
     "name": "stdout",
     "output_type": "stream",
     "text": [
      "hello world\n"
     ]
    }
   ],
   "source": [
    "def hello_world():\n",
    "    print(\"hello world\")\n",
    "\n",
    "\n",
    "hello_world()"
   ]
  },
  {
   "cell_type": "code",
   "execution_count": 47,
   "metadata": {},
   "outputs": [
    {
     "name": "stdout",
     "output_type": "stream",
     "text": [
      "9\n",
      "125\n"
     ]
    }
   ],
   "source": [
    "# функция, которая возводит любое число в степень n\n",
    "def pow_func(base, n=2):\n",
    "    print(base ** n)\n",
    "\n",
    "\n",
    "pow_func(3)  # 9\n",
    "pow_func(5, 3)  # 125"
   ]
  },
  {
   "cell_type": "code",
   "execution_count": 48,
   "metadata": {},
   "outputs": [
    {
     "name": "stdout",
     "output_type": "stream",
     "text": [
      "Число 2 является делителем числа 10\n",
      "Число 2 не является делителем числа 5\n",
      "Число 2 является делителем числа 6\n"
     ]
    }
   ],
   "source": [
    "def divider(a, n):\n",
    "    if a % n == 0:\n",
    "        print(f\"Число {n} является делителем числа {a}\")\n",
    "    else:\n",
    "        print(f\"Число {n} не является делителем числа {a}\")\n",
    "\n",
    "\n",
    "divider(10, 2)\n",
    "divider(5, 2)\n",
    "divider(6, 2)"
   ]
  },
  {
   "cell_type": "code",
   "execution_count": 49,
   "metadata": {},
   "outputs": [
    {
     "name": "stdout",
     "output_type": "stream",
     "text": [
      "****\n",
      "***\n",
      "**\n",
      "*\n"
     ]
    }
   ],
   "source": [
    "def reverse_ladder(n):\n",
    "    for i in range(n, 0, -1):\n",
    "        print(\"*\" * i)\n",
    "\n",
    "\n",
    "reverse_ladder(4)"
   ]
  },
  {
   "cell_type": "code",
   "execution_count": 50,
   "metadata": {},
   "outputs": [
    {
     "data": {
      "text/plain": [
       "4"
      ]
     },
     "execution_count": 50,
     "metadata": {},
     "output_type": "execute_result"
    }
   ],
   "source": [
    "def divider_count(a):\n",
    "    count = 0\n",
    "    for i in range(1, a + 1):\n",
    "        if a % i == 0:\n",
    "            count += 1\n",
    "    return count\n",
    "\n",
    "divider_count(5)\n",
    "divider_count(6)"
   ]
  },
  {
   "cell_type": "code",
   "execution_count": 54,
   "metadata": {},
   "outputs": [
    {
     "data": {
      "text/plain": [
       "False"
      ]
     },
     "execution_count": 54,
     "metadata": {},
     "output_type": "execute_result"
    }
   ],
   "source": [
    "def check_palindrome(text):\n",
    "    text = text.lower().replace(\" \", \"\")\n",
    "\n",
    "    if text == text[::-1]:\n",
    "        return True\n",
    "    else:\n",
    "        return False\n",
    "\n",
    "check_palindrome(\"Кит на море не романтик\")\n",
    "check_palindrome(\"test\")"
   ]
  }
 ],
 "metadata": {
  "kernelspec": {
   "display_name": "Python 3 (ipykernel)",
   "language": "python",
   "name": "python3"
  },
  "language_info": {
   "codemirror_mode": {
    "name": "ipython",
    "version": 3
   },
   "file_extension": ".py",
   "mimetype": "text/x-python",
   "name": "python",
   "nbconvert_exporter": "python",
   "pygments_lexer": "ipython3",
   "version": "3.8.10"
  }
 },
 "nbformat": 4,
 "nbformat_minor": 1
}
