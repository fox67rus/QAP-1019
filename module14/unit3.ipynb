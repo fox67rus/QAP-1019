{
 "cells": [
  {
   "cell_type": "code",
   "execution_count": null,
   "outputs": [],
   "source": [
    "def fib():\n",
    "    a, b = 0, 1\n",
    "    yield a\n",
    "    yield b\n",
    "    while True:\n",
    "        a, b = b, a + b\n",
    "        yield b\n",
    "\n",
    "\n",
    "for num in fib():\n",
    "    print(num)"
   ],
   "metadata": {
    "collapsed": false
   }
  },
  {
   "cell_type": "code",
   "execution_count": null,
   "outputs": [],
   "source": [
    "import time\n",
    "\n",
    "\n",
    "def sequence_of_natural_numbers(start=1, step=1):\n",
    "    number = start\n",
    "    while True:\n",
    "        yield number\n",
    "        number += step\n",
    "\n",
    "\n",
    "for num in sequence_of_natural_numbers(10, 10):\n",
    "    print(num)\n",
    "    time.sleep(1)"
   ],
   "metadata": {
    "collapsed": false
   }
  },
  {
   "cell_type": "code",
   "execution_count": null,
   "outputs": [],
   "source": [
    "def generator(massive=[1, 2, 3]):\n",
    "    while True:\n",
    "        for num in massive:\n",
    "            yield num\n",
    "\n",
    "\n",
    "for i in generator():\n",
    "    print(i)\n",
    "    time.sleep(1)\n",
    "\n"
   ],
   "metadata": {
    "collapsed": false
   }
  },
  {
   "cell_type": "code",
   "execution_count": null,
   "outputs": [],
   "source": [
    "def repeat_list(list_):\n",
    "    list_values = list_.copy()\n",
    "    while True:\n",
    "        value = list_values.pop(0)\n",
    "        list_values.append(value)\n",
    "        yield value\n",
    "\n",
    "\n",
    "for i in repeat_list([1, 2, 3]):\n",
    "    print(i)\n",
    "    time.sleep(1)"
   ],
   "metadata": {
    "collapsed": false
   }
  }
 ],
 "metadata": {
  "kernelspec": {
   "display_name": "Python 3 (ipykernel)",
   "language": "python",
   "name": "python3"
  },
  "language_info": {
   "codemirror_mode": {
    "name": "ipython",
    "version": 3
   },
   "file_extension": ".py",
   "mimetype": "text/x-python",
   "name": "python",
   "nbconvert_exporter": "python",
   "pygments_lexer": "ipython3",
   "version": "3.8.10"
  }
 },
 "nbformat": 4,
 "nbformat_minor": 1
}
