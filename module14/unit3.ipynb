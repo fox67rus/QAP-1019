{
 "cells": [
  {
   "cell_type": "code",
   "execution_count": null,
   "metadata": {},
   "outputs": [],
   "source": [
    "def fib():\n",
    "    a, b = 0, 1\n",
    "    yield a\n",
    "    yield b\n",
    "    while True:\n",
    "        a, b = b, a + b\n",
    "        yield b\n",
    "\n",
    "\n",
    "for num in fib():\n",
    "    print(num)"
   ]
  },
  {
   "cell_type": "code",
   "execution_count": null,
   "metadata": {},
   "outputs": [],
   "source": [
    "import time\n",
    "\n",
    "\n",
    "def sequence_of_natural_numbers(start=1, step=1):\n",
    "    number = start\n",
    "    while True:\n",
    "        yield number\n",
    "        number += step\n",
    "\n",
    "\n",
    "for num in sequence_of_natural_numbers(10, 10):\n",
    "    print(num)\n",
    "    time.sleep(1)"
   ]
  },
  {
   "cell_type": "code",
   "execution_count": 20,
   "outputs": [
    {
     "name": "stdout",
     "output_type": "stream",
     "text": [
      "100\n",
      "110\n",
      "120\n",
      "130\n",
      "140\n",
      "150\n",
      "160\n",
      "170\n",
      "180\n",
      "190\n"
     ]
    }
   ],
   "source": [
    "my_gen_func = sequence_of_natural_numbers(100,10)\n",
    "for i in range(10):\n",
    "    print(next(my_gen_func))"
   ],
   "metadata": {
    "collapsed": false
   }
  },
  {
   "cell_type": "code",
   "execution_count": null,
   "metadata": {},
   "outputs": [],
   "source": [
    "def generator(massive=[1, 2, 3]):\n",
    "    while True:\n",
    "        for num in massive:\n",
    "            yield num\n",
    "\n",
    "\n",
    "for i in generator():\n",
    "    print(i)\n",
    "    time.sleep(1)\n",
    "\n"
   ]
  },
  {
   "cell_type": "code",
   "execution_count": null,
   "metadata": {},
   "outputs": [],
   "source": [
    "def repeat_list(list_):\n",
    "    list_values = list_.copy()\n",
    "    while True:\n",
    "        value = list_values.pop(0)\n",
    "        list_values.append(value)\n",
    "        yield value\n",
    "\n",
    "\n",
    "for i in repeat_list([1, 2, 3]):\n",
    "    print(i)\n",
    "    time.sleep(1)"
   ]
  },
  {
   "cell_type": "markdown",
   "metadata": {},
   "source": [
    "Логика работы с итераторами в языке Python следующая:\n",
    "\n",
    "Получаем итератор с помощью функции iter(iterable_object).\n",
    "Вызываем много раз next(iterator) от полученного итератора.\n",
    "Когда получим ошибку StopIteration, прекращаем работу.\n",
    "В качестве примера возьмем строку и получим от неё итератор:"
   ]
  },
  {
   "cell_type": "code",
   "execution_count": 19,
   "metadata": {},
   "outputs": [
    {
     "name": "stdout",
     "output_type": "stream",
     "text": [
      "<class 'str'>\n",
      "<class 'str_iterator'>\n",
      "m\n",
      "y\n",
      " \n",
      "t\n",
      "e\n",
      "s\n",
      "t\n"
     ]
    },
    {
     "ename": "StopIteration",
     "evalue": "",
     "output_type": "error",
     "traceback": [
      "\u001B[1;31m---------------------------------------------------------------------------\u001B[0m",
      "\u001B[1;31mStopIteration\u001B[0m                             Traceback (most recent call last)",
      "Cell \u001B[1;32mIn[19], line 17\u001B[0m\n\u001B[0;32m     15\u001B[0m \u001B[38;5;28mprint\u001B[39m(\u001B[38;5;28mnext\u001B[39m(text_iter))\n\u001B[0;32m     16\u001B[0m \u001B[38;5;28mprint\u001B[39m(\u001B[38;5;28mnext\u001B[39m(text_iter))\n\u001B[1;32m---> 17\u001B[0m \u001B[38;5;28mprint\u001B[39m(\u001B[38;5;28;43mnext\u001B[39;49m\u001B[43m(\u001B[49m\u001B[43mtext_iter\u001B[49m\u001B[43m)\u001B[49m)\n",
      "\u001B[1;31mStopIteration\u001B[0m: "
     ]
    }
   ],
   "source": [
    "text = \"my test\"\n",
    "text_iter = iter(text)\n",
    "\n",
    "print(type(text))  # строка\n",
    "print(type(text_iter))  # итератор строки\n",
    "\n",
    "# Получим первый элемент строки\n",
    "print(next(text_iter))  # m\n",
    "\n",
    "# Получим ещё несколько элементов последовательности\n",
    "print(next(text_iter))\n",
    "print(next(text_iter))\n",
    "print(next(text_iter))\n",
    "print(next(text_iter))\n",
    "print(next(text_iter))\n",
    "print(next(text_iter))\n",
    "# Проверить, что будет происходить после окончания последовательности\n",
    "print(next(text_iter))"
   ]
  },
  {
   "cell_type": "code",
   "execution_count": 24,
   "outputs": [
    {
     "name": "stdout",
     "output_type": "stream",
     "text": [
      "5\n",
      "6\n"
     ]
    },
    {
     "ename": "StopIteration",
     "evalue": "",
     "output_type": "error",
     "traceback": [
      "\u001B[1;31m---------------------------------------------------------------------------\u001B[0m",
      "\u001B[1;31mStopIteration\u001B[0m                             Traceback (most recent call last)",
      "Cell \u001B[1;32mIn[24], line 9\u001B[0m\n\u001B[0;32m      6\u001B[0m my_gen_func \u001B[38;5;241m=\u001B[39m first_gen(\u001B[38;5;241m5\u001B[39m)\n\u001B[0;32m      8\u001B[0m \u001B[38;5;28mprint\u001B[39m(\u001B[38;5;28mnext\u001B[39m(my_gen_func))\n\u001B[1;32m----> 9\u001B[0m \u001B[38;5;28mprint\u001B[39m(\u001B[38;5;28;43mnext\u001B[39;49m\u001B[43m(\u001B[49m\u001B[43mmy_gen_func\u001B[49m\u001B[43m)\u001B[49m)\n",
      "\u001B[1;31mStopIteration\u001B[0m: "
     ]
    }
   ],
   "source": [
    "def first_gen(input_):\n",
    "    yield input_\n",
    "    input_ += 1\n",
    "    print(input_)\n",
    "\n",
    "my_gen_func = first_gen(5)\n",
    "\n",
    "print(next(my_gen_func))\n",
    "print(next(my_gen_func))"
   ],
   "metadata": {
    "collapsed": false
   }
  }
 ],
 "metadata": {
  "kernelspec": {
   "display_name": "Python 3 (ipykernel)",
   "language": "python",
   "name": "python3"
  },
  "language_info": {
   "codemirror_mode": {
    "name": "ipython",
    "version": 3
   },
   "file_extension": ".py",
   "mimetype": "text/x-python",
   "name": "python",
   "nbconvert_exporter": "python",
   "pygments_lexer": "ipython3",
   "version": "3.8.10"
  }
 },
 "nbformat": 4,
 "nbformat_minor": 1
}
