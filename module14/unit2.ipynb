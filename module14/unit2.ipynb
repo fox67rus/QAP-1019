{
 "cells": [
  {
   "cell_type": "code",
   "execution_count": 2,
   "outputs": [
    {
     "name": "stdout",
     "output_type": "stream",
     "text": [
      "3\n",
      "10\n"
     ]
    }
   ],
   "source": [
    "x = 3\n",
    "\n",
    "\n",
    "def func():\n",
    "   global x # объявляем, что переменная является глобальной\n",
    "   print(x)\n",
    "   x = 5\n",
    "   x += 5\n",
    "   return x\n",
    "\n",
    "\n",
    "func()\n",
    "print(x)"
   ],
   "metadata": {
    "collapsed": false
   }
  },
  {
   "cell_type": "code",
   "execution_count": 3,
   "outputs": [
    {
     "data": {
      "text/plain": "10"
     },
     "execution_count": 3,
     "metadata": {},
     "output_type": "execute_result"
    }
   ],
   "source": [
    "def get_mul_func(m):\n",
    "   nonlocal_m = m\n",
    "   def local_mul(n):\n",
    "       return n * nonlocal_m\n",
    "\n",
    "   return local_mul\n",
    "\n",
    "two_mul = get_mul_func(2)  # возвращаем функцию, которая будет умножать числа на 2\n",
    "two_mul(5)  # 5 * 2"
   ],
   "metadata": {
    "collapsed": false
   }
  },
  {
   "cell_type": "code",
   "execution_count": 4,
   "outputs": [
    {
     "name": "stdout",
     "output_type": "stream",
     "text": [
      "[[1, 2, 3], 4, 5, 6]\n",
      "[1, 2, 3, 4, 5, 6]\n"
     ]
    }
   ],
   "source": [
    "a = [1, 2, 3]\n",
    "b = [a, 4, 5, 6]\n",
    "print(b)\n",
    "# [[1, 2, 3], 4, 5, 6]\n",
    "\n",
    "a = [1, 2, 3]\n",
    "b = [*a, 4, 5, 6]\n",
    "print(b)"
   ],
   "metadata": {
    "collapsed": false
   }
  },
  {
   "cell_type": "code",
   "execution_count": 5,
   "outputs": [
    {
     "name": "stdout",
     "output_type": "stream",
     "text": [
      "[1, 2, 3]\n",
      "1 2 3\n"
     ]
    }
   ],
   "source": [
    "print(a) # [1, 2, 3]\n",
    "print(*a)  # 1 2 3"
   ],
   "metadata": {
    "collapsed": false
   }
  },
  {
   "cell_type": "code",
   "execution_count": 6,
   "outputs": [
    {
     "name": "stdout",
     "output_type": "stream",
     "text": [
      "0\n",
      "1\n",
      "3\n",
      "6\n"
     ]
    }
   ],
   "source": [
    "def adder(*nums):\n",
    "   sum_ = 0\n",
    "   for n in nums:\n",
    "       sum_ += n\n",
    "\n",
    "   return sum_\n",
    "\n",
    "\n",
    "print(adder())  # 0\n",
    "print(adder(1))  # 1\n",
    "print(adder(1, 2))  # 3\n",
    "print(adder(1, 2, 3))  # 6"
   ],
   "metadata": {
    "collapsed": false
   }
  },
  {
   "cell_type": "code",
   "execution_count": 8,
   "outputs": [
    {
     "name": "stdout",
     "output_type": "stream",
     "text": [
      "1\n",
      "1\n",
      "2\n",
      "6\n"
     ]
    }
   ],
   "source": [
    "def muler(*nums):\n",
    "   mul = 1\n",
    "   for n in nums:\n",
    "       mul *= n\n",
    "\n",
    "   return mul\n",
    "\n",
    "\n",
    "print(muler())\n",
    "print(muler(1))\n",
    "print(muler(1, 2))\n",
    "print(muler(1, 2, 3))"
   ],
   "metadata": {
    "collapsed": false
   }
  }
 ],
 "metadata": {
  "kernelspec": {
   "display_name": "Python 3 (ipykernel)",
   "language": "python",
   "name": "python3"
  },
  "language_info": {
   "codemirror_mode": {
    "name": "ipython",
    "version": 3
   },
   "file_extension": ".py",
   "mimetype": "text/x-python",
   "name": "python",
   "nbconvert_exporter": "python",
   "pygments_lexer": "ipython3",
   "version": "3.8.10"
  }
 },
 "nbformat": 4,
 "nbformat_minor": 1
}
