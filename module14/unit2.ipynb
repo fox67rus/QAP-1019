{
 "cells": [
  {
   "cell_type": "code",
   "execution_count": 2,
   "outputs": [
    {
     "name": "stdout",
     "output_type": "stream",
     "text": [
      "3\n",
      "10\n"
     ]
    }
   ],
   "source": [
    "x = 3\n",
    "\n",
    "\n",
    "def func():\n",
    "   global x # объявляем, что переменная является глобальной\n",
    "   print(x)\n",
    "   x = 5\n",
    "   x += 5\n",
    "   return x\n",
    "\n",
    "\n",
    "func()\n",
    "print(x)"
   ],
   "metadata": {
    "collapsed": false
   }
  },
  {
   "cell_type": "code",
   "execution_count": 3,
   "outputs": [
    {
     "data": {
      "text/plain": "10"
     },
     "execution_count": 3,
     "metadata": {},
     "output_type": "execute_result"
    }
   ],
   "source": [
    "def get_mul_func(m):\n",
    "   nonlocal_m = m\n",
    "   def local_mul(n):\n",
    "       return n * nonlocal_m\n",
    "\n",
    "   return local_mul\n",
    "\n",
    "two_mul = get_mul_func(2)  # возвращаем функцию, которая будет умножать числа на 2\n",
    "two_mul(5)  # 5 * 2"
   ],
   "metadata": {
    "collapsed": false
   }
  }
 ],
 "metadata": {
  "kernelspec": {
   "display_name": "Python 3 (ipykernel)",
   "language": "python",
   "name": "python3"
  },
  "language_info": {
   "codemirror_mode": {
    "name": "ipython",
    "version": 3
   },
   "file_extension": ".py",
   "mimetype": "text/x-python",
   "name": "python",
   "nbconvert_exporter": "python",
   "pygments_lexer": "ipython3",
   "version": "3.8.10"
  }
 },
 "nbformat": 4,
 "nbformat_minor": 1
}
