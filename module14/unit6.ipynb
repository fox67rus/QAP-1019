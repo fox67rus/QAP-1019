{
 "cells": [
  {
   "cell_type": "markdown",
   "source": [
    "### 14.6. Lambda функции. Встроенные методы map, filter"
   ],
   "metadata": {
    "collapsed": false
   }
  },
  {
   "cell_type": "markdown",
   "source": [
    "Особенность функции map в том, что она возвращает результат вычислений не сразу, а в виде итератора, который в дальнейшем производит «ленивые» вычисления. Чтобы получить список значений, нужно в явном виде привести к нужному типу либо воспользоваться циклом for:"
   ],
   "metadata": {
    "collapsed": false
   }
  },
  {
   "cell_type": "code",
   "execution_count": 5,
   "outputs": [
    {
     "name": "stdout",
     "output_type": "stream",
     "text": [
      "[1, 4, 9]\n",
      "1 4 9 "
     ]
    }
   ],
   "source": [
    "a_list = [1, 2, 3]\n",
    "\n",
    "\n",
    "def pow_(base):\n",
    "    return base ** 2\n",
    "\n",
    "\n",
    "print(list(map(pow_, a_list)))  # [1, 4, 9]\n",
    "\n",
    "for i in map(pow_, a_list):\n",
    "    print(i, end=' ')"
   ],
   "metadata": {
    "collapsed": false
   }
  },
  {
   "cell_type": "code",
   "execution_count": 7,
   "outputs": [
    {
     "name": "stdout",
     "output_type": "stream",
     "text": [
      "['this', 'is', 'lower', 'string']\n"
     ]
    }
   ],
   "source": [
    "L = ['THIS', 'IS', 'LOWER', 'STRING']\n",
    "print(list(map(str.lower, L)))"
   ],
   "metadata": {
    "collapsed": false
   }
  },
  {
   "cell_type": "markdown",
   "source": [
    "Функция **filter** возвращает итератор с теми элементами из входящей последовательности, для которых функция вернула *True*."
   ],
   "metadata": {
    "collapsed": false
   }
  },
  {
   "cell_type": "code",
   "execution_count": 8,
   "outputs": [
    {
     "name": "stdout",
     "output_type": "stream",
     "text": [
      "[1, 2]\n"
     ]
    }
   ],
   "source": [
    "# Из заданного списка вывести только положительные элементы\n",
    "def positive(x):\n",
    "    return x > 0  # функция возвращает только True или False\n",
    "\n",
    "\n",
    "result = filter(positive, [-2, -1, 0, 1, -3, 2, -3])\n",
    "\n",
    "# Возвращается итератор, т.е. перечисляйте или приводите к списку\n",
    "print(list(result))  # [1, 2]"
   ],
   "metadata": {
    "collapsed": false
   }
  },
  {
   "cell_type": "code",
   "execution_count": 9,
   "outputs": [
    {
     "name": "stdout",
     "output_type": "stream",
     "text": [
      "[-2, 0, 2]\n"
     ]
    }
   ],
   "source": [
    "# Отфильтруйте из заданного списка только четные элементы.\n",
    "def even(x):\n",
    "    return x % 2 == 0\n",
    "\n",
    "\n",
    "result = filter(even, [-2, -1, 0, 1, -3, 2, -3])\n",
    "\n",
    "print(list(result))"
   ],
   "metadata": {
    "collapsed": false
   }
  },
  {
   "cell_type": "code",
   "execution_count": 10,
   "outputs": [
    {
     "name": "stdout",
     "output_type": "stream",
     "text": [
      "[-10, -9, -8, -7, -6, -5, -4, -3, -2, -1, 0, 1, 2, 3, 4, 5, 6, 7, 8, 9]\n",
      "[1, 4, 9, 16, 25, 36, 49, 64, 81]\n"
     ]
    }
   ],
   "source": [
    "# map + filter\n",
    "some_list = [i - 10 for i in range(20)]\n",
    "\n",
    "\n",
    "def pow2(x): return x ** 2\n",
    "\n",
    "\n",
    "def positive(x): return x > 0\n",
    "\n",
    "\n",
    "print(some_list)\n",
    "print(list(map(pow2, filter(positive, some_list))))"
   ],
   "metadata": {
    "collapsed": false
   }
  },
  {
   "cell_type": "markdown",
   "source": [
    "Тоже самое через list comprehension:"
   ],
   "metadata": {
    "collapsed": false
   }
  },
  {
   "cell_type": "code",
   "execution_count": null,
   "outputs": [],
   "source": [
    "[i ** 2 for i in some_list if i > 0]"
   ],
   "metadata": {
    "collapsed": false
   }
  },
  {
   "cell_type": "code",
   "execution_count": null,
   "outputs": [],
   "source": [
    "map(func, list1)  # итератор, но никаких вычислений не будет произведено\n",
    "list(map(...))  # только здесь появляется объект\n",
    "\n",
    "[func(i) for i in list1]  # сразу готовый объект\n",
    "\n",
    "[func(i) for i in list1] == list(map(func, list1))  # результат один и тот же"
   ],
   "metadata": {
    "collapsed": false
   }
  },
  {
   "cell_type": "markdown",
   "source": [
    "Чтобы принять правильное решение, когда использовать map, а когда list comprehension, можно воспользоваться вот такой схемой:\n",
    "![Схема для выбора](img.png)"
   ],
   "metadata": {
    "collapsed": false
   }
  },
  {
   "cell_type": "markdown",
   "source": [
    "#### Lambda функции\n",
    "Функции map и filter принимают в виде первого аргумента другую функцию, которая должна применяться к каждому элементу. Иногда встроенных функций не хватает, и приходится объявлять функцию, которая зачастую будет применена всего один раз. Но при этом она будет загромождать исходный код.\n",
    "\n",
    "Специально для таких одноразовых функций были сделаны анонимные функции. Объявляются они по ключевому слову lambda."
   ],
   "metadata": {
    "collapsed": false
   }
  },
  {
   "cell_type": "code",
   "execution_count": null,
   "outputs": [],
   "source": [
    "# эти две функции выполняют одно и тоже — складывают два числа\n",
    "def my_function(x1, x2):  # Обычная функция\n",
    "    return x2 + x1\n",
    "\n",
    "\n",
    "lambda x1, x2: x2 + x1  # Анонимная функция"
   ],
   "metadata": {
    "collapsed": false
   }
  },
  {
   "cell_type": "code",
   "execution_count": 13,
   "outputs": [
    {
     "name": "stdout",
     "output_type": "stream",
     "text": [
      "[1, 4, 9, 16, 25, 36, 49, 64, 81, 100]\n"
     ]
    }
   ],
   "source": [
    "# Возвести первые 10 натуральных чисел в квадрат\n",
    "result = list(map(lambda x: x ** 2, range(1, 11)))  # правильно\n",
    "print(result)\n",
    "\n",
    "# list(map(lambda x: x ** 2; x + 1, range(1, 11)))  #  неправильно, так как lambda содержит две конструкции"
   ],
   "metadata": {
    "collapsed": false
   }
  },
  {
   "cell_type": "code",
   "execution_count": 16,
   "outputs": [
    {
     "name": "stdout",
     "output_type": "stream",
     "text": [
      "{1: 'd', 2: 'c', 3: 'b', 4: 'a'}\n",
      "[(4, 'a'), (3, 'b'), (2, 'c'), (1, 'd')]\n"
     ]
    }
   ],
   "source": [
    "d = {2 : \"c\", 1 : \"d\", 4 : \"a\", 3 : \"b\"}\n",
    "\n",
    "# Чтобы отсортировать его по ключам, нужно сделать так:\n",
    "print(dict(sorted(d.items())))\n",
    "# {1: 'd', 2: 'c', 3: 'b', 4: 'a'}\n",
    "print(sorted(d.items(), key=lambda x: x[1]))  # сортировка по значению словаря"
   ],
   "metadata": {
    "collapsed": false
   }
  },
  {
   "cell_type": "markdown",
   "source": [
    "Итог по lambda-функциям:\n",
    "\n",
    "используются один раз;\n",
    "не загромождают код программы;\n",
    "после выполнения сразу удаляются;\n",
    "могут выполнять только одно действие"
   ],
   "metadata": {
    "collapsed": false
   }
  }
 ],
 "metadata": {
  "kernelspec": {
   "display_name": "Python 3 (ipykernel)",
   "language": "python",
   "name": "python3"
  },
  "language_info": {
   "codemirror_mode": {
    "name": "ipython",
    "version": 3
   },
   "file_extension": ".py",
   "mimetype": "text/x-python",
   "name": "python",
   "nbconvert_exporter": "python",
   "pygments_lexer": "ipython3",
   "version": "3.8.10"
  }
 },
 "nbformat": 4,
 "nbformat_minor": 1
}
