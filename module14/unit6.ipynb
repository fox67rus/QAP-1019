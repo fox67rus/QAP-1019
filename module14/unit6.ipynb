{
 "cells": [
  {
   "cell_type": "markdown",
   "source": [
    "### 14.6. Lambda функции. Встроенные методы map, filter"
   ],
   "metadata": {
    "collapsed": false
   }
  },
  {
   "cell_type": "markdown",
   "source": [
    "Особенность функции map в том, что она возвращает результат вычислений не сразу, а в виде итератора, который в дальнейшем производит «ленивые» вычисления. Чтобы получить список значений, нужно в явном виде привести к нужному типу либо воспользоваться циклом for:"
   ],
   "metadata": {
    "collapsed": false
   }
  },
  {
   "cell_type": "code",
   "execution_count": 5,
   "outputs": [
    {
     "name": "stdout",
     "output_type": "stream",
     "text": [
      "[1, 4, 9]\n",
      "1 4 9 "
     ]
    }
   ],
   "source": [
    "a_list = [1, 2, 3]\n",
    "\n",
    "\n",
    "def pow_(base):\n",
    "    return base ** 2\n",
    "\n",
    "\n",
    "print(list(map(pow_, a_list)))  # [1, 4, 9]\n",
    "\n",
    "for i in map(pow_, a_list):\n",
    "    print(i, end=' ')"
   ],
   "metadata": {
    "collapsed": false
   }
  },
  {
   "cell_type": "code",
   "execution_count": 7,
   "outputs": [
    {
     "name": "stdout",
     "output_type": "stream",
     "text": [
      "['this', 'is', 'lower', 'string']\n"
     ]
    }
   ],
   "source": [
    "L = ['THIS', 'IS', 'LOWER', 'STRING']\n",
    "print(list(map(str.lower, L)))"
   ],
   "metadata": {
    "collapsed": false
   }
  }
 ],
 "metadata": {
  "kernelspec": {
   "display_name": "Python 3 (ipykernel)",
   "language": "python",
   "name": "python3"
  },
  "language_info": {
   "codemirror_mode": {
    "name": "ipython",
    "version": 3
   },
   "file_extension": ".py",
   "mimetype": "text/x-python",
   "name": "python",
   "nbconvert_exporter": "python",
   "pygments_lexer": "ipython3",
   "version": "3.8.10"
  }
 },
 "nbformat": 4,
 "nbformat_minor": 1
}
