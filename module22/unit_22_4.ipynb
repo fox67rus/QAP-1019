{
 "cells": [
  {
   "cell_type": "markdown",
   "source": [
    "# 22.4. Автоматизация с параметризацией для негативных тестов\n",
    "Выделим из теста, который мы написали в прошлом юните, негативные кейсы и оформим их отдельным тестом:"
   ],
   "metadata": {
    "collapsed": false
   }
  },
  {
   "cell_type": "code",
   "execution_count": null,
   "outputs": [],
   "source": [
    "@pytest.mark.parametrize(\"name\"\n",
    "   , [generate_string(255), generate_string(1001), russian_chars(), russian_chars().upper(), chinese_chars(),\n",
    "      special_chars(), '123']\n",
    "   , ids=['255 symbols', 'more than 1000 symbols', 'russian', 'RUSSIAN', 'chinese', 'specials', 'digit'])\n",
    "@pytest.mark.parametrize(\"animal_type\"\n",
    "   , [generate_string(255), generate_string(1001), russian_chars(), russian_chars().upper(), chinese_chars(),\n",
    "      special_chars(), '123']\n",
    "   , ids=['255 symbols', 'more than 1000 symbols', 'russian', 'RUSSIAN', 'chinese', 'specials', 'digit'])\n",
    "@pytest.mark.parametrize(\"age\", ['1'], ids=['min'])\n",
    "def test_add_new_pet_simple(name, animal_type, age):\n",
    "   \"\"\"Проверяем, что можно добавить питомца с различными данными\"\"\"\n",
    "\n",
    "   # Добавляем питомца\n",
    "   pytest.status, result = pf.add_new_pet_simple(pytest.key, name, animal_type, age)\n",
    "\n",
    "   # Сверяем полученный ответ с ожидаемым результатом\n",
    "   assert pytest.status == 200\n",
    "   assert result['name'] == name\n",
    "   assert result['age'] == age\n",
    "   assert result['animal_type'] == animal_type\n",
    "\n",
    "\n",
    "@pytest.mark.parametrize(\"name\", [''], ids=['empty'])\n",
    "@pytest.mark.parametrize(\"animal_type\", [''], ids=['empty'])\n",
    "@pytest.mark.parametrize(\"age\",\n",
    "                        ['', '-1', '0', '100', '1.5', '2147483647', '2147483648', special_chars(), russian_chars(),\n",
    "                         russian_chars().upper(), chinese_chars()]\n",
    "   , ids=['empty', 'negative', 'zero', 'greater than max', 'float', 'int_max', 'int_max + 1', 'specials',\n",
    "          'russian', 'RUSSIAN', 'chinese'])\n",
    "def test_add_new_pet_simple_negative(name, animal_type, age):\n",
    "\n",
    "   # Добавляем питомца\n",
    "   pytest.status, result = pf.add_new_pet_simple(pytest.key, name, animal_type, age)\n",
    "\n",
    "   # Сверяем полученный ответ с ожидаемым результатом\n",
    "   assert pytest.status == 400"
   ],
   "metadata": {
    "collapsed": false
   }
  },
  {
   "cell_type": "markdown",
   "source": [
    "Что изменилось?\n",
    "1\n",
    "Во-первых, теперь мы имеем отдельным тестом негативный набор и, как следствие, мы больше не нуждаемся в функции is_age_valid(age). Смело можем убрать её.\n",
    "\n",
    "2\n",
    "Во-вторых, мы чётко видим, какие значения каких параметров теста вызывают ошибку при обращении с ними в сервис, то есть результаты тестов теперь нагляднее читать из-за того, что мы категоризировали набор.\n",
    "\n",
    "3\n",
    "В-третьих, если вдруг разработчик решит добавить какие-либо параметры в сущность питомца (либо удалить их из неё, либо изменить набор значений, при которых сервер будет считать параметр валидным), то нам не придётся переписывать блок кода, который отвечает за выбор проверок в тесте, как мы делали бы это раньше."
   ],
   "metadata": {
    "collapsed": false
   }
  }
 ],
 "metadata": {
  "kernelspec": {
   "display_name": "Python 3",
   "language": "python",
   "name": "python3"
  },
  "language_info": {
   "codemirror_mode": {
    "name": "ipython",
    "version": 2
   },
   "file_extension": ".py",
   "mimetype": "text/x-python",
   "name": "python",
   "nbconvert_exporter": "python",
   "pygments_lexer": "ipython2",
   "version": "2.7.6"
  }
 },
 "nbformat": 4,
 "nbformat_minor": 0
}
