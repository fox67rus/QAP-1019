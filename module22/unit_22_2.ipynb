{
 "cells": [
  {
   "cell_type": "markdown",
   "source": [
    "# 22.2. Параметризации для REST API тестов\n",
    "Для начала возьмём тест, который получает список питомцев, и попробуем поставить его на рельсы параметризации. Для этого обратимся к интеллект-карте, которую мы составляли, и вспомним, какие тесты мы проектировали для этого метода для параметра filter:\n",
    "\n",
    "пустая строка;\n",
    "my_pets;\n",
    "строка = 255 символов;\n",
    "строка длиной > 1000 символов;\n",
    "кодировка (кириллица, китайские символы);\n",
    "спецсимволы;\n",
    "число."
   ],
   "metadata": {
    "collapsed": false
   }
  },
  {
   "cell_type": "code",
   "execution_count": null,
   "outputs": [],
   "source": [
    "@pytest.fixture(autouse=True)\n",
    "def get_api_key():\n",
    "   \"\"\" Проверяем, что запрос api-ключа возвращает статус 200 и в результате содержится слово key\"\"\"\n",
    "\n",
    "   # Отправляем запрос и сохраняем полученный ответ с кодом статуса в status, а текст ответа в result\n",
    "   status, pytest.key = pf.get_api_key(valid_email, valid_password)\n",
    "\n",
    "   # Сверяем полученные данные с нашими ожиданиями\n",
    "   assert status == 200\n",
    "   assert 'key' in pytest.key\n",
    "\n",
    "   yield\n",
    "\n",
    "   # Проверяем что статус ответа = 200 и имя питомца соответствует заданному\n",
    "   assert pytest.status == 200\n",
    "\n",
    "\n",
    "@pytest.mark.parametrize(\"filter\", ['', 'my_pets'], ids= ['empty string', 'only my pets'])\n",
    "def test_get_all_pets_with_valid_key(filter):\n",
    "   \"\"\" Проверяем, что запрос всех питомцев возвращает не пустой список.\n",
    "   Для этого сначала получаем api-ключ и сохраняем в переменную auth_key. Далее, используя этот ключ,\n",
    "   запрашиваем список всех питомцев и проверяем, что список не пустой.\n",
    "   Доступное значение параметра filter - 'my_pets' либо '' \"\"\"\n",
    "\n",
    "   pytest.status, result = pf.get_list_of_pets(pytest.key, filter)\n",
    "\n",
    "   assert len(result['pets']) > 0\n"
   ],
   "metadata": {
    "collapsed": false
   }
  },
  {
   "cell_type": "markdown",
   "source": [
    "Напишем вспомогательную функцию, которая будет генерировать нам строку длиной в n символов в файле теста. Напишем функции, которые возвращают кириллический и китайский алфавиты в виде строки"
   ],
   "metadata": {
    "collapsed": false
   }
  },
  {
   "cell_type": "code",
   "execution_count": null,
   "outputs": [],
   "source": [
    "def generate_string(n):\n",
    "   return \"x\" * n\n",
    "\n",
    "def russian_chars():\n",
    "   return 'абвгдеёжзийклмнопрстуфхцчшщъыьэюя'\n",
    "\n",
    "# Здесь мы взяли 20 популярных китайских иероглифов\n",
    "def chinese_chars():\n",
    "   return '的一是不了人我在有他这为之大来以个中上们'\n",
    "\n",
    "def special_chars():\n",
    "   return '|\\\\/!@#$%^&*()-_=+`~?\"№;:[]{}'\n",
    "\n",
    "\n",
    "@pytest.mark.parametrize(\"filter\",\n",
    "                        [''\n",
    "                            , 'my_pets'\n",
    "                            , generate_string(255)\n",
    "                            , generate_string(1001)\n",
    "                            , russian_chars()\n",
    "                            , russian_chars().upper()\n",
    "                            , chinese_chars()\n",
    "                            , special_chars()\n",
    "                            , 123\n",
    "                         ]\n",
    "   , ids=['empty string'\n",
    "          , 'only my pets'\n",
    "          , '255 symbols'\n",
    "          , 'more than 1000 symbols'\n",
    "          , 'russian'\n",
    "          , 'RUSSIAN'\n",
    "          , 'chinese'\n",
    "          , 'specials'\n",
    "          , 'digit'])\n",
    "def test_get_all_pets_with_valid_key(filter):"
   ],
   "metadata": {
    "collapsed": false
   }
  },
  {
   "cell_type": "markdown",
   "source": [
    "все эти тесты при запуске не проходят. Происходит это потому, что сервер принимает только два возможных параметра filter, в остальных случаях должна возвращаться ошибка. Но ошибка не серверная, а клиентская, то есть 4хх. В данной ситуации мы можем поступить двумя способами — вынести логику проверки ответа из фикстуры tearDown в тест и разделить наш тест на два: один параметризованный тест для позитивных проверок и один для негативных."
   ],
   "metadata": {
    "collapsed": false
   }
  },
  {
   "cell_type": "code",
   "execution_count": null,
   "outputs": [],
   "source": [
    "def generate_string(num):\n",
    "   return \"x\" * num\n",
    "\n",
    "\n",
    "def russian_chars():\n",
    "   return 'абвгдеёжзийклмнопрстуфхцчшщъыьэюя'\n",
    "\n",
    "\n",
    "def chinese_chars():\n",
    "   return '的一是不了人我在有他这为之大来以个中上们'\n",
    "\n",
    "\n",
    "def special_chars():\n",
    "   return '|\\\\/!@#$%^&*()-_=+`~?\"№;:[]{}'\n",
    "\n",
    "\n",
    "@pytest.fixture(autouse=True)\n",
    "def ket_api_key():\n",
    "   #\"\"\" Проверяем, что запрос api-ключа возвращает статус 200 и в результате содержится слово key\"\"\"\n",
    "\n",
    "   # Отправляем запрос и сохраняем полученный ответ с кодом статуса в status, а текст ответа в result\n",
    "   status, pytest.key = pf.get_api_key(valid_email, valid_password)\n",
    "\n",
    "   # Сверяем полученные данные с нашими ожиданиями\n",
    "   assert status == 200\n",
    "   assert 'key' in pytest.key\n",
    "\n",
    "   yield\n",
    "\n",
    "\n",
    "@pytest.mark.parametrize(\"filter\",\n",
    "                        [\n",
    "                            generate_string(255)\n",
    "                            , generate_string(1001)\n",
    "                            , russian_chars()\n",
    "                            , russian_chars().upper()\n",
    "                            , chinese_chars()\n",
    "                            , special_chars()\n",
    "                            , 123\n",
    "                        ],\n",
    "                        ids =\n",
    "                        [\n",
    "                            '255 symbols'\n",
    "                            , 'more than 1000 symbols'\n",
    "                            , 'russian'\n",
    "                            , 'RUSSIAN'\n",
    "                            , 'chinese'\n",
    "                            , 'specials'\n",
    "                            , 'digit'\n",
    "                        ])\n",
    "def test_get_all_pets_with_negative_filter(filter):\n",
    "   pytest.status, result = pf.get_list_of_pets(pytest.key, filter)\n",
    "\n",
    "   # Проверяем статус ответа\n",
    "   assert pytest.status == 400\n",
    "\n",
    "\n",
    "@pytest.mark.parametrize(\"filter\",\n",
    "                        ['', 'my_pets'],\n",
    "                        ids=['empty string', 'only my pets'])\n",
    "def test_get_all_pets_with_valid_key(filter):\n",
    "   pytest.status, result = pf.get_list_of_pets(pytest.key, filter)\n",
    "\n",
    "   # Проверяем статус ответа\n",
    "   assert pytest.status == 200\n",
    "   assert len(result['pets']) > 0"
   ],
   "metadata": {
    "collapsed": false
   }
  }
 ],
 "metadata": {
  "kernelspec": {
   "display_name": "Python 3",
   "language": "python",
   "name": "python3"
  },
  "language_info": {
   "codemirror_mode": {
    "name": "ipython",
    "version": 2
   },
   "file_extension": ".py",
   "mimetype": "text/x-python",
   "name": "python",
   "nbconvert_exporter": "python",
   "pygments_lexer": "ipython2",
   "version": "2.7.6"
  }
 },
 "nbformat": 4,
 "nbformat_minor": 0
}
