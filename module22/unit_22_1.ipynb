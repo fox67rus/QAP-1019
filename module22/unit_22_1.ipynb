{
 "cells": [
  {
   "cell_type": "markdown",
   "source": [
    "# 22.1. Параметризация тестов в pytest\n",
    "**Параметризация** — это способ запустить один и тот же тест с разным набором входных параметров.\n",
    "\n",
    "Для организации параметризованных тестов существует два способа:\n",
    "- Через значение параметра params фикстуры, в который нужно передать массив значений. То есть фактически фикстура в данном случае представляет собой обёртку, передающую параметры. А в сам тест они передаются через атрибут param объекта request.\n",
    "- Через декоратор @pytest.mark.parametrize, в который передаётся список названий переменных и массив их значений.\n",
    "## Параметризация с помощью фикстуры"
   ],
   "metadata": {
    "collapsed": false
   }
  },
  {
   "cell_type": "code",
   "execution_count": 1,
   "outputs": [],
   "source": [
    "import pytest\n",
    "\n",
    "def python_string_slicer(str):\n",
    "   if len(str) < 50 or \"python\" in str:\n",
    "       return str\n",
    "   else:\n",
    "       return str[0:50]\n",
    "\n",
    "\n",
    "@pytest.fixture(scope=\"function\", params=[\n",
    "   (\"Короткая строка\", \"Короткая строка\"),\n",
    "   (\"Длинная строка, не то чтобы прям очень длинная, но достаточно для нашего теста, и в ней нет названия языка\"\n",
    "    , \"Длинная строка, не то чтобы прям очень длинная, но\"),\n",
    "   (\"Короткая строка со словом python\", \"Короткая строка со словом python\"),\n",
    "   (\"Длинная строка, нам достаточно будет для проверки, и в ней есть слово python\"\n",
    "    , \"Длинная строка, нам достаточно будет для проверки, и в ней есть слово python\")\n",
    "])\n",
    "def param_fun(request):\n",
    "   return request.param\n",
    "\n",
    "\n",
    "def test_python_string_slicer(param_fun):\n",
    "   (input, expected_output) = param_fun\n",
    "   result = python_string_slicer(input)\n",
    "   print (\"Входная строка: {0}\\nВыходная строка: {1}\\nОжидаемое значение: {2}\".format(input, result, expected_output))\n",
    "   assert result == expected_output"
   ],
   "metadata": {
    "collapsed": false
   }
  },
  {
   "cell_type": "markdown",
   "source": [
    "Если мы передаём id тестов прямо в фикстуру, то наша фикстура превратится вот в такой код:"
   ],
   "metadata": {
    "collapsed": false
   }
  },
  {
   "cell_type": "code",
   "execution_count": null,
   "outputs": [],
   "source": [
    "@pytest.fixture(scope=\"function\", params=[\n",
    "   (\"Короткая строка\", \"Короткая строка\"),\n",
    "   (\"Длинная строка, не то чтобы прям очень длинная, но достаточно для нашего теста, и в ней нет названия языка\"\n",
    "    , \"Длинная строка, не то чтобы прям очень длинная, но\"),\n",
    "   (\"Короткая строка со словом python\", \"Короткая строка со словом python\"),\n",
    "   (\"Длинная строка, нам достаточно будет для проверки, и в ней есть слово python\"\n",
    "    , \"Длинная строка, нам достаточно будет для проверки, и в ней есть слово python\"),\n",
    "], ids=[\"len < 50\", \"len > 50\", \"len < 50 contains python\", \"len > 50 contains python\"])\n",
    "def param_fun(request):\n",
    "   return request.param"
   ],
   "metadata": {
    "collapsed": false
   }
  },
  {
   "cell_type": "markdown",
   "source": [
    "вынесем генерацию названий в отдельную функцию:"
   ],
   "metadata": {
    "collapsed": false
   }
  },
  {
   "cell_type": "code",
   "execution_count": null,
   "outputs": [],
   "source": [
    "def generate_id(val):\n",
    "   return \"params: {0}\".format(str(val))\n",
    "\n",
    "\n",
    "@pytest.fixture(scope=\"function\", params=[\n",
    "   (\"Короткая строка\", \"Короткая строка\"),\n",
    "   (\"Длинная строка, не то чтобы прям очень длинная, но достаточно для нашего теста, и в ней нет названия языка\"\n",
    "    , \"Длинная строка, не то чтобы прям очень длинная, но\"),\n",
    "   (\"Короткая строка со словом python\", \"Короткая строка со словом python\"),\n",
    "   (\"Длинная строка, нам достаточно будет для проверки, и в ней есть слово python\"\n",
    "    , \"Длинная строка, нам достаточно будет для проверки, и в ней есть слово python\"),\n",
    "], ids=generate_id)\n",
    "def param_fun_generated(request):\n",
    "   return request.param\n",
    "\n",
    "\n",
    "def test_python_string_slicer_generated(param_fun_generated):\n",
    "   (input, expected_output) = param_fun_generated\n",
    "   result = python_string_slicer(input)\n",
    "   print(\"Входная строка: {0}\\nВыходная строка: {1}\\nОжидаемое значение: {2}\".format(input, result, expected_output))\n",
    "   assert result == expected_output"
   ],
   "metadata": {
    "collapsed": false
   }
  },
  {
   "cell_type": "markdown",
   "source": [
    "Плюсы метода:\n",
    "- параметры отдельно от тестов (удобно хранить их для нескольких тестов)\n",
    "- код тестов сокращается\n",
    "Минусы:\n",
    "- для каждого параметра своя функция\n",
    "- неудобно, если придется переименовать функцию\n",
    "- сложно понять к какому тесту относится параметр (нужно увидеть куда передается аргумент функции с параметрами)\n",
    "\n",
    "## Параметризация с помощью pytest.mark.parametrize\n",
    "позволяет более гибко управлять набором тестов, создаваемых с помощью параметризации. Если указать несколько меток с разными параметрами, то тест будет запущен со всеми возможными наборами параметров (то есть мы имеем декартово произведение). Напишем простой тест, чтобы это продемонстрировать:"
   ],
   "metadata": {
    "collapsed": false
   }
  },
  {
   "cell_type": "code",
   "execution_count": null,
   "outputs": [],
   "source": [
    "import pytest\n",
    "\n",
    "@pytest.mark.parametrize(\"x\", [1, 2, 3])\n",
    "@pytest.mark.parametrize(\"y\", [10, 11])\n",
    "def test_multiply_params(x, y):\n",
    "   print(\"x: {0}, y: {1}\".format(x, y))\n",
    "   assert True"
   ],
   "metadata": {
    "collapsed": false
   }
  },
  {
   "cell_type": "markdown",
   "source": [
    "В фикстуру метке parametrize также можно передать параметр ids, и он точно так же будет ответственен за отображение параметров в выводе. Точно так же нам доступны два варианта передачи ids в фикстуру — в виде имени функции или набора значений. Для начала давайте посмотрим, как передаётся набор значений:"
   ],
   "metadata": {
    "collapsed": false
   }
  },
  {
   "cell_type": "code",
   "execution_count": null,
   "outputs": [],
   "source": [
    "@pytest.mark.parametrize(\"x\", [-1, 0, 1], ids=[\"negative\", \"zero\", \"positive\"])\n",
    "@pytest.mark.parametrize(\"y\", [100, 1000], ids=[\"3 digit\", \"4 digit\"])\n",
    "def test_multiply_params(x, y):\n",
    "   print(\"x: {0}, y: {1}\".format(x, y))\n",
    "   assert True"
   ],
   "metadata": {
    "collapsed": false
   }
  },
  {
   "cell_type": "markdown",
   "source": [
    "Проделаем аналогичные операции с генератором имён параметров:"
   ],
   "metadata": {
    "collapsed": false
   }
  },
  {
   "cell_type": "code",
   "execution_count": null,
   "outputs": [],
   "source": [
    "def ids_x(val):\n",
    "   return \"x=({0})\".format(str(val))\n",
    "\n",
    "\n",
    "def ids_y(val):\n",
    "   return \"y=({0})\".format(str(val))\n",
    "\n",
    "\n",
    "@pytest.mark.parametrize(\"x\", [-1, 0, 1], ids=ids_x)\n",
    "@pytest.mark.parametrize(\"y\", [100, 1000], ids=ids_y)\n",
    "def test_multiply_params(x, y):\n",
    "   print(\"x: {0}, y: {1}\".format(x, y))\n",
    "   assert True"
   ],
   "metadata": {
    "collapsed": false
   }
  },
  {
   "cell_type": "markdown",
   "source": [
    "Памятка по способам параметризации тестов:\n",
    "1. @pytest.fixture(scope,values,ids)\n",
    "   - scope — область действия;\n",
    "   - values — значения, которые будут использованы в тестах;\n",
    "   - ids — уникальный идентификатор значения параметра.\n",
    "+ Параметры стоят отдельно от тестов, и это позволяет хранить их в одном месте тестового класса.\n",
    "– Для каждого параметра придётся писать свою функцию.\n",
    "– Сложно понять, к какому тесту относится данный параметр, придётся обратиться к коду тестов.\n",
    "\n",
    "2. @pytest.mark.parametrize(param, values, ids)\n",
    "   - param — имя параметра, использующееся в тестовой функции;\n",
    "   - values — значения, которые будут использованы в тестах;\n",
    "   - ids — уникальный идентификатор значения параметра.\n",
    "+ Используется вместе с тестом, т.е. мы легко получаем доступ к возможным значениям параметров.\n",
    "+ Не требует написания дополнительного кода.\n",
    "\n",
    "– При изменении имени параметра в аргументах тестовой функции придётся поменять его и в соответствующей фикстуре."
   ],
   "metadata": {
    "collapsed": false
   }
  }
 ],
 "metadata": {
  "kernelspec": {
   "display_name": "Python 3",
   "language": "python",
   "name": "python3"
  },
  "language_info": {
   "codemirror_mode": {
    "name": "ipython",
    "version": 2
   },
   "file_extension": ".py",
   "mimetype": "text/x-python",
   "name": "python",
   "nbconvert_exporter": "python",
   "pygments_lexer": "ipython2",
   "version": "2.7.6"
  }
 },
 "nbformat": 4,
 "nbformat_minor": 0
}
