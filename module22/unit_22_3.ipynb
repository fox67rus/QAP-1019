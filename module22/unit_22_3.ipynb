{
 "cells": [
  {
   "cell_type": "markdown",
   "source": [
    "# 22.3. Сложная параметризация тестов\n",
    "Итак, возьмем метод API из нашего сервиса — /api/create_pet_simple. Видим, что у него перечислены параметры, которые обязательно должны быть переданы: auth_key, name, animal_type, age. Других ограничений на эти параметры не написано, поэтому мы будем считать, что наш сервис должен возвращать ошибку только тогда, когда мы передаем в один из этих параметров пустую строку. В противном случае мы ожидаем увидеть сущность питомца именно с теми значениями, которые передавали, в ответе на запрос (да, даже с китайскими символами, мы предполагаем, что наш сервис будет международным). Для начала добавим в наш файл api.py, который умеет работать с API сервиса, еще одну функцию create_pet_simple по аналогии с create_pet. Разница будет только в наличии файла, который мы пытаемся запостить:\n"
   ],
   "metadata": {
    "collapsed": false
   }
  },
  {
   "cell_type": "code",
   "execution_count": null,
   "outputs": [],
   "source": [
    "def add_new_pet_simple(self, auth_key: json, name: str, animal_type: str, age: str) -> json:\n",
    "   \"\"\"Метод отправляет (постит) на сервер данные о добавляемом питомце и возвращает статус\n",
    "   запроса и результат в формате JSON с данными добавленного питомца\"\"\"\n",
    "\n",
    "   data = MultipartEncoder(\n",
    "       fields={\n",
    "           'name': name,\n",
    "           'animal_type': animal_type,\n",
    "           'age': age\n",
    "       })\n",
    "   headers = {'auth_key': auth_key['key'], 'Content-Type': data.content_type}\n",
    "\n",
    "   res = requests.post(self.base_url + 'api/create_pet_simple', headers=headers, data=data)\n",
    "   status = res.status_code\n",
    "   result = \"\"\n",
    "   try:\n",
    "       result = res.json()\n",
    "   except json.decoder.JSONDecodeError:\n",
    "       result = res.text\n",
    "   print(result)\n",
    "   return status, result"
   ],
   "metadata": {
    "collapsed": false
   }
  },
  {
   "cell_type": "markdown",
   "source": [
    "Теперь возьмем наш тест test_add_new_pet_with_valid_data и создадим по аналогии другой тест. Назовем его test_add_new_pet_simple и параметризуем по принципу, описанному выше. Единственное, что бросается в глаза — это то, что мы пытаемся передать число в виде строки, но это не проблема, так как form-data тип данных не может принимать числовые данные в принципе, у нас просто не остаётся других вариантов:"
   ],
   "metadata": {
    "collapsed": false
   }
  },
  {
   "cell_type": "code",
   "execution_count": null,
   "outputs": [],
   "source": [
    "@pytest.mark.parametrize(\"name\", [\n",
    "   ''\n",
    "   , generate_string(255)\n",
    "   , generate_string(1001)\n",
    "   , russian_chars()\n",
    "   , russian_chars().upper()\n",
    "   , chinese_chars()\n",
    "   , special_chars()\n",
    "   , '123'\n",
    "], ids=[\n",
    "   'empty'\n",
    "   , '255 symbols'\n",
    "   , 'more than 1000 symbols'\n",
    "   , 'russian'\n",
    "   , 'RUSSIAN'\n",
    "   , 'chinese'\n",
    "   , 'specials'\n",
    "   , 'digit'\n",
    "])\n",
    "def test_add_new_pet_simple(name, animal_type='двортерьер',\n",
    "                           age='4'):\n",
    "   \"\"\"Проверяем, что можно добавить питомца с различными данными\"\"\"\n",
    "\n",
    "   # Добавляем питомца\n",
    "   pytest.status, result = pf.add_new_pet_simple(pytest.key, name, animal_type, age)\n",
    "\n",
    "   # Сверяем полученный ответ с ожидаемым результатом\n",
    "   if name == '':\n",
    "       assert pytest.status == 400\n",
    "   else:\n",
    "\t assert pytest.status == 200\n",
    "       assert result['name'] == name\n",
    "       assert result['age'] == age\n",
    "       assert result['animal_type'] == animal_type"
   ],
   "metadata": {
    "collapsed": false
   }
  },
  {
   "cell_type": "markdown",
   "source": [
    "ак видно из теста, мы проверяем, что код ответа 200 только в том случае, если значение параметра name не пустое.\n",
    "\n",
    "Теперь добавим параметризацию по еще одному параметру — animal_type. Все, что нам нужно будет сделать, — это добавить в блок проверки условие, что animal_type точно так же не может быть пустой строкой:"
   ],
   "metadata": {
    "collapsed": false
   }
  },
  {
   "cell_type": "code",
   "execution_count": null,
   "outputs": [],
   "source": [
    "@pytest.mark.parametrize(\"name\"\n",
    "   , ['', generate_string(255), generate_string(1001), russian_chars(), russian_chars().upper(), chinese_chars(), special_chars(), '123']\n",
    "   , ids=['empty', '255 symbols', 'more than 1000 symbols', 'russian', 'RUSSIAN', 'chinese', 'specials', 'digit'])\n",
    "@pytest.mark.parametrize(\"animal_type\"\n",
    "   , ['', generate_string(255), generate_string(1001), russian_chars(), russian_chars().upper(), chinese_chars(), special_chars(), '123']\n",
    "   , ids=['empty', '255 symbols', 'more than 1000 symbols', 'russian', 'RUSSIAN', 'chinese', 'specials', 'digit'])\n",
    "def test_add_new_pet_simple(name, animal_type,\n",
    "                           age='4'):\n",
    "   \"\"\"Проверяем, что можно добавить питомца с различными данными\"\"\"\n",
    "\n",
    "   # Добавляем питомца\n",
    "   pytest.status, result = pf.add_new_pet_simple(pytest.key, name, animal_type, age)\n",
    "\n",
    "   # Добавили проверку animal_type\n",
    "   if name == '' or animal_type == '':\n",
    "       assert pytest.status == 400\n",
    "   else:\n",
    "       assert pytest.status == 200\n",
    "       assert result['name'] == name\n",
    "       assert result['age'] == age\n",
    "       assert result['animal_type'] == animal_type"
   ],
   "metadata": {
    "collapsed": false
   }
  },
  {
   "cell_type": "markdown",
   "source": [
    "В несколько движений наших тестов стало в два раза больше — 64 вместо 8. Осталось ещё обработать логику параметра age и точно так же передать его в параметризованный тест. Не забудем подумать о классах эквивалентности для числа.\n",
    "Итого имеем для параметра age:\n",
    "\n",
    "-1 # Отрицательного возраста не бывает.\n",
    "0 # Граничное значение перед минимально возможным возрастом.\n",
    "1  # Граничное значение (минимально возможный возраст).\n",
    "100  # Попытка поймать баг логики приложения — мало кто из питомцев живёт до 100 лет, поэтому передаём значение, больше максимально допустимого возраста.\n",
    "1.5 # Пытаемся передать дробное значение возраста.\n",
    "2 147 483 647 # Ограничение целочисленного типа данных.\n",
    "2 147 483 648 # Превышение ограничения целочисленного типа данных.\n",
    "Спецсимволы # Не принимаем текст в любом виде.\n",
    "Текст # Не принимаем текст в любом виде.\n",
    "Различные языки (русский, китайский) # Не принимаем текст в любом виде."
   ],
   "metadata": {
    "collapsed": false
   }
  },
  {
   "cell_type": "code",
   "execution_count": null,
   "outputs": [],
   "source": [
    "def is_age_valid(age):\n",
    "   # Проверяем, что возраст - это число от 1 до 49 и целое\n",
    "   return age.isdigit() \\\n",
    "          and 0 < int(age) < 50 \\\n",
    "          and float(age) == int(age)\n",
    "\n",
    "\n",
    "@pytest.mark.parametrize(\"name\"\n",
    "   , ['', generate_string(255), generate_string(1001), russian_chars(), russian_chars().upper(), chinese_chars(), special_chars(), '123']\n",
    "   , ids=['empty', '255 symbols', 'more than 1000 symbols', 'russian', 'RUSSIAN', 'chinese', 'specials', 'digit'])\n",
    "@pytest.mark.parametrize(\"animal_type\"\n",
    "   , ['', generate_string(255), generate_string(1001), russian_chars(), russian_chars().upper(), chinese_chars(), special_chars(), '123']\n",
    "   , ids=['empty', '255 symbols', 'more than 1000 symbols', 'russian', 'RUSSIAN', 'chinese', 'specials', 'digit'])\n",
    "@pytest.mark.parametrize(\"age\"\n",
    "   , ['', '-1', '0', '1', '100', '1.5', '2147483647', '2147483648', special_chars(), russian_chars(), russian_chars().upper(), chinese_chars()]\n",
    "   , ids=['empty', 'negative', 'zero', 'min', 'greater than max', 'float', 'int_max', 'int_max + 1', 'specials', 'russian', 'RUSSIAN', 'chinese'])\n",
    "def test_add_new_pet_simple(name, animal_type, age):\n",
    "   \"\"\"Проверяем, что можно добавить питомца с различными данными\"\"\"\n",
    "\n",
    "   # Добавляем питомца\n",
    "   pytest.status, result = pf.add_new_pet_simple(pytest.key, name, animal_type, age)\n",
    "\n",
    "   # Сверяем полученный ответ с ожидаемым результатом\n",
    "   if name == '' or animal_type == '' or is_age_valid(age):\n",
    "       assert pytest.status == 400\n",
    "   else:\n",
    "       assert pytest.status == 200\n",
    "       assert result['name'] == name\n",
    "       assert result['age'] == age\n",
    "       assert result['animal_type'] == animal_type"
   ],
   "metadata": {
    "collapsed": false
   }
  },
  {
   "cell_type": "code",
   "execution_count": null,
   "outputs": [],
   "source": [],
   "metadata": {
    "collapsed": false
   }
  }
 ],
 "metadata": {
  "kernelspec": {
   "display_name": "Python 3",
   "language": "python",
   "name": "python3"
  },
  "language_info": {
   "codemirror_mode": {
    "name": "ipython",
    "version": 2
   },
   "file_extension": ".py",
   "mimetype": "text/x-python",
   "name": "python",
   "nbconvert_exporter": "python",
   "pygments_lexer": "ipython2",
   "version": "2.7.6"
  }
 },
 "nbformat": 4,
 "nbformat_minor": 0
}
