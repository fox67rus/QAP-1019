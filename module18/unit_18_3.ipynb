{
 "cells": [
  {
   "cell_type": "markdown",
   "source": [
    "# 18.3 Создание Telegram-бота\n",
    "После установки необходимо создать новый файл, импортировать туда модуль telebot и создать объект bot, используя токен, полученный при регистрации."
   ],
   "metadata": {
    "collapsed": false
   }
  },
  {
   "cell_type": "code",
   "execution_count": null,
   "outputs": [],
   "source": [
    "import telebot\n",
    "TOKEN = \"Токен, полученный при регистрации\"\n",
    "\n",
    "bot = telebot.TeleBot(TOKEN)"
   ],
   "metadata": {
    "collapsed": false
   }
  },
  {
   "cell_type": "markdown",
   "source": [
    "Чтобы запустить бота, нужно воспользоваться методом polling.\n",
    "Параметр none_stop=True говорит, что бот должен стараться не прекращать работу при возникновении каких-либо ошибок"
   ],
   "metadata": {
    "collapsed": false
   }
  },
  {
   "cell_type": "code",
   "execution_count": null,
   "outputs": [],
   "source": [
    "bot.polling(none_stop=True)"
   ],
   "metadata": {
    "collapsed": false
   }
  },
  {
   "cell_type": "markdown",
   "source": [
    "## Обработчики сообщений\n",
    "Для того, чтобы из обычной функции сделать обработчик сообщений для бота, надо воспользоваться декоратором @bot.message_handler. Обработчики сообщений состоят из одного или нескольких фильтров.\n",
    "\n",
    "Обработчик сообщений объявляется следующим образом (при условии, что bot — это экземпляр класса TeleBot):"
   ],
   "metadata": {
    "collapsed": false
   }
  },
  {
   "cell_type": "code",
   "execution_count": null,
   "outputs": [],
   "source": [
    "import telebot\n",
    "\n",
    "TOKEN = \"Токен полученный при регистрации\"\n",
    "\n",
    "bot = telebot.TeleBot(TOKEN)\n",
    "\n",
    "@bot.message_handler(filters)\n",
    "def function_name(message):\n",
    "    bot.reply_to(message, \"This is a message handler\")"
   ],
   "metadata": {
    "collapsed": false
   }
  },
  {
   "cell_type": "markdown",
   "source": [
    "**filters** — фильтры, определяющие, следует ли вызывать декорированную функцию для соответствующего сообщения или нет. У одного обработчика может быть несколько фильтров.\n",
    "\n",
    "Мы с вами разберём два основных фильтра:\n",
    "\n",
    "1. Тип контента - content_types - аргумент: Список строк, по умолчанию ['text'] - Условие: Если тип контента, содержащегося в сообщении, совпадает с типом, указанным в качестве аргумента. То есть обработчик по умолчанию реагирует на все текстовые сообщения.\n",
    "2. Команды - commands - аргумент: Список строк - Условие: Если сообщение начинается с команды, указанной в списке.\n",
    "\n",
    "Для обработчиков сообщений разрешено любое имя функции, поэтому function_name может принимать любое значение. Функция должна принимать не более одного аргумента — сообщения, которое функция должна обработать. Аргумент message имеет все поля, перечисленные [здесь](https://core.telegram.org/bots/api#message)."
   ],
   "metadata": {
    "collapsed": false
   }
  }
 ],
 "metadata": {
  "kernelspec": {
   "display_name": "Python 3",
   "language": "python",
   "name": "python3"
  },
  "language_info": {
   "codemirror_mode": {
    "name": "ipython",
    "version": 2
   },
   "file_extension": ".py",
   "mimetype": "text/x-python",
   "name": "python",
   "nbconvert_exporter": "python",
   "pygments_lexer": "ipython2",
   "version": "2.7.6"
  }
 },
 "nbformat": 4,
 "nbformat_minor": 0
}
