{
 "cells": [
  {
   "cell_type": "markdown",
   "source": [
    "# 18.2 Библиотека Requests и её лучший друг JSON"
   ],
   "metadata": {
    "collapsed": false
   }
  },
  {
   "cell_type": "code",
   "execution_count": null,
   "outputs": [],
   "source": [
    "import requests\n",
    "\n",
    "r = requests.get('https://baconipsum.com/api/?type=all-meat&paras=3&start-with-lorem=1&format=html')\n",
    "\n",
    "print(f'Status: {r.status_code}')\n",
    "print(r.content)"
   ],
   "metadata": {
    "collapsed": false
   }
  },
  {
   "cell_type": "code",
   "execution_count": null,
   "outputs": [],
   "source": [
    "import requests\n",
    "import json # импортируем необходимую библиотеку\n",
    "\n",
    "\n",
    "r = requests.get('https://baconipsum.com/api/?type=meat-and-filler')\n",
    "texts = json.loads(r.content) # делаем из полученных байтов python объект для удобной работы\n",
    "print(type(texts)) # проверяем тип сконвертированных данных\n",
    "\n",
    "for text in texts: # выводим полученный текст. Но для того чтобы он влез в консоль оставим только первые 50 символов.\n",
    "    print(text[:50], '\\n')"
   ],
   "metadata": {
    "collapsed": false
   }
  },
  {
   "cell_type": "code",
   "execution_count": 9,
   "outputs": [
    {
     "name": "stdout",
     "output_type": "stream",
     "text": [
      "<class 'dict'>\n",
      "https://api.github.com/user/following{/target}\n"
     ]
    }
   ],
   "source": [
    "import requests\n",
    "import json\n",
    "\n",
    "r = requests.get('https://api.github.com')\n",
    "\n",
    "d = json.loads(r.content) # делаем из полученных байтов python объект для удобной работы\n",
    "\n",
    "print(type(d))\n",
    "print(d['following_url']) # обращаемся к полученному объекту как к словарю и попробуем напечатать одно из его значений"
   ],
   "metadata": {
    "collapsed": false
   }
  },
  {
   "cell_type": "code",
   "execution_count": 10,
   "outputs": [
    {
     "name": "stdout",
     "output_type": "stream",
     "text": [
      "b'{\\n  \"args\": {}, \\n  \"data\": \"\", \\n  \"files\": {}, \\n  \"form\": {\\n    \"key\": \"value\"\\n  }, \\n  \"headers\": {\\n    \"Accept\": \"*/*\", \\n    \"Accept-Encoding\": \"gzip, deflate\", \\n    \"Content-Length\": \"9\", \\n    \"Content-Type\": \"application/x-www-form-urlencoded\", \\n    \"Host\": \"httpbin.org\", \\n    \"User-Agent\": \"python-requests/2.28.2\", \\n    \"X-Amzn-Trace-Id\": \"Root=1-63e5ec26-14edab787ddccef849afe661\"\\n  }, \\n  \"json\": null, \\n  \"origin\": \"212.3.142.149\", \\n  \"url\": \"https://httpbin.org/post\"\\n}\\n'\n"
     ]
    }
   ],
   "source": [
    "import requests\n",
    "\n",
    "r = requests.post('https://httpbin.org/post', data = {'key':'value'}) # отправляем пост-запрос\n",
    "\n",
    "print(r.content) # содержимое ответа и его обработка происходит так же, как и с гет-запросами, разницы никакой нет"
   ],
   "metadata": {
    "collapsed": false
   }
  },
  {
   "cell_type": "code",
   "execution_count": 11,
   "outputs": [
    {
     "name": "stdout",
     "output_type": "stream",
     "text": [
      "b'{\\n  \"args\": {}, \\n  \"data\": \"\\\\\"{\\\\\\\\\\\\\"key\\\\\\\\\\\\\": \\\\\\\\\\\\\"value\\\\\\\\\\\\\"}\\\\\"\", \\n  \"files\": {}, \\n  \"form\": {}, \\n  \"headers\": {\\n    \"Accept\": \"*/*\", \\n    \"Accept-Encoding\": \"gzip, deflate\", \\n    \"Content-Length\": \"22\", \\n    \"Content-Type\": \"application/json\", \\n    \"Host\": \"httpbin.org\", \\n    \"User-Agent\": \"python-requests/2.28.2\", \\n    \"X-Amzn-Trace-Id\": \"Root=1-63e5ec79-3507a7a82d1bbb8414273b47\"\\n  }, \\n  \"json\": \"{\\\\\"key\\\\\": \\\\\"value\\\\\"}\", \\n  \"origin\": \"212.3.142.149\", \\n  \"url\": \"https://httpbin.org/post\"\\n}\\n'\n"
     ]
    }
   ],
   "source": [
    "import requests\n",
    "import json\n",
    "\n",
    "\n",
    "data = {'key': 'value'}\n",
    "\n",
    "r = requests.post('https://httpbin.org/post', json=json.dumps(data)) # отправляем пост запрос, но только в этот раз тип передаваемых данных будет JSON\n",
    "print(r.content)"
   ],
   "metadata": {
    "collapsed": false
   }
  },
  {
   "cell_type": "markdown",
   "source": [
    "## Задание 18.2.3\n",
    "Напишите программу, которая отправляет запрос на генерацию случайных текстов. Выведите первый из сгенерированных текстов."
   ],
   "metadata": {
    "collapsed": false
   }
  },
  {
   "cell_type": "code",
   "execution_count": 12,
   "outputs": [
    {
     "name": "stdout",
     "output_type": "stream",
     "text": [
      "Pastrami cupidatat proident, eu sint aliquip laborum consectetur non swine nostrud.  Turkey minim andouille non sausage aute in veniam eu bresaola pastrami beef ribs laboris.  Ut hamburger brisket veniam fugiat fatback ham hock ex in ground round labore tenderloin.  In short loin non cupim tail beef ut ex shoulder officia pancetta incididunt ground round capicola.  Elit landjaeger ex ad occaecat ground round kevin officia fugiat tail salami.  Qui ribeye tempor meatball incididunt eu dolore anim in.  Ground round sed ut, shank elit ex drumstick shankle frankfurter dolore kevin beef nulla pork velit.\n"
     ]
    }
   ],
   "source": [
    "import requests\n",
    "import json\n",
    "\n",
    "r = requests.get('https://baconipsum.com/api/?type=meat-and-filler')\n",
    "texts = json.loads(r.content)\n",
    "\n",
    "print(texts[0])"
   ],
   "metadata": {
    "collapsed": false
   }
  }
 ],
 "metadata": {
  "kernelspec": {
   "display_name": "Python 3",
   "language": "python",
   "name": "python3"
  },
  "language_info": {
   "codemirror_mode": {
    "name": "ipython",
    "version": 2
   },
   "file_extension": ".py",
   "mimetype": "text/x-python",
   "name": "python",
   "nbconvert_exporter": "python",
   "pygments_lexer": "ipython2",
   "version": "2.7.6"
  }
 },
 "nbformat": 4,
 "nbformat_minor": 0
}
