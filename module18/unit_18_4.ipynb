{
 "cells": [
  {
   "cell_type": "markdown",
   "source": [
    "# 18.4 Парсинг данных с сайтов с помощью lxml"
   ],
   "metadata": {
    "collapsed": false
   }
  },
  {
   "cell_type": "code",
   "execution_count": 2,
   "outputs": [
    {
     "name": "stdout",
     "output_type": "stream",
     "text": [
      "['Welcome to Python.org']\n"
     ]
    }
   ],
   "source": [
    "import requests  # импортируем наш знакомый модуль\n",
    "import lxml.html\n",
    "from lxml import etree\n",
    "\n",
    "html = requests.get('https://www.python.org/').content  # получим html главной странички официального сайта Python\n",
    "\n",
    "tree = lxml.html.document_fromstring(html)\n",
    "title = tree.xpath(\n",
    "    '/html/head/title/text()')  # забираем текст тега <title> из тега <head> который лежит в свою очередь внутри тега <html> (в этом невидимом теге <head> у нас хранится основная информация о страничке. Её название и инструкции по отображению в браузере.\n",
    "\n",
    "print(title)  # выводим полученный заголовок страницы"
   ],
   "metadata": {
    "collapsed": false
   }
  },
  {
   "cell_type": "code",
   "execution_count": 14,
   "outputs": [
    {
     "name": "stdout",
     "output_type": "stream",
     "text": [
      "5\n",
      "Python 3.11.2, Python 3.10.10 and 3.12.0 alpha 5 are available\n",
      "Announcing Python Software Foundation Fellow Members for Q4 2022! 🎉\n",
      "The PSF is hiring a Security Developer-in-Residence!\n",
      "Python 3.12.0 alpha 4 released\n",
      "Starting 2023 with momentum, thanks to you!\n"
     ]
    }
   ],
   "source": [
    "import requests  # импортируем наш знакомый модуль\n",
    "import lxml.html\n",
    "from lxml import etree\n",
    "\n",
    "tree = etree.parse('Welcome to Python.org.html', lxml.html.HTMLParser())\n",
    "\n",
    "ul = tree.findall('body/div/div[3]/div/section/div[2]/div[1]/div/ul/li')\n",
    "\n",
    "print(len(ul))  # выводим количество элементов в списке ul\n",
    "for li in ul:\n",
    "    a = li.find('a')\n",
    "    print(a.text)"
   ],
   "metadata": {
    "collapsed": false
   }
  },
  {
   "cell_type": "code",
   "execution_count": 16,
   "outputs": [
    {
     "name": "stdout",
     "output_type": "stream",
     "text": [
      "[' MY TEXT ']\n"
     ]
    }
   ],
   "source": [
    "import lxml.html\n",
    "\n",
    "html = ''' <html>\n",
    " <head> <title> Some title </title> </head>\n",
    " <body>\n",
    "  <tag1> some text\n",
    "     <tag2> MY TEXT </tag2>\n",
    "   </tag1>\n",
    " </body>\n",
    "</html>\n",
    "'''\n",
    "\n",
    "tree = lxml.html.document_fromstring(html)\n",
    "\n",
    "text = tree.xpath('/html/body/tag1/tag2/text()')\n",
    "\n",
    "print(text)"
   ],
   "metadata": {
    "collapsed": false
   }
  },
  {
   "cell_type": "code",
   "execution_count": 21,
   "outputs": [
    {
     "name": "stdout",
     "output_type": "stream",
     "text": [
      "5\n",
      "2023-02-08T14:31:00.000002+00:00 Python 3.11.2, Python 3.10.10 and 3.12.0 alpha 5 are available\n",
      "2023-02-08T13:25:00.000002+00:00 Announcing Python Software Foundation Fellow Members for Q4 2022! 🎉\n",
      "2023-01-26T15:26:00.000003+00:00 The PSF is hiring a Security Developer-in-Residence!\n",
      "2023-01-10T20:24:00.000001+00:00 Python 3.12.0 alpha 4 released\n",
      "2023-01-10T15:36:00.000001+00:00 Starting 2023 with momentum, thanks to you!\n"
     ]
    }
   ],
   "source": [
    "import requests\n",
    "import lxml.html\n",
    "\n",
    "html = requests.get('https://www.python.org/').content  # получим html главной странички официального сайта Python\n",
    "\n",
    "tree = lxml.html.document_fromstring(html)\n",
    "\n",
    "ul = tree.findall('body/div/div[3]/div/section/div[2]/div[1]/div/ul/li')\n",
    "\n",
    "print(len(ul))\n",
    "for li in ul:\n",
    "    a = li.find('a')\n",
    "    time_a = li.find('time')\n",
    "    print(time_a.get('datetime'), a.text)"
   ],
   "metadata": {
    "collapsed": false
   }
  }
 ],
 "metadata": {
  "kernelspec": {
   "display_name": "Python 3",
   "language": "python",
   "name": "python3"
  },
  "language_info": {
   "codemirror_mode": {
    "name": "ipython",
    "version": 2
   },
   "file_extension": ".py",
   "mimetype": "text/x-python",
   "name": "python",
   "nbconvert_exporter": "python",
   "pygments_lexer": "ipython2",
   "version": "2.7.6"
  }
 },
 "nbformat": 4,
 "nbformat_minor": 0
}
