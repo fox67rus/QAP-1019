{
 "cells": [
  {
   "cell_type": "markdown",
   "source": [
    "# 17.8 Алгоритмы сортировки\n",
    "Рассмотрим некоторые алгоритмы сортировки:\n",
    "\n",
    "- Наивная сортировка (чтобы показать, как делать не стоит).\n",
    "- Сортировка выбором (чуть менее наивный, но далёк от идеала).\n",
    "- Сортировка пузырьком (пожалуй, самый понятный в реализации, но не самый эффективный).\n",
    "- Сортировка вставками (неплохо).\n",
    "- Сортировка слиянием (заметно лучше).\n",
    "- Быстрая сортировка (почти идеально!)."
   ],
   "metadata": {
    "collapsed": false
   }
  },
  {
   "cell_type": "markdown",
   "source": [
    "## Наивная сортировка\n",
    "Как делать не нужно ни в коем случае!!"
   ],
   "metadata": {
    "collapsed": false
   }
  },
  {
   "cell_type": "code",
   "execution_count": 4,
   "outputs": [
    {
     "name": "stdout",
     "output_type": "stream",
     "text": [
      "[1, 2, 3, 4, 5, 6, 7, 8, 9]\n",
      "30725\n"
     ]
    }
   ],
   "source": [
    "import random  # модуль, с помощью которого перемешиваем массив\n",
    "\n",
    "# пусть имеем массив всего лишь из 9 элементов\n",
    "array = [2, 3, 1, 4, 6, 5, 9, 8, 7]\n",
    "\n",
    "is_sort = False  # станет True, если отсортирован\n",
    "count = 0  # счетчик количества перестановок\n",
    "\n",
    "while not is_sort:  # пока не отсортирован\n",
    "    count += 1  # прибавляем 1 к счётчику\n",
    "\n",
    "    random.shuffle(array)  # перемешиваем массив\n",
    "\n",
    "    # проверяем, отсортирован ли\n",
    "    is_sort = True\n",
    "    for i in range(len(array) - 1):\n",
    "        if array[i] > array[i + 1]:\n",
    "            is_sort = False\n",
    "            break\n",
    "\n",
    "print(array)\n",
    "# [1, 2, 3, 4, 5, 6, 7, 8, 9]\n",
    "print(count)\n",
    "# 290698"
   ],
   "metadata": {
    "collapsed": false
   }
  },
  {
   "cell_type": "code",
   "execution_count": 6,
   "outputs": [
    {
     "name": "stdout",
     "output_type": "stream",
     "text": [
      "158\n"
     ]
    }
   ],
   "source": [
    "def factorial(n):\n",
    "    if n < 2:\n",
    "        return 1\n",
    "    else:\n",
    "        return n * factorial(n - 1)\n",
    "\n",
    "\n",
    "print(len(str(factorial(100))))"
   ],
   "metadata": {
    "collapsed": false
   }
  },
  {
   "cell_type": "markdown",
   "source": [
    "## Сортировка выбором\n",
    "На каждом шаге мы имеем отсортированную (слева) и неотсортированную часть (справа). Ищется минимальный элемент в неотсортированной части и меняется местами с элементом в начале неотсортированной части. И так продолжается, пока не закончится внешний цикл.\n",
    "\n",
    "Имеет среднюю сложность O(n^2)"
   ],
   "metadata": {
    "collapsed": false
   }
  },
  {
   "cell_type": "code",
   "execution_count": 11,
   "outputs": [
    {
     "name": "stdout",
     "output_type": "stream",
     "text": [
      "[2, 3, 1, 4, 6, 5, 9, 8, 7]\n",
      "[1, 2, 3, 4, 5, 6, 7, 8, 9]\n",
      "45\n"
     ]
    }
   ],
   "source": [
    "# сортировка по возрастанию\n",
    "array = [2, 3, 1, 4, 6, 5, 9, 8, 7]\n",
    "print(array)\n",
    "count = 0\n",
    "for i in range(len(array)):\n",
    "    idx_min = i\n",
    "    for j in range(i, len(array)):\n",
    "        count += 1\n",
    "        if array[j] < array[idx_min]:\n",
    "            idx_min = j\n",
    "    if i != idx_min:\n",
    "        array[i], array[idx_min] = array[idx_min], array[i]\n",
    "\n",
    "print(array)\n",
    "print(count)"
   ],
   "metadata": {
    "collapsed": false
   }
  },
  {
   "cell_type": "code",
   "execution_count": 12,
   "outputs": [
    {
     "name": "stdout",
     "output_type": "stream",
     "text": [
      "[2, 3, 1, 4, 6, 5, 9, 8, 7]\n",
      "[9, 8, 7, 6, 5, 4, 3, 2, 1]\n"
     ]
    }
   ],
   "source": [
    "# сортировка по убыванию\n",
    "array = [2, 3, 1, 4, 6, 5, 9, 8, 7]\n",
    "print(array)\n",
    "for i in range(len(array)):\n",
    "    idx_max = i\n",
    "    for j in range(i, len(array)):\n",
    "        if array[j] > array[idx_max]:\n",
    "            idx_max = j\n",
    "    if i != idx_max:\n",
    "        array[i], array[idx_max] = array[idx_max], array[i]\n",
    "\n",
    "print(array)"
   ],
   "metadata": {
    "collapsed": false
   }
  },
  {
   "cell_type": "markdown",
   "source": [
    "## Сортировка пузырьком\n",
    "Максимальные элементы шаг за шагом «всплывают» вправо — в отсортированную часть массива. И по ходу совершаются ещё перестановки, если это необходимо, ведь каждый раз мы сравниваем только соседние элементы!\n",
    "\n",
    "Имеет среднюю сложность O(n^2)\n",
    "\n",
    "Пузырёк удобен, когда в структуре имеет не очень большой размер и очень важна скорость написания кода. В таком случае пузырёк идеален — два цикла, одно условие и один swap (перестановка двух элементов). Однако на более крупных массивах пузырёк сильно проигрывает другим алгоритмам."
   ],
   "metadata": {
    "collapsed": false
   }
  },
  {
   "cell_type": "code",
   "execution_count": 14,
   "outputs": [
    {
     "name": "stdout",
     "output_type": "stream",
     "text": [
      "[2, 3, 1, 4, 6, 5, 9, 8, 7]\n",
      "[1, 2, 3, 4, 5, 6, 7, 8, 9]\n"
     ]
    }
   ],
   "source": [
    "array = [2, 3, 1, 4, 6, 5, 9, 8, 7]\n",
    "print(array)\n",
    "for i in range(len(array)):\n",
    "    for j in range(len(array) - i - 1):\n",
    "        if array[j] > array[j + 1]:\n",
    "            array[j], array[j + 1] = array[j + 1], array[j]\n",
    "\n",
    "print(array)"
   ],
   "metadata": {
    "collapsed": false
   }
  },
  {
   "cell_type": "markdown",
   "source": [
    "## Сортировка вставками\n",
    "В начале итерации устанавливается ведущий элемент. На первой итерации — самый первый элемент, и по умолчанию он считается уже отсортированным.\n",
    "Сохраняем ведущий элемент в дополнительную переменную (красный квадрат в анимации).\n",
    "Далее происходит поиск места, куда должен встать ведущий элемент в уже отсортированной (левой) части массива. Можно, например, использовать цикл while с условием достижения границы и/или успешным нахождением элемента. Пока условие цикла выполняется, происходит сдвиг каждого элемента вправо.\n",
    "По завершении цикла сохранённое значение переменной помещается на освободившееся место. Алгоритм завершается."
   ],
   "metadata": {
    "collapsed": false
   }
  },
  {
   "cell_type": "code",
   "execution_count": 18,
   "outputs": [
    {
     "name": "stdout",
     "output_type": "stream",
     "text": [
      "[2, 3, 1, 4, 6, 5, 9, 8, 7]\n",
      "[1, 2, 3, 4, 5, 6, 7, 8, 9]\n",
      "6\n"
     ]
    }
   ],
   "source": [
    "array = [2, 3, 1, 4, 6, 5, 9, 8, 7]\n",
    "print(array)\n",
    "count = 0\n",
    "\n",
    "for i in range(1, len(array)):\n",
    "    x = array[i]\n",
    "    idx = i\n",
    "    while idx > 0 and array[idx - 1] > x:\n",
    "        array[idx] = array[idx - 1]\n",
    "        idx -= 1\n",
    "        count += 1\n",
    "    array[idx] = x\n",
    "\n",
    "print(array)\n",
    "print(count)"
   ],
   "metadata": {
    "collapsed": false
   }
  },
  {
   "cell_type": "markdown",
   "source": [
    "## Сортировка слиянием\n",
    "Имеет общую сложность O(n*log(n))\n",
    "Сначала делим массив пополам (или почти пополам, если в массиве нечетное количество элементов). И снова пополам. И снова... рекурсивно. А выход из рекурсии случится тогда, когда отделенный кусок массива станет размером 1, т. е. сократится до одного элемента. А один элемент уж точно можно считать отсортированным относительно себя. Полпути сортировки можно считать пройденной.\n",
    "Дальше — интереснее.\n",
    "\n",
    "Нам нужно склеивать обратно расщеплённые части массива, потому она и называется сортировкой слиянием. Итак, имеем два одиночных элемента — сравниваем их и возвращаем на предыдущий уровень рекурсии в нужном порядке.\n",
    "\n",
    "Когда есть больше элементов в каждой из частей, подлежащих слиянию, нужно быть предельно аккуратным:\n",
    "\n",
    "Сравниваем первые элементы.\n",
    "В результирующий массив записываем наименьший.\n",
    "Сравниваем первый элемент в нетронутом и второй элемент — из другой части.\n",
    "Сравниваем — склеиваем в результат.\n",
    "И так продолжается, пока не будет достигнут конец одной из частей.\n",
    "Последний штрих — в результирующий массив записать все элементы из ещё пока не пустой части.\n",
    "Вернуть результат на предыдущий уровень рекурсии."
   ],
   "metadata": {
    "collapsed": false
   }
  },
  {
   "cell_type": "code",
   "execution_count": 19,
   "outputs": [
    {
     "name": "stdout",
     "output_type": "stream",
     "text": [
      "[2, 3, 1, 4, 6, 5, 9, 8, 7]\n",
      "[1, 2, 3, 4, 5, 6, 7, 8, 9]\n"
     ]
    }
   ],
   "source": [
    "array = [2, 3, 1, 4, 6, 5, 9, 8, 7]\n",
    "print(array)\n",
    "\n",
    "def merge_sort(L):\n",
    "    if len(L) <= 1:\n",
    "        return L[:]\n",
    "    else:\n",
    "        middle = len(L) // 2\n",
    "        left = merge_sort(L[:middle])\n",
    "        right = merge_sort(L[middle:])\n",
    "        return merge(left, right)\n",
    "\n",
    "def merge(left, right):\n",
    "    result = []\n",
    "    i, j = 0,0\n",
    "\n",
    "    while i < len(left) and j < len(right):\n",
    "        if left[i] < right[j]:\n",
    "            result.append(left[i])\n",
    "            i += 1\n",
    "        else:\n",
    "            result.append(right[j])\n",
    "            j += 1\n",
    "\n",
    "    while i < len(left):\n",
    "        result.append(left[i])\n",
    "        i += 1\n",
    "\n",
    "    while j < len(right):\n",
    "        result.append(right[j])\n",
    "        j += 1\n",
    "\n",
    "    return result\n",
    "\n",
    "print(merge_sort(array))"
   ],
   "metadata": {
    "collapsed": false
   }
  },
  {
   "cell_type": "markdown",
   "source": [
    "## Быстрая сортировка"
   ],
   "metadata": {
    "collapsed": false
   }
  },
  {
   "cell_type": "code",
   "execution_count": null,
   "outputs": [],
   "source": [],
   "metadata": {
    "collapsed": false
   }
  }
 ],
 "metadata": {
  "kernelspec": {
   "display_name": "Python 3",
   "language": "python",
   "name": "python3"
  },
  "language_info": {
   "codemirror_mode": {
    "name": "ipython",
    "version": 2
   },
   "file_extension": ".py",
   "mimetype": "text/x-python",
   "name": "python",
   "nbconvert_exporter": "python",
   "pygments_lexer": "ipython2",
   "version": "2.7.6"
  }
 },
 "nbformat": 4,
 "nbformat_minor": 0
}
