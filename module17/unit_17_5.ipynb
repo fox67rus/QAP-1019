{
 "cells": [
  {
   "cell_type": "markdown",
   "source": [
    "# 17.5 Нелинейные структуры данных: графы и деревья"
   ],
   "metadata": {
    "collapsed": false
   }
  },
  {
   "cell_type": "code",
   "execution_count": null,
   "outputs": [],
   "source": [
    "G = {\"Лиговский проспект\":\n",
    "         [\"Площадь Александра Невского 2\"],\n",
    "     \"Площадь Александра Невского 2\":\n",
    "         [\"Площадь Александра Невского 1\",\n",
    "          \"Лиговский проспект\",\n",
    "          \"Новочеркасская\"],\n",
    "     \"Площадь Александра Невского 1\":\n",
    "         [\"Площадь Александра Невского 2\",\n",
    "          \"Елизаровская\"],\n",
    "     \"Новочеркасская\":\n",
    "         [\"Площадь Александра Невского 2\",\n",
    "          \"Ладожская\"],\n",
    "     \"Ладожская\":\n",
    "         [\"Новочеркасская\",\n",
    "          \"Проспект Большевиков\"],\n",
    "     \"Проспект Большевиков\":\n",
    "         [\"Ладожская\",\n",
    "          \"Дыбенко\"],\n",
    "     \"Дыбенко\":\n",
    "         [\"Проспект Большевиков\"]}"
   ],
   "metadata": {
    "collapsed": false
   }
  },
  {
   "cell_type": "code",
   "execution_count": null,
   "outputs": [],
   "source": [
    "metro = {'Адмиралтейская': ['Садовая'],\n",
    "         'Садовая':\n",
    "             ['Адмиралтейская', 'Звенигородская', 'Сенная площадь', 'Спасская'],\n",
    "         'Спасская':\n",
    "             ['Достоевкая', 'Садовая', 'Сенная площадь'],\n",
    "         'Сенная площадь':\n",
    "             ['Садовая', 'Спасская'],\n",
    "         'Достоевкая':\n",
    "             ['Владимирская', 'Спасская'],\n",
    "         'Владимирская':\n",
    "             ['Достоевкая', 'Пушкинская'],\n",
    "         'Пушкинская':\n",
    "             ['Владимирская', 'Звенигородская'],\n",
    "         'Звенигородская':\n",
    "             ['Садовая', 'Пушкинская'],\n",
    "         }"
   ],
   "metadata": {
    "collapsed": false
   }
  },
  {
   "cell_type": "code",
   "execution_count": 13,
   "outputs": [
    {
     "name": "stdout",
     "output_type": "stream",
     "text": [
      "{'Адмиралтейская': 0, 'Садовая': 4, 'Спасская': 7, 'Сенная площадь': 7, 'Достоевская': 11, 'Владимирская': 14, 'Пушкинская': 12, 'Звенигородская': 9}\n",
      "{'Адмиралтейская': None, 'Садовая': 'Адмиралтейская', 'Спасская': 'Садовая', 'Сенная площадь': 'Садовая', 'Достоевская': 'Спасская', 'Владимирская': 'Достоевская', 'Пушкинская': 'Звенигородская', 'Звенигородская': 'Садовая'}\n",
      "Владимирская\n",
      "Достоевская\n",
      "Спасская\n",
      "Садовая\n",
      "Адмиралтейская\n"
     ]
    }
   ],
   "source": [
    "metro_time = {\n",
    "    'Адмиралтейская': {'Садовая': 4},\n",
    "    'Садовая':\n",
    "        {'Адмиралтейская': 4,\n",
    "         'Звенигородская': 5,\n",
    "         'Сенная площадь': 3,\n",
    "         'Спасская': 3\n",
    "         },\n",
    "    'Спасская':\n",
    "        {'Достоевская': 4,\n",
    "         'Садовая': 3,\n",
    "         'Сенная площадь': 3\n",
    "         },\n",
    "    'Сенная площадь':\n",
    "        {'Садовая': 3,\n",
    "         'Спасская': 3\n",
    "         },\n",
    "    'Достоевская':\n",
    "        {'Владимирская': 3,\n",
    "         'Спасская': 4\n",
    "         },\n",
    "    'Владимирская':\n",
    "        {'Достоевская': 3,\n",
    "         'Пушкинская': 4\n",
    "         },\n",
    "    'Пушкинская':\n",
    "        {'Владимирская': 4,\n",
    "         'Звенигородская': 3\n",
    "         },\n",
    "    'Звенигородская':\n",
    "        {'Садовая': 5,\n",
    "         'Пушкинская': 3\n",
    "         }\n",
    "}\n",
    "\n",
    "# Поиск кратчайшего пути от одной вершины к другой\n",
    "\n",
    "D = {k: 100 for k in metro_time.keys()}  # расстояния\n",
    "start_k = 'Адмиралтейская'  # стартовая вершина\n",
    "D[start_k] = 0  # расстояние от неё до самой себя равно нулю\n",
    "U = {k: False for k in metro_time.keys()}  # флаги просмотра вершин\n",
    "P = {k: None for k in metro_time.keys()}  # предки\n",
    "\n",
    "for _ in range(len(D)):\n",
    "    # выбираем среди непросмотренных наименьшее по расстоянию\n",
    "    min_k = min([k for k in U.keys() if not U[k]], key=lambda x: D[x])\n",
    "\n",
    "    for v in metro_time[min_k].keys():  # проходимся по всем смежным вершинам\n",
    "        if D[v] > D[min_k] + metro_time[min_k][v]:  # если расстояние от текущей вершины меньше\n",
    "            D[v] = D[min_k] + metro_time[min_k][v]  # то фиксируем его\n",
    "            P[v] = min_k  # и записываем как предок\n",
    "\n",
    "    U[min_k] = True  # просмотренную вершину помечаем\n",
    "\n",
    "print(D)\n",
    "print(P)\n",
    "\n",
    "some_station = 'Владимирская'\n",
    "pointer = some_station  # куда должны прийти\n",
    "while pointer is not None:  # перемещаемся, пока не придём в стартовую точку\n",
    "    print(pointer)\n",
    "    pointer = P[pointer]\n"
   ],
   "metadata": {
    "collapsed": false
   }
  },
  {
   "cell_type": "markdown",
   "source": [
    "## Деревья\n",
    "В нашей структуре данных, в каждом узле бинарного дерева мы будем хранить указатель на левого и правого потомка\n",
    "Мы создали класс узла, а в конструкторе записали значение, которое должно храниться в нём. Также инициализировали левого и правого потомка. Пока что в них ничего не хранится — нужно иметь процедуру вставки новых элементов. Напишем разные методы для вставки на место левого потомка и на место правого потомка."
   ],
   "metadata": {
    "collapsed": false
   }
  },
  {
   "cell_type": "code",
   "execution_count": 30,
   "outputs": [
    {
     "name": "stdout",
     "output_type": "stream",
     "text": [
      "2 7 2 6 5 11 5 9 4 \n",
      "2 5 11 6 7 4 9 5 2 \n",
      "2 7 5 6 11 2 5 4 9 "
     ]
    }
   ],
   "source": [
    "class BinaryTree:\n",
    "    def __init__(self, value):\n",
    "        self.value = value\n",
    "        self.left_child = None\n",
    "        self.right_child = None\n",
    "\n",
    "    def insert_left(self, next_value):\n",
    "        if self.left_child is None:  # Если в текущем узле нет левого потомка\n",
    "            self.left_child = BinaryTree(next_value)  # то новый узел вставляем на его место\n",
    "        else:  # Если левый потомок уже существует\n",
    "            new_child = BinaryTree(next_value)  # он становится таким же левым потомком, но уже нового узла\n",
    "            new_child.left_child = self.left_child  #\n",
    "            self.left_child = new_child\n",
    "        return self\n",
    "\n",
    "    def insert_right(self, next_value):\n",
    "        if self.right_child is None:\n",
    "            self.right_child = BinaryTree(next_value)\n",
    "        else:\n",
    "            new_child = BinaryTree(next_value)\n",
    "            new_child.right_child = self.right_child\n",
    "            self.right_child = new_child\n",
    "        return self\n",
    "\n",
    "    def pre_order(self):\n",
    "        print(self.value, end=' ')  # процедура обработки\n",
    "\n",
    "        if self.left_child is not None:  # если левый потомок существует\n",
    "            self.left_child.pre_order()  # рекурсивно вызываем функцию\n",
    "\n",
    "        if self.right_child is not None:  # если правый потомок существует\n",
    "            self.right_child.pre_order()  # рекурсивно вызываем функцию\n",
    "\n",
    "    def post_order(self):\n",
    "        if self.left_child is not None:  # если левый потомок существует\n",
    "            self.left_child.post_order()  # рекурсивно вызываем функцию\n",
    "\n",
    "        if self.right_child is not None:  # если правый потомок существует\n",
    "            self.right_child.post_order()  # рекурсивно вызываем функцию\n",
    "\n",
    "        print(self.value, end=' ')  # процедура обработки\n",
    "\n",
    "    def in_order(self):\n",
    "        if self.left_child is not None:\n",
    "            self.left_child.in_order()\n",
    "\n",
    "        print(self.value, end=' ')\n",
    "\n",
    "        if self.right_child is not None:\n",
    "            self.right_child.in_order()\n",
    "\n",
    "\n",
    "node_root = BinaryTree(2).insert_left(7).insert_right(5)\n",
    "\n",
    "node_7 = node_root.left_child.insert_left(2).insert_right(6)\n",
    "node_6 = node_7.right_child.insert_left(5).insert_right(11)\n",
    "\n",
    "node_5 = node_root.right_child.insert_right(9)\n",
    "node_9 = node_5.right_child.insert_left(4)\n",
    "\n",
    "node_root.pre_order()\n",
    "print()\n",
    "node_root.post_order()\n",
    "print()\n",
    "node_root.in_order()\n",
    "\n"
   ],
   "metadata": {
    "collapsed": false
   }
  }
 ],
 "metadata": {
  "kernelspec": {
   "display_name": "Python 3",
   "language": "python",
   "name": "python3"
  },
  "language_info": {
   "codemirror_mode": {
    "name": "ipython",
    "version": 2
   },
   "file_extension": ".py",
   "mimetype": "text/x-python",
   "name": "python",
   "nbconvert_exporter": "python",
   "pygments_lexer": "ipython2",
   "version": "2.7.6"
  }
 },
 "nbformat": 4,
 "nbformat_minor": 0
}
