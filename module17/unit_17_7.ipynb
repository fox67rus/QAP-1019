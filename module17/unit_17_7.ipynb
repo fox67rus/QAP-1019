{
 "cells": [
  {
   "cell_type": "markdown",
   "source": [
    "# 17.7 Алгоритмы поиска\n",
    "## Линейный поиск\n",
    "Линейный алгоритм поиска может применяться для следующих целей:\n",
    "\n",
    "- Нахождение минимального / максимального элемента.\n",
    "- Поиск элемента с определённым значением.\n",
    "- Количество вхождений элемента в массив.\n",
    "- Количество элементов больше заданного."
   ],
   "metadata": {
    "collapsed": false
   }
  },
  {
   "cell_type": "code",
   "execution_count": 3,
   "outputs": [
    {
     "name": "stdout",
     "output_type": "stream",
     "text": [
      "[4, 5, 8, 7, 9, 6, 5, 2, 1, 4, 5, 8, 5, 77, 85, 5, 2, 3, 6, 4, 8, 9, 8, 5, 7, 4, 5, 2, 1, 3, 2, 9]\n",
      "0\n",
      "False\n"
     ]
    }
   ],
   "source": [
    "def find(array, element):\n",
    "    for i, a in enumerate(array):\n",
    "        if a == element:\n",
    "            return i\n",
    "    return False\n",
    "\n",
    "\n",
    "# 4 5 8 7 9 6 5 2 1 4 5 8 5 77 85 5 2 3 6 4 8 9 8 5 7 4 5 2 1 3 2 9\n",
    "array = list(map(int, input().split()))\n",
    "element = int(input())\n",
    "\n",
    "print(array)\n",
    "print(element)\n",
    "print(find(array, element))"
   ],
   "metadata": {
    "collapsed": false
   }
  },
  {
   "cell_type": "code",
   "execution_count": 4,
   "outputs": [
    {
     "name": "stdout",
     "output_type": "stream",
     "text": [
      "4\n"
     ]
    }
   ],
   "source": [
    "def count(array, element):\n",
    "    count = 0\n",
    "    for i in array:\n",
    "        if i == element:\n",
    "            count += 1\n",
    "    return count\n",
    "\n",
    "\n",
    "array = list(map(int, input().split()))\n",
    "element = int(input())\n",
    "print(count(array, element))"
   ],
   "metadata": {
    "collapsed": false
   }
  },
  {
   "cell_type": "markdown",
   "source": [
    "## Двоичный поиск\n",
    "Применяется только для отсортированных структур данных"
   ],
   "metadata": {
    "collapsed": false
   }
  },
  {
   "cell_type": "code",
   "execution_count": 6,
   "outputs": [
    {
     "name": "stdout",
     "output_type": "stream",
     "text": [
      "43\n"
     ]
    }
   ],
   "source": [
    "def binary_search(array, element, left, right):\n",
    "    if left > right:\n",
    "        return False\n",
    "\n",
    "    middle = (right + left) // 2\n",
    "    if array[middle] == element:\n",
    "        return middle\n",
    "    elif element < array[middle]:\n",
    "        return binary_search(array, element, left, middle - 1)\n",
    "    else:\n",
    "        return binary_search(array, element, middle + 1, right)\n",
    "\n",
    "\n",
    "array = [i for i in range(1, 100)]\n",
    "element = int(input())\n",
    "print(binary_search(array, element, 0, len(array) - 1))"
   ],
   "metadata": {
    "collapsed": false
   }
  }
 ],
 "metadata": {
  "kernelspec": {
   "display_name": "Python 3",
   "language": "python",
   "name": "python3"
  },
  "language_info": {
   "codemirror_mode": {
    "name": "ipython",
    "version": 2
   },
   "file_extension": ".py",
   "mimetype": "text/x-python",
   "name": "python",
   "nbconvert_exporter": "python",
   "pygments_lexer": "ipython2",
   "version": "2.7.6"
  }
 },
 "nbformat": 4,
 "nbformat_minor": 0
}
