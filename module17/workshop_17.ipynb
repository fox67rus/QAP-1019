{
 "cells": [
  {
   "cell_type": "code",
   "execution_count": 1,
   "metadata": {
    "collapsed": true
   },
   "outputs": [
    {
     "name": "stdout",
     "output_type": "stream",
     "text": [
      "2793652320944\n",
      "2793653384496\n"
     ]
    }
   ],
   "source": [
    "a = 'Hello'\n",
    "print(id(a))\n",
    "a += ' World'\n",
    "print(id(a))"
   ]
  },
  {
   "cell_type": "code",
   "execution_count": null,
   "outputs": [],
   "source": [
    "a = {'sg': 'Hello', 'sg1': 'World'}"
   ],
   "metadata": {
    "collapsed": false
   }
  },
  {
   "cell_type": "code",
   "execution_count": 3,
   "outputs": [
    {
     "name": "stdout",
     "output_type": "stream",
     "text": [
      "20\n"
     ]
    }
   ],
   "source": [
    "# поиск наибольшего общего делителя\n",
    "def e_alg(a: int, b: int) -> int:\n",
    "    while a != 0 and b != 0:\n",
    "        if a < b:\n",
    "            b %= a\n",
    "        else:\n",
    "            a %= b\n",
    "    return a + b\n",
    "\n",
    "\n",
    "print(e_alg(20, 100))"
   ],
   "metadata": {
    "collapsed": false
   }
  },
  {
   "cell_type": "code",
   "execution_count": 6,
   "outputs": [
    {
     "name": "stdout",
     "output_type": "stream",
     "text": [
      "3\n"
     ]
    }
   ],
   "source": [
    "# бинарный поиск\n",
    "def bi_search(a: int, array: list) -> int:\n",
    "    left, right = 0, len(array)\n",
    "\n",
    "    while left < right:\n",
    "        middle = (left + right) // 2\n",
    "        if array[middle] < a:\n",
    "            left = middle + 1\n",
    "        else:\n",
    "            right = middle\n",
    "    return left\n",
    "\n",
    "\n",
    "print(bi_search(10, [1, 5, 7, 10, 20, 30]))\n"
   ],
   "metadata": {
    "collapsed": false
   }
  }
 ],
 "metadata": {
  "kernelspec": {
   "display_name": "Python 3",
   "language": "python",
   "name": "python3"
  },
  "language_info": {
   "codemirror_mode": {
    "name": "ipython",
    "version": 2
   },
   "file_extension": ".py",
   "mimetype": "text/x-python",
   "name": "python",
   "nbconvert_exporter": "python",
   "pygments_lexer": "ipython2",
   "version": "2.7.6"
  }
 },
 "nbformat": 4,
 "nbformat_minor": 0
}
