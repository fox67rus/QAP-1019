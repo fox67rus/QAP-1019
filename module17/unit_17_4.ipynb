{
 "cells": [
  {
   "cell_type": "markdown",
   "source": [
    "Напишем функцию par_checker(string), которая проверяет строку string на корректность расстановки скобок"
   ],
   "metadata": {
    "collapsed": false
   }
  },
  {
   "cell_type": "code",
   "execution_count": 9,
   "outputs": [
    {
     "data": {
      "text/plain": "True"
     },
     "execution_count": 9,
     "metadata": {},
     "output_type": "execute_result"
    }
   ],
   "source": [
    "pars = {')': '(', ']': '[', '}': '{', '>': '<'}\n",
    "\n",
    "def par_checker(string):\n",
    "    stack = [] # инициализируем стек\n",
    "\n",
    "    for s in string: # читаем строку посимвольно\n",
    "        if s in \"([{<\": # если открывающая скобка,\n",
    "            stack.append(s) # добавляем её в стек\n",
    "        elif s in \")]}>\":\n",
    "            # если встретилась закрывающая скобка, то проверяем\n",
    "            # пуст ли стек и является ли верхний элемент — открывающей скобкой\n",
    "            if len(stack) > 0 and stack[-1] == pars[s]:\n",
    "                stack.pop() # удаляем из стека\n",
    "            else: # иначе завершаем функцию с False\n",
    "                return False\n",
    "    # если стек пустой, то незакрытых скобок не осталось\n",
    "    # значит, возвращаем True, иначе — False\n",
    "    return len(stack) == 0\n",
    "\n",
    "par_checker('(5+6)*(7+8)/(4+3)')"
   ],
   "metadata": {
    "collapsed": false
   }
  }
 ],
 "metadata": {
  "kernelspec": {
   "display_name": "Python 3",
   "language": "python",
   "name": "python3"
  },
  "language_info": {
   "codemirror_mode": {
    "name": "ipython",
    "version": 2
   },
   "file_extension": ".py",
   "mimetype": "text/x-python",
   "name": "python",
   "nbconvert_exporter": "python",
   "pygments_lexer": "ipython2",
   "version": "2.7.6"
  }
 },
 "nbformat": 4,
 "nbformat_minor": 0
}
