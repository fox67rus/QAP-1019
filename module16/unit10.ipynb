{
 "cells": [
  {
   "cell_type": "markdown",
   "source": [
    "# 16.10 Тонкости обработки исключений. Собственные классы исключений."
   ],
   "metadata": {
    "collapsed": false
   }
  },
  {
   "cell_type": "code",
   "execution_count": 1,
   "outputs": [
    {
     "name": "stdout",
     "output_type": "stream",
     "text": [
      "Hello from arithmetic error\n"
     ]
    }
   ],
   "source": [
    "try:\n",
    "    raise ZeroDivisionError  # возбуждаем исключение ZeroDivisionError\n",
    "except ArithmeticError:  # ловим его родителя\n",
    "    print(\"Hello from arithmetic error\")"
   ],
   "metadata": {
    "collapsed": false
   }
  },
  {
   "cell_type": "code",
   "execution_count": 2,
   "outputs": [
    {
     "name": "stdout",
     "output_type": "stream",
     "text": [
      "Zero division error\n"
     ]
    }
   ],
   "source": [
    "try:\n",
    "    raise ZeroDivisionError\n",
    "except ZeroDivisionError:  # сначала пытаемся поймать наследника\n",
    "    print(\"Zero division error\")\n",
    "except ArithmeticError:  # потом ловим потомка\n",
    "    print(\"Arithmetic error\")"
   ],
   "metadata": {
    "collapsed": false
   }
  },
  {
   "cell_type": "markdown",
   "source": [
    "Принцип написания и отлова собственного исключения следующий:"
   ],
   "metadata": {
    "collapsed": false
   }
  },
  {
   "cell_type": "code",
   "execution_count": 3,
   "outputs": [
    {
     "name": "stdout",
     "output_type": "stream",
     "text": [
      "message\n"
     ]
    }
   ],
   "source": [
    "class MyException(Exception):  # создаём пустой класс – исключения\n",
    "    pass\n",
    "\n",
    "\n",
    "try:\n",
    "    raise MyException(\"message\")  # поднимаем наше исключение\n",
    "except MyException as e:  # ловим его за хвост как шкодливого котёнка\n",
    "    print(e)  # выводим информацию об исключении"
   ],
   "metadata": {
    "collapsed": false
   }
  },
  {
   "cell_type": "markdown",
   "source": [
    "Если вы хотите добавить собственные аргументы в конструктор, дополнительно произвести какие либо операции, то можете спокойно это делать, главное не забыть о нескольких нюансах:"
   ],
   "metadata": {
    "collapsed": false
   }
  },
  {
   "cell_type": "code",
   "execution_count": 4,
   "outputs": [
    {
     "name": "stdout",
     "output_type": "stream",
     "text": [
      "Errors: error\n",
      "message\n"
     ]
    }
   ],
   "source": [
    "class ParentException(Exception):\n",
    "    def __init__(self, message,\n",
    "                 error):  # допишем к нашему пустому классу конструктор, который будет печатать дополнительно в консоль информацию об ошибке.\n",
    "        super().__init__(message)  # помним про вызов конструктора родительского класса\n",
    "        print(f\"Errors: {error}\")  # печатаем ошибку\n",
    "\n",
    "\n",
    "class ChildException(ParentException):  # создаём пустой класс – исключение наследника, наследуемся от ParentException\n",
    "    def __init__(self, message, error):\n",
    "        super().__init__(message, error)\n",
    "\n",
    "\n",
    "try:\n",
    "    raise ChildException(\"message\", \"error\")  # поднимаем исключение-наследник, передаём дополнительный аргумент\n",
    "except ParentException as e:\n",
    "    print(e)  # выводим информацию об исключении"
   ],
   "metadata": {
    "collapsed": false
   }
  },
  {
   "cell_type": "markdown",
   "source": [
    "Давайте подведём итоги:\n",
    "\n",
    "Исключения — это такие особенные классы, которые как и любые классы можно наследовать. Если вы хотите ловить несколько исключений, то сначала ловите потомков, а потом родителей, чтобы ничего не упустить.\n",
    "Чтобы создать собственный класс, нужно просто написать пустой класс и наследовать его от класса Exception, этого будет достаточно.\n",
    "Не обязательно отлавливать сам класс, при необходимости можно отлавливать его родителя, это тоже будет работать, но вы можете упустить важную информацию."
   ],
   "metadata": {
    "collapsed": false
   }
  },
  {
   "cell_type": "markdown",
   "source": [
    "### Задание 16.10.5\n",
    "Задание на самопроверку.\n",
    "\n",
    "Создать класс SquareException. Добавить в конструктор класса SquareException собственное исключение NonPositiveDigitException, унаследованное от ValueError, которое будет срабатывать каждый раз, когда сторона квадрата меньше или равна 0."
   ],
   "metadata": {
    "collapsed": false
   }
  },
  {
   "cell_type": "code",
   "execution_count": 21,
   "outputs": [
    {
     "name": "stdout",
     "output_type": "stream",
     "text": [
      "Ошибка при создании квадрата со стороной 0. Значение не может быть меньше 1\n",
      "100\n"
     ]
    }
   ],
   "source": [
    "class NonPositiveDigitException(ValueError):\n",
    "    def __init__(self, *args):\n",
    "        if args:\n",
    "            self.message = args[0]\n",
    "        else:\n",
    "            self.message = None\n",
    "\n",
    "    def __str__(self):\n",
    "        if self.message:\n",
    "            return f'{self.message}'\n",
    "\n",
    "\n",
    "class Square:\n",
    "    def __init__(self, a):\n",
    "        if a > 0:\n",
    "            self.a = a\n",
    "        else:\n",
    "            raise NonPositiveDigitException(f'Ошибка при создании квадрата со стороной {a}. Значение не может быть меньше 1')\n",
    "\n",
    "    def get_area(self):\n",
    "        return self.a ** 2\n",
    "\n",
    "\n",
    "try:\n",
    "    square_1 = Square(0)\n",
    "    print(square_1.get_area())\n",
    "except NonPositiveDigitException as e:\n",
    "    print(e)\n",
    "\n",
    "try:\n",
    "    square_2 = Square(10)\n",
    "    print(square_2.get_area())\n",
    "except NonPositiveDigitException as e:\n",
    "    print(e)\n"
   ],
   "metadata": {
    "collapsed": false
   }
  }
 ],
 "metadata": {
  "kernelspec": {
   "display_name": "Python 3",
   "language": "python",
   "name": "python3"
  },
  "language_info": {
   "codemirror_mode": {
    "name": "ipython",
    "version": 2
   },
   "file_extension": ".py",
   "mimetype": "text/x-python",
   "name": "python",
   "nbconvert_exporter": "python",
   "pygments_lexer": "ipython2",
   "version": "2.7.6"
  }
 },
 "nbformat": 4,
 "nbformat_minor": 0
}
