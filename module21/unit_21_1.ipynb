{
 "cells": [
  {
   "cell_type": "markdown",
   "source": [
    "# 21.1. Функции и как они работают. Возвращаемые типы и типы передаваемых параметров\n",
    "Можно передавать функции в качестве аргументов в другие функции"
   ],
   "metadata": {
    "collapsed": false
   }
  },
  {
   "cell_type": "code",
   "execution_count": 3,
   "outputs": [
    {
     "data": {
      "text/plain": "'Yo Bob, together we are the awesomest!'"
     },
     "execution_count": 3,
     "metadata": {},
     "output_type": "execute_result"
    }
   ],
   "source": [
    "def say_hello(name):\n",
    "    return f\"Hello {name}\"\n",
    "\n",
    "def be_awesome(name):\n",
    "    return f\"Yo {name}, together we are the awesomest!\"\n",
    "\n",
    "def greet_bob(greeter_func):\n",
    "    return greeter_func(\"Bob\")\n",
    "\n",
    "greet_bob(say_hello)\n",
    "greet_bob(be_awesome)"
   ],
   "metadata": {
    "collapsed": false
   }
  },
  {
   "cell_type": "markdown",
   "source": [
    "Мы можем определить функцию внутри другой функции. Такие функции называются внутренними.\n",
    "\n",
    "Давайте рассмотрим следующий пример:"
   ],
   "metadata": {
    "collapsed": false
   }
  },
  {
   "cell_type": "code",
   "execution_count": null,
   "outputs": [],
   "source": [
    "def parent():\n",
    "    print(\"Printing from the parent() function\")\n",
    "\n",
    "    def first_child():\n",
    "        print(\"Printing from the first_child() function\")\n",
    "\n",
    "    def second_child():\n",
    "        print(\"Printing from the second_child() function\")\n",
    "\n",
    "    second_child()\n",
    "    first_child()"
   ],
   "metadata": {
    "collapsed": false
   }
  },
  {
   "cell_type": "markdown",
   "source": [
    "Мы говорили о том, что для декораторов нам нужно рассматривать функцию в контексте кода, который возвращает значение. До этого момента мы сталкивались с примерами простых возвращаемых значений, но в Python также есть возможность вернуть функцию. Следующий пример это хорошо иллюстрирует:"
   ],
   "metadata": {
    "collapsed": false
   }
  },
  {
   "cell_type": "code",
   "execution_count": 6,
   "outputs": [
    {
     "data": {
      "text/plain": "'Call me Liam'"
     },
     "execution_count": 6,
     "metadata": {},
     "output_type": "execute_result"
    }
   ],
   "source": [
    "def parent(num):\n",
    "    def first_child():\n",
    "        return \"Hi, I am Emma\"\n",
    "\n",
    "    def second_child():\n",
    "        return \"Call me Liam\"\n",
    "\n",
    "    if num == 1:\n",
    "        return first_child\n",
    "    else:\n",
    "        return second_child\n",
    "\n",
    "first = parent(1)\n",
    "second = parent(2)\n",
    "first()\n",
    "second()"
   ],
   "metadata": {
    "collapsed": false
   }
  }
 ],
 "metadata": {
  "kernelspec": {
   "display_name": "Python 3",
   "language": "python",
   "name": "python3"
  },
  "language_info": {
   "codemirror_mode": {
    "name": "ipython",
    "version": 2
   },
   "file_extension": ".py",
   "mimetype": "text/x-python",
   "name": "python",
   "nbconvert_exporter": "python",
   "pygments_lexer": "ipython2",
   "version": "2.7.6"
  }
 },
 "nbformat": 4,
 "nbformat_minor": 0
}
