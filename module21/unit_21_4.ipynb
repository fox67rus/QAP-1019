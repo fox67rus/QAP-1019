{
 "cells": [
  {
   "cell_type": "markdown",
   "source": [
    "# 21.4.1. Декорирование функций с аргументами. Знакомство с фикстурами.\n",
    "*Фикстуры* — это функции, выполняемые pytest до или после тестовых функций. Код в фикстуре может делать все, что вам необходимо: подготавливать данные для теста, настраивать логирование приложения и т.д. Иными словами, фикстуры обеспечивают механизм отделения непосредственно кода тестов от «подготовки к» и «очистке после» исполнения тестов.\n",
    "простой пример фикстуры, которая возвращает число:"
   ],
   "metadata": {
    "collapsed": false
   }
  },
  {
   "cell_type": "code",
   "execution_count": null,
   "outputs": [],
   "source": [
    "import pytest\n",
    "\n",
    "@pytest.fixture()\n",
    "def some_data():\n",
    "    return 42\n",
    "\n",
    "def test_some_data(some_data):\n",
    "    assert some_data == 42"
   ],
   "metadata": {
    "collapsed": false
   }
  },
  {
   "cell_type": "markdown",
   "source": [
    "Декоратор @pytest.fixture() используется, чтобы сообщить pytest, что функция является фикстурой. Если мы включаем имя фикстуры в список параметров тестовой функции, то pytest запустит сначала саму фикстуру, а потом передаст результат её выполнения в тестовую функцию. В данном случае фикстура возвращает данные, но в фикстурах может выполняться и любая другая работа.\n",
    "\n",
    "Тест test_some_data() имеет в качестве параметра имя фикстуры some_data, pytest определит это и найдёт фикстуру с таким названием. Наименование значимо в pytest, pytest будет искать в модуле теста фикстуру с таким именем. В случае, если такой фикстуры найдено не будет, поиск продолжится в файле conftest.py.\n",
    "\n",
    "## Организация setup и teardown в фикстурах\n",
    "Итак, внимательно посмотрев на код, мы заметили, что в каждом тестовом методе происходит одна и та же операция — получение ключа API для последующего запроса. Давайте на примере одного теста разберем, как нам использовать эту часть перед тем, как выполнится тест.\n",
    "\n",
    "Фикстура setup. Переделаем нашу функцию инициализации класса следующим образом:"
   ],
   "metadata": {
    "collapsed": false
   }
  },
  {
   "cell_type": "code",
   "execution_count": null,
   "outputs": [],
   "source": [
    "def get_key():\n",
    "    # переменные email и password нужно заменить своими учетными данными\n",
    "    response = requests.post(url='https://petfriends.skillfactory.ru/login',\n",
    "                             data={\"email\": email, \"pass\": password})\n",
    "    assert response.status_code == 200, 'Запрос выполнен неуспешно'\n",
    "    assert 'Cookie' in response.request.headers, 'В запросе не передан ключ авторизации'\n",
    "    return response.request.headers.get('Cookie')\n",
    "\n",
    "def test_getAllPets(get_key):\n",
    "    response = requests.get(url='https://petfriends.skillfactory.ru/api/pets',\n",
    "                            headers={\"Cookie\": get_key})\n",
    "    assert response.status_code == 200, 'Запрос выполнен неуспешно'\n",
    "    assert len(response.json().get('pets')) > 0, 'Количество питомцев не соответствует ожиданиям'"
   ],
   "metadata": {
    "collapsed": false
   }
  },
  {
   "cell_type": "markdown",
   "source": [
    "Логика работы фикстуры такова:\n",
    "\n",
    "Отправляем запрос логина;\n",
    "Проверяем, что код ответа от сервиса равен 200;\n",
    "Проверяем, что в хедерах есть Cookie;\n",
    "Возвращаем в тест Cookie.\n",
    "Благодаря двум проверкам в фикстуре, если эта часть выполнится с ошибкой, то тесты закончатся сразу же на этом этапе.\n",
    "\n",
    "Теперь давайте разберёмся с teardown. Для этого напишем фикстуру, которая будет считать, сколько времени длился тест."
   ],
   "metadata": {
    "collapsed": false
   }
  },
  {
   "cell_type": "code",
   "execution_count": null,
   "outputs": [],
   "source": [
    "@pytest.fixture(autouse=True)\n",
    "def time_delta():\n",
    "    start_time = datetime.now()\n",
    "    yield\n",
    "    end_time = datetime.now()\n",
    "    print (f\"\\nТест шел: {end_time - start_time}\")"
   ],
   "metadata": {
    "collapsed": false
   }
  },
  {
   "cell_type": "markdown",
   "source": [
    "Каждый раз передавать в параметры функции-теста имя фикстуры не очень удобно. Поэтому для того чтобы фикстура вызывалась автоматически, мы можем указать в её параметрах autouse=True.\n",
    "\n",
    "Теперь разберёмся, как же организован teardown механизм. Для этого в pytest есть специальное слово, которое позволяет посреди фикстуры вызвать выполнение тестовой функции и продолжить после того, как тестовая функция закончит делать свои операции. Слово это — yield. Достаточно написать его перед вызовом блока teardown фикстуры, и всё готово.\n",
    "\n",
    "Логика работы фикстуры такова:\n",
    "\n",
    "Получаем текущее время;\n",
    "Переходим к выполнению теста;\n",
    "Получаем текущее время еще раз;\n",
    "Выводим на экран разницу между первой и второй временными отсечками."
   ],
   "metadata": {
    "collapsed": false
   }
  },
  {
   "cell_type": "code",
   "execution_count": null,
   "outputs": [],
   "source": [],
   "metadata": {
    "collapsed": false
   }
  }
 ],
 "metadata": {
  "kernelspec": {
   "display_name": "Python 3",
   "language": "python",
   "name": "python3"
  },
  "language_info": {
   "codemirror_mode": {
    "name": "ipython",
    "version": 2
   },
   "file_extension": ".py",
   "mimetype": "text/x-python",
   "name": "python",
   "nbconvert_exporter": "python",
   "pygments_lexer": "ipython2",
   "version": "2.7.6"
  }
 },
 "nbformat": 4,
 "nbformat_minor": 0
}
