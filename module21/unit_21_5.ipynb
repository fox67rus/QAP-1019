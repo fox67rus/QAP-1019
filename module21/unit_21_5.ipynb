{
 "cells": [
  {
   "cell_type": "markdown",
   "source": [
    "# 21.5. Встроенные фикстуры pytest\n",
    "## @pytest.mark фикстура\n",
    "- **pytest.mark.skip** - помечает тест как пропущенный, то есть при запуске тест не будет выполняться."
   ],
   "metadata": {
    "collapsed": false
   }
  },
  {
   "cell_type": "code",
   "execution_count": null,
   "outputs": [],
   "source": [
    "@pytest.mark.skip(reason=\"Баг в продукте - <ссылка>\")\n",
    "def test_one(): # Это наш тест, который находит тот самый баг\n",
    "    pass"
   ],
   "metadata": {
    "collapsed": false
   }
  },
  {
   "cell_type": "markdown",
   "source": [
    "- **pytest.mark.skipif** - о же самое, что и предыдущая, но мы имеем возможность управлять игнорируемыми тестами"
   ],
   "metadata": {
    "collapsed": false
   }
  },
  {
   "cell_type": "code",
   "execution_count": null,
   "outputs": [],
   "source": [
    "@pytest.mark.skipif(sys.version_info < (3, 6), reason=\"Тест требует python версии 3.6 или выше\")\n",
    "def test_python36_and_greater():\n",
    "    pass"
   ],
   "metadata": {
    "collapsed": false
   }
  },
  {
   "cell_type": "markdown",
   "source": [
    "мы можем создать переменную, в которой будет выполняться проверка версии языка, оборачивать в фикстуру pytest и далее использовать её в тестах в виде декоратора:"
   ],
   "metadata": {
    "collapsed": false
   }
  },
  {
   "cell_type": "code",
   "execution_count": null,
   "outputs": [],
   "source": [
    "minversion = pytest.mark.skipif(\n",
    "    sys.version_info < (3, 6), reason=\"at least mymodule-1.1 required\"\n",
    ")\n",
    "\n",
    "@minversion\n",
    "def test_python36_and_greater():\n",
    "    pass"
   ],
   "metadata": {
    "collapsed": false
   }
  },
  {
   "cell_type": "markdown",
   "source": [
    "Перечисленные фикстуры могут применяться аналогичным образом к целым классам с тестами. Например, это удобно применять, когда у нас имеется несколько файлов с тестами для различных операционных систем, но мы не знаем заранее, на компьютере с какой ОС будет запускаться пачка тестов."
   ],
   "metadata": {
    "collapsed": false
   }
  },
  {
   "cell_type": "code",
   "execution_count": null,
   "outputs": [],
   "source": [
    "@pytest.mark.skipif(env != 'test', reason=\"Эта фикстура запускается только на тестовом окружении\")"
   ],
   "metadata": {
    "collapsed": false
   }
  },
  {
   "cell_type": "markdown",
   "source": [
    "- **pytest.mark.xfail** - Помечает тест как падающий."
   ],
   "metadata": {
    "collapsed": false
   }
  },
  {
   "cell_type": "code",
   "execution_count": null,
   "outputs": [],
   "source": [
    "@pytest.mark.xfail\n",
    "def test_flaky():\n",
    "\n",
    "# с условием\n",
    "@pytest.mark.xfail(sys.platform == \"win32\", reason=\"Ошибка в системной библиотеке\") # На платформе Windows ожидаем, что тест будет падать\n",
    "def test_not_for_windows():\n",
    "\n",
    "# конкретное исключение\n",
    "@pytest.mark.xfail(raises=RuntimeError)\n",
    "def test_x_status_runtime_only():"
   ],
   "metadata": {
    "collapsed": false
   }
  },
  {
   "cell_type": "markdown",
   "source": [
    "## Пользовательские группы\n",
    "необходимо написать, что мы помечаем тест, и дать имя группы (@pytest.mark.auth). Далее необходимо в проекте создать файл pytest.ini, туда внести информацию об описанных в тестах группах. Давайте разберём непосредственно в коде. У нас есть четыре теста, два из них на аутентификацию пользователя, остальные два — это тесты мероприятий. В каждой такой группе соответственно API и UI тесты:"
   ],
   "metadata": {
    "collapsed": false
   }
  },
  {
   "cell_type": "code",
   "execution_count": null,
   "outputs": [],
   "source": [
    "@pytest.mark.api\n",
    "@pytest.mark.auth\n",
    "def test_auth_api():\n",
    "   pass\n",
    "\n",
    "@pytest.mark.ui\n",
    "@pytest.mark.auth\n",
    "def test_auth_ui():\n",
    "   pass\n",
    "\n",
    "@pytest.mark.api\n",
    "@pytest.mark.event\n",
    "def test_event_api():\n",
    "   pass\n",
    "\n",
    "@pytest.mark.ui\n",
    "@pytest.mark.event\n",
    "def test_event_ui():\n",
    "   pass"
   ],
   "metadata": {
    "collapsed": false
   }
  },
  {
   "cell_type": "markdown",
   "source": [
    "В корне проекта создадим файл pytest.ini и добавим туда описание наших категорий. Тесты будут запускаться и без этого файла, но его наличие избавит нас от постоянных предупреждений в отчетах:\n",
    "```bash\n",
    "[pytest]\n",
    "markers =\n",
    "   api: тесты API\n",
    "   ui: тесты UI\n",
    "   event: тесты мероприятий\n",
    "   auth: тесты авторизации\n",
    " ```\n",
    " Все, что нам осталось сделать — это научиться фильтровать такие тесты. Например, если нам нужно запустить только API тесты, то в консоли надо набрать:\n",
    "```bash\n",
    "pytest test.py -v -m \"api\" # test.py замените на имя своего файла в проекте\n",
    "```\n",
    "Например, если мы хотим запустить только UI тесты авторизации, то команда в консоли будет выглядеть так:\n",
    "```bash\n",
    "pytest test.py -v -m \"ui and auth\"\n",
    "```\n",
    "А если нам нужно запустить все виды тесты на модули авторизации и мероприятий, то команда для запуска будет следующая:\n",
    "```bash\n",
    "pytest test.py -v -m \"auth or event\"\n",
    "```\n",
    "[Документация](https://pytest-docs-ru.readthedocs.io/ru/latest/example/markers.html)"
   ],
   "metadata": {
    "collapsed": false
   }
  }
 ],
 "metadata": {
  "kernelspec": {
   "display_name": "Python 3",
   "language": "python",
   "name": "python3"
  },
  "language_info": {
   "codemirror_mode": {
    "name": "ipython",
    "version": 2
   },
   "file_extension": ".py",
   "mimetype": "text/x-python",
   "name": "python",
   "nbconvert_exporter": "python",
   "pygments_lexer": "ipython2",
   "version": "2.7.6"
  }
 },
 "nbformat": 4,
 "nbformat_minor": 0
}
