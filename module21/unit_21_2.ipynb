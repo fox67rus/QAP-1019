{
 "cells": [
  {
   "cell_type": "markdown",
   "source": [
    "# 21.2. Простые декораторы"
   ],
   "metadata": {
    "collapsed": false
   }
  },
  {
   "cell_type": "code",
   "execution_count": 1,
   "outputs": [
    {
     "name": "stdout",
     "output_type": "stream",
     "text": [
      "Начало выполнения функции.\n",
      "Это мой первый декоратор!\n",
      "Конец выполнения функции.\n"
     ]
    }
   ],
   "source": [
    "def my_decorator(func):\n",
    "     def wrapper():\n",
    "          print(\"Начало выполнения функции.\")\n",
    "          func()\n",
    "          print(\"Конец выполнения функции.\")\n",
    "     return wrapper\n",
    "\n",
    "#Эту функцию мы будем декорировать\n",
    "def my_first_decorator():\n",
    "\tprint(\"Это мой первый декоратор!\")\n",
    "\n",
    "my_first_decorator = my_decorator(my_first_decorator)\n",
    "my_first_decorator()"
   ],
   "metadata": {
    "collapsed": false
   }
  },
  {
   "cell_type": "markdown",
   "source": [
    "Давайте рассмотрим пример функции, которая выполняется только в рабочие часы (допустим, во время ремонта, чтобы не беспокоить соседа). Если текущее время соответствует промежутку с 9 до 18, то мы выполняем функцию, в противном случае мы пропускаем этот шаг"
   ],
   "metadata": {
    "collapsed": false
   }
  },
  {
   "cell_type": "code",
   "execution_count": 3,
   "outputs": [
    {
     "name": "stdout",
     "output_type": "stream",
     "text": [
      "Я пишу тесты на python!\n"
     ]
    }
   ],
   "source": [
    "from datetime import datetime\n",
    "\n",
    "\n",
    "def working_hours(func):\n",
    "    def wrapper():\n",
    "        if 9 <= datetime.now().hour < 18:\n",
    "            func()\n",
    "        else:\n",
    "            pass  # Нерабочее время, выходим\n",
    "    return wrapper\n",
    "\n",
    "def writing_tests():\n",
    "    print(\"Я пишу тесты на python!\")\n",
    "\n",
    "writing_tests = working_hours(writing_tests)\n",
    "writing_tests()"
   ],
   "metadata": {
    "collapsed": false
   }
  },
  {
   "cell_type": "markdown",
   "source": [
    "«Синтаксический сахар»\n",
    "Синтаксический сахар — это возможность языка облегчать работу со своими же функциями. Например, в нашем случае мы всего лишь пишем @my_decorator над именем функции, и Python понимает, что эта конструкция равносильна my_decorator(my_first_decorator), что более удобно как для понимая, так и для чтения кода."
   ],
   "metadata": {
    "collapsed": false
   }
  },
  {
   "cell_type": "code",
   "execution_count": 4,
   "outputs": [
    {
     "name": "stdout",
     "output_type": "stream",
     "text": [
      "Начало выполнения функции.\n",
      "Это мой первый декоратор!\n",
      "Конец выполнения функции.\n"
     ]
    }
   ],
   "source": [
    "def my_decorator(func):\n",
    "     def wrapper():\n",
    "          print(\"Начало выполнения функции.\")\n",
    "          func()\n",
    "          print(\"Конец выполнения функции.\")\n",
    "     return wrapper\n",
    "\n",
    "@my_decorator\n",
    "def my_first_decorator():\n",
    "     print(\"Это мой первый декоратор!\")\n",
    "\n",
    "my_first_decorator()"
   ],
   "metadata": {
    "collapsed": false
   }
  }
 ],
 "metadata": {
  "kernelspec": {
   "display_name": "Python 3",
   "language": "python",
   "name": "python3"
  },
  "language_info": {
   "codemirror_mode": {
    "name": "ipython",
    "version": 2
   },
   "file_extension": ".py",
   "mimetype": "text/x-python",
   "name": "python",
   "nbconvert_exporter": "python",
   "pygments_lexer": "ipython2",
   "version": "2.7.6"
  }
 },
 "nbformat": 4,
 "nbformat_minor": 0
}
