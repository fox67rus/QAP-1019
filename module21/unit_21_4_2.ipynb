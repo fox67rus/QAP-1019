{
 "cells": [
  {
   "cell_type": "markdown",
   "source": [
    "# 21.4.2. Области видимости фикстур\n",
    "Этот параметр может принимать следующие значения:\n",
    "\n",
    "- function — запускается для каждого теста по умолчанию любая фикстура имеет scope=«function»;\n",
    "- class — запускается для каждого тестового класса;\n",
    "- module — запускается для каждого модуля;\n",
    "- package — запускается для каждого пакета;\n",
    "- session — запускается один раз перед всеми тестами."
   ],
   "metadata": {
    "collapsed": false
   }
  },
  {
   "cell_type": "code",
   "execution_count": null,
   "outputs": [],
   "source": [
    "@pytest.fixture(scope=\"class\", autouse=True)\n",
    "def session_fixture():\n",
    "    print(\"\\nclass fixture starts\")\n",
    "\n",
    "@pytest.fixture(scope=\"function\", autouse=True)\n",
    "def function_fixture():\n",
    "    print(\"\\nfunction fixture starts\")\n",
    "\n",
    "class TestClass23:\n",
    "\n",
    "    def test_first(self):\n",
    "        pass\n",
    "\n",
    "def test_second(self):\n",
    "        pass"
   ],
   "metadata": {
    "collapsed": false
   }
  },
  {
   "cell_type": "markdown",
   "source": [
    "# Фикстура request\n",
    "Иногда в процессе выполнения теста нам необходимо получать разную служебную информацию о запущенном нами тесте. Например имя теста или полный путь до файлика, в котором лежит тест. Эта информация хранится в специальном объекте, получить который можно вызвав фикстуру request."
   ],
   "metadata": {
    "collapsed": false
   }
  },
  {
   "cell_type": "code",
   "execution_count": null,
   "outputs": [],
   "source": [
    "@pytest.fixture()\n",
    "def request_fixture(request):\n",
    "    print(request.fixturename)  # название фикстуры\n",
    "    print(request.scope)  # её область видимости\n",
    "    print(request.function.__name__)  # название теста\n",
    "    print(request.cls)  # название класса\n",
    "    print(request.module.__name__)  # Название модуля\n",
    "    print(request.fspath)  # путь до файлика, из которого запущен наш тест\n",
    "    if request.cls:\n",
    "        return f\"\\n У теста {request.function.__name__} класс есть\\n\"\n",
    "    else:\n",
    "        return f\"\\n У теста {request.function.__name__} класса нет\\n\"\n",
    "\n",
    "def test_request_1(request_fixture):\n",
    "        print(request_fixture)\n",
    "\n",
    "class TestClassRequest:\n",
    "\n",
    "    def test_request_2(self, request_fixture):\n",
    "        print(request_fixture)"
   ],
   "metadata": {
    "collapsed": false
   }
  }
 ],
 "metadata": {
  "kernelspec": {
   "display_name": "Python 3",
   "language": "python",
   "name": "python3"
  },
  "language_info": {
   "codemirror_mode": {
    "name": "ipython",
    "version": 2
   },
   "file_extension": ".py",
   "mimetype": "text/x-python",
   "name": "python",
   "nbconvert_exporter": "python",
   "pygments_lexer": "ipython2",
   "version": "2.7.6"
  }
 },
 "nbformat": 4,
 "nbformat_minor": 0
}
