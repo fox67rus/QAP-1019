{
 "cells": [
  {
   "cell_type": "markdown",
   "source": [
    "# 21.3. Декорирование функций с аргументами"
   ],
   "metadata": {
    "collapsed": false
   }
  },
  {
   "cell_type": "code",
   "execution_count": null,
   "outputs": [],
   "source": [
    "def do_twice(func):\n",
    "    def wrapper(*args, **kwargs):\n",
    "        func(*args, **kwargs)\n",
    "        func(*args, **kwargs)\n",
    "    return wrapper\n",
    "\n",
    "@do_twice\n",
    "def test_twice(str):\n",
    "    print(\"Этот вызов возвращает строку {0}\".format(str))\n",
    "\n",
    "@do_twice\n",
    "def test_twice_without_params():\n",
    "    print(\"Этот вызов без параметров\")\n",
    "\n",
    "\n",
    "@do_twice\n",
    "def test_twice_2_params(str1, str2):\n",
    "    print(\"В этой функции 2 параметра - {0} и {1}\".format(str1, str2))\n",
    "\n",
    "@do_twice\n",
    "def test_twice(str):\n",
    "    print(\"Этот вызов возвращает строку {0}\".format(str))\n",
    "\n",
    "test_twice_without_params()\n",
    "test_twice_2_params(\"1\", \"2\")\n",
    "test_twice(\"single\")"
   ],
   "metadata": {
    "collapsed": false
   }
  },
  {
   "cell_type": "markdown",
   "source": [
    "## Возврат значения из функции-декоратора"
   ],
   "metadata": {
    "collapsed": false
   }
  },
  {
   "cell_type": "code",
   "execution_count": null,
   "outputs": [],
   "source": [
    "@do_twice\n",
    "def test_twice(str):\n",
    "    print(\"Этот вызов возвращает строку {0}\".format(str))\n",
    "    return \"Done\"\n",
    "\n",
    "decorated_value = test_twice(\"single\")\n",
    "print(decorated_value)"
   ],
   "metadata": {
    "collapsed": false
   }
  },
  {
   "cell_type": "code",
   "execution_count": null,
   "outputs": [],
   "source": [
    "def do_twice(func):\n",
    "    def wrapper(*args, **kwargs):\n",
    "        func(*args, **kwargs)\n",
    "        return func(*args, **kwargs)\n",
    "    return wrapper\n",
    "\n",
    "@do_twice\n",
    "def test_twice(str):\n",
    "    print(\"Этот вызов возвращает строку {0}\".format(str))\n",
    "    return \"Done\"\n",
    "\n",
    "decorated_value = test_twice(\"single\")\n",
    "print(decorated_value)"
   ],
   "metadata": {
    "collapsed": false
   }
  },
  {
   "cell_type": "markdown",
   "source": [
    "# Интроспекция, пример реального использования декораторов\n",
    "Давайте представим ситуацию, что нам нужно написать декоратор-дебаг, чтобы посмотреть аргументы, которые переданы в ту или иную функцию, и что эта функция возвращает. В данном примере нам также необходимо будет выводить имя функции, чтобы понимать, какой именно вызов происходит в процессе\n",
    "Python предоставляет довольно мощный инструмент, называемый интроспекцией. С его помощью мы можем получить информацию о любом объекте. Для нашего примера будет достаточно возвращать имя функции"
   ],
   "metadata": {
    "collapsed": false
   }
  },
  {
   "cell_type": "code",
   "execution_count": null,
   "outputs": [],
   "source": [
    "@do_twice\n",
    "def test_twice(str):\n",
    "    print(\"Этот вызов возвращает строку {0}\".format(str))\n",
    "    return \"Done\"\n",
    "\n",
    "print(test_twice.__name__)"
   ],
   "metadata": {
    "collapsed": false
   }
  },
  {
   "cell_type": "code",
   "execution_count": 10,
   "outputs": [
    {
     "name": "stdout",
     "output_type": "stream",
     "text": [
      "wrapper\n",
      "do_twice\n"
     ]
    }
   ],
   "source": [
    "import functools\n",
    "\n",
    "def do_twice(func):\n",
    "  @functools.wraps(func)\n",
    "  def wrapper(*args, **kwargs):\n",
    "      func(*args, **kwargs)\n",
    "      return func(*args, **kwargs)\n",
    "  return wrapper\n",
    "\n",
    "print(do_twice.__name__)"
   ],
   "metadata": {
    "collapsed": false
   }
  },
  {
   "cell_type": "code",
   "execution_count": null,
   "outputs": [],
   "source": [
    "import functools\n",
    "\n",
    "def debug(func):\n",
    "    \"\"\"Выводит сигнатуру функции и возвращаемое значение\"\"\"\n",
    "    def wrapper_debug(*args, **kwargs):\n",
    "        args_repr = [repr(a) for a in args]\n",
    "        kwargs_repr = [f\"{k}={v!r}\" for k, v in kwargs.items()]\n",
    "        signature = \", \".join(args_repr + kwargs_repr)\n",
    "        print(f\"Вызываем {func.__name__}({signature})\")\n",
    "        value = func(*args, **kwargs)\n",
    "        print(f\"{func.__name__!r} вернула значение - {value!r}\")\n",
    "        return value\n",
    "    return wrapper_debug\n",
    "\n",
    "@debug\n",
    "def age_passed(name, age=None):\n",
    "  if age is None:\n",
    "    return \"Необходимо передать значение age\"\n",
    "  else:\n",
    "    return \"Аргументы по умолчанию заданы!\"\n",
    "\n",
    "age_passed(\"Роман\")\n",
    "age_passed(\"Роман\", age=21)"
   ],
   "metadata": {
    "collapsed": false
   }
  }
 ],
 "metadata": {
  "kernelspec": {
   "display_name": "Python 3",
   "language": "python",
   "name": "python3"
  },
  "language_info": {
   "codemirror_mode": {
    "name": "ipython",
    "version": 2
   },
   "file_extension": ".py",
   "mimetype": "text/x-python",
   "name": "python",
   "nbconvert_exporter": "python",
   "pygments_lexer": "ipython2",
   "version": "2.7.6"
  }
 },
 "nbformat": 4,
 "nbformat_minor": 0
}
