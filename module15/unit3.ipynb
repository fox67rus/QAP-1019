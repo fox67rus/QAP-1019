{
 "cells": [
  {
   "cell_type": "markdown",
   "source": [
    "##  15.3. Работа с JSON файлами\n",
    "Шаги для работы с json:\n",
    "1. Импортируем модуль JSON.\n",
    "2. Открываем файл на чтение (не забываем прописать encoding, так как в файле имеются русские буквы).\n",
    "3. Присваиваем переменной результат работы метода load() из модуля JSON.\n",
    "Результат — это словарь, с которым мы уже умеем работать"
   ],
   "metadata": {
    "collapsed": false
   }
  },
  {
   "cell_type": "code",
   "execution_count": 1,
   "outputs": [
    {
     "name": "stdout",
     "output_type": "stream",
     "text": [
      "{'firstname': 'Иван', 'lastname': 'Иванов', 'isAlive': True, 'age': 32, 'address': {'streetAddress': 'Нейбута 32', 'city': 'Владивосток', 'state': '', 'postalcode': ''}, 'phoneNumbers': [{'type': 'mob', 'number': '123-333-4455'}, {'type': 'office', 'number': '123 111-4567'}], 'children': [], 'spouse': None}\n",
      "<class 'dict'>\n"
     ]
    }
   ],
   "source": [
    "import json\n",
    "\n",
    "with open('json_example.json', encoding='utf-8') as f:\n",
    "    templates = json.load(f)\n",
    "\n",
    "print(templates)\n",
    "print(type(templates))"
   ],
   "metadata": {
    "collapsed": false
   }
  },
  {
   "cell_type": "code",
   "execution_count": 2,
   "outputs": [
    {
     "name": "stdout",
     "output_type": "stream",
     "text": [
      "{'firstname': 'Иван', 'lastname': 'Иванов', 'isAlive': True, 'age': 32, 'address': {'streetAddress': 'Нейбута 32', 'city': 'Владивосток', 'state': '', 'postalcode': ''}, 'phoneNumbers': [{'type': 'mob', 'number': '123-333-4455'}, {'type': 'office', 'number': '123 111-4567'}], 'children': [], 'spouse': None}\n",
      "<class 'dict'>\n"
     ]
    }
   ],
   "source": [
    "with open('json_example.json', encoding='utf-8') as f:\n",
    "    strfile = f.read()\n",
    "    # метод loads считывает не файл, а строку\n",
    "    templates = json.loads(strfile)\n",
    "\n",
    "print(templates)\n",
    "print(type(templates))"
   ],
   "metadata": {
    "collapsed": false
   }
  },
  {
   "cell_type": "markdown",
   "source": [
    "Аналогично существуют два варианта преобразования словаря в Python в JSON — метод dump() и dumps(). Первый записывает файл, а второй — строку.\n",
    "\n",
    "**Метод dump()**. Как можно заметить, после записи в файл через метод dump() None заменился на null, а True  — на true, как и должно быть в JSON.\n",
    "Обратите внимание на необязательные параметры:\n",
    "- ensure_ascii указываем для того, чтобы русские буквы оставались русскими при передаче.\n",
    "- indent — для того, чтобы запись была красивая и человекочитаемая с отступами и переводами строк."
   ],
   "metadata": {
    "collapsed": false
   }
  },
  {
   "cell_type": "code",
   "execution_count": 3,
   "outputs": [
    {
     "name": "stdout",
     "output_type": "stream",
     "text": [
      "{\n",
      "    \"firstname\": \"Иван\",\n",
      "    \"lastname\": \"Иванов\",\n",
      "    \"isAlive\": true,\n",
      "    \"age\": 32,\n",
      "    \"address\": {\n",
      "        \"streetAddress\": \"Нейбута 32\",\n",
      "        \"city\": \"Владивосток\",\n",
      "        \"state\": \"\",\n",
      "        \"postalcode\": \"\"\n",
      "    },\n",
      "    \"phoneNumbers\": [\n",
      "        {\n",
      "            \"type\": \"mob\",\n",
      "            \"number\": \"123-333-4455\"\n",
      "        },\n",
      "        {\n",
      "            \"type\": \"office\",\n",
      "            \"number\": \"123 111-4567\"\n",
      "        }\n",
      "    ],\n",
      "    \"children\": [],\n",
      "    \"spouse\": null\n",
      "}\n"
     ]
    }
   ],
   "source": [
    "template = {\n",
    "    'firstname': 'Иван',\n",
    "    'lastname': 'Иванов',\n",
    "    'isAlive': True,\n",
    "    'age': 32,\n",
    "    'address': {\n",
    "        'streetAddress': 'Нейбута 32',\n",
    "        'city': 'Владивосток',\n",
    "        'state': '',\n",
    "        'postalcode': ''\n",
    "    },\n",
    "    'phoneNumbers': [\n",
    "        {\n",
    "            'type': 'mob',\n",
    "            'number': '123-333-4455'\n",
    "        },\n",
    "        {\n",
    "            'type': 'office',\n",
    "            'number': '123 111-4567'\n",
    "        }\n",
    "    ],\n",
    "    'children': [],\n",
    "    'spouse': None\n",
    "}\n",
    "\n",
    "with open('to_json_example.json', 'w', encoding='utf-8') as f:\n",
    "    json.dump(template, f, ensure_ascii=False, indent=4)\n",
    "\n",
    "with open('to_json_example.json', encoding='utf-8') as f:\n",
    "    print(f.read())\n"
   ],
   "metadata": {
    "collapsed": false
   }
  }
 ],
 "metadata": {
  "kernelspec": {
   "display_name": "Python 3 (ipykernel)",
   "language": "python",
   "name": "python3"
  },
  "language_info": {
   "codemirror_mode": {
    "name": "ipython",
    "version": 3
   },
   "file_extension": ".py",
   "mimetype": "text/x-python",
   "name": "python",
   "nbconvert_exporter": "python",
   "pygments_lexer": "ipython3",
   "version": "3.8.10"
  }
 },
 "nbformat": 4,
 "nbformat_minor": 1
}
