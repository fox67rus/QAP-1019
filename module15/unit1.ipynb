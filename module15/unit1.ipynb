{
 "cells": [
  {
   "cell_type": "markdown",
   "source": [
    "##  15.1. Чтение и запись в файлы\n",
    "```python\n",
    "myFile = open('filename.txt', 'rt', encoding='utf-8')\n",
    "```\n"
   ],
   "metadata": {
    "collapsed": false
   }
  },
  {
   "cell_type": "code",
   "execution_count": null,
   "outputs": [],
   "source": [
    "myFile = open('filename.txt', encoding='utf-8')\n",
    "print(myFile.read())"
   ],
   "metadata": {
    "collapsed": false
   }
  },
  {
   "cell_type": "code",
   "execution_count": null,
   "outputs": [],
   "source": [
    "myFile = open('filename.txt', encoding='utf-8')\n",
    "print((myFile.read(14)))"
   ],
   "metadata": {
    "collapsed": false
   }
  },
  {
   "cell_type": "code",
   "execution_count": null,
   "outputs": [],
   "source": [
    "myFile = open('filename.txt', encoding='utf-8')\n",
    "print(myFile.readline())\n",
    "print(myFile.readline())\n",
    "print(myFile.readline())"
   ],
   "metadata": {
    "collapsed": false
   }
  },
  {
   "cell_type": "markdown",
   "source": [
    "Метод readlines() вернёт список, в котором элементами будут строки из файла."
   ],
   "metadata": {
    "collapsed": false
   }
  },
  {
   "cell_type": "code",
   "execution_count": null,
   "outputs": [],
   "source": [
    "myFile = open('filename.txt', encoding='utf-8')\n",
    "print(myFile.readlines())"
   ],
   "metadata": {
    "collapsed": false
   }
  },
  {
   "cell_type": "markdown",
   "source": [
    "Самый часто используемый в реальности способ — чтение файла построчно в цикле for."
   ],
   "metadata": {
    "collapsed": false
   }
  },
  {
   "cell_type": "code",
   "execution_count": null,
   "outputs": [],
   "source": [
    "myFile = open('filename.txt', encoding='utf-8')\n",
    "for line in myFile:\n",
    "    print(line)"
   ],
   "metadata": {
    "collapsed": false
   }
  },
  {
   "cell_type": "markdown",
   "source": [
    "### Запись в файл\n",
    "```python\n",
    "myFile = open('namefile.txt', 'w')\n",
    "myFile.write('new text')\n",
    "print('new text', file=myFile)\n",
    "```"
   ],
   "metadata": {
    "collapsed": false
   }
  },
  {
   "cell_type": "code",
   "execution_count": null,
   "outputs": [],
   "source": [
    "myFile = open('namefile.txt', 'w')\n",
    "myFile.write('new text')\n",
    "print('new text', file=myFile)"
   ],
   "metadata": {
    "collapsed": false
   }
  },
  {
   "cell_type": "markdown",
   "source": [
    "Метод flush() сразу говорит интерпретатору записать данные в файл.\n",
    "Метод close() вызывает внутри себя метод flush() и закрывает файл.\n",
    "\n",
    "Оператор with работает так:\n",
    "\n",
    "1. Ключевое слово with.\n",
    "2. Открытие файла с помощью функции open(), так как мы разбирали выше.\n",
    "3. Ключевое слово as.\n",
    "4. Имя, с которым будет ассоциирован открытый файл.\n",
    "5. Двоеточие.\n",
    "6. Блок кода, отделенный четырьмя пробелами, по аналогии с циклами и функциями."
   ],
   "metadata": {
    "collapsed": false
   }
  },
  {
   "cell_type": "code",
   "execution_count": null,
   "outputs": [],
   "source": [
    "with open('filename.txt', encoding='utf-8') as myFile:\n",
    "    for line in myFile:\n",
    "        print(line)"
   ],
   "metadata": {
    "collapsed": false
   }
  },
  {
   "cell_type": "markdown",
   "source": [
    "**Задача**: пользователь вводит произвольное целое число, а программа читает некий русский текст из файла и зашифровывает его в другой файл со сдвигом, соответствующим этому числу."
   ],
   "metadata": {
    "collapsed": false
   }
  },
  {
   "cell_type": "code",
   "execution_count": 31,
   "outputs": [],
   "source": [
    "alpha = 'абвгдеёжзийклмнопрстуфхцчшщъыьэюя'\n",
    "alphaUp = 'АБВГДЕЁЖЗИЙКЛМНОПРСТУФХЦЧШЩЪЫЬЭЮЯ'\n",
    "number = int(input('Введите число, на которое нужно сдвинуть текст: '))\n",
    "\n",
    "summary = ''\n",
    "\n",
    "def changeChar(char):\n",
    "    if char in alpha:\n",
    "        return alpha[(alpha.index(char) + number) % len(alpha)]\n",
    "    elif char in alphaUp:\n",
    "        return alphaUp[(alphaUp.index(char) + number) % len(alphaUp)]\n",
    "    else:\n",
    "        return char\n",
    "\n",
    "with open('filename.txt', encoding='utf-8') as myFile:\n",
    "    for line in myFile:\n",
    "        for char in line:\n",
    "            summary += changeChar(char)\n",
    "\n",
    "with open('output.txt', 'w', encoding='utf-8') as myFile:\n",
    "    myFile.write(summary)"
   ],
   "metadata": {
    "collapsed": false
   }
  }
 ],
 "metadata": {
  "kernelspec": {
   "display_name": "Python 3 (ipykernel)",
   "language": "python",
   "name": "python3"
  },
  "language_info": {
   "codemirror_mode": {
    "name": "ipython",
    "version": 3
   },
   "file_extension": ".py",
   "mimetype": "text/x-python",
   "name": "python",
   "nbconvert_exporter": "python",
   "pygments_lexer": "ipython3",
   "version": "3.8.10"
  }
 },
 "nbformat": 4,
 "nbformat_minor": 1
}
