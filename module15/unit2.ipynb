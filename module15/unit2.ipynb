{
 "cells": [
  {
   "cell_type": "markdown",
   "source": [
    "##  15.2. Как указать путь к файлу\n",
    "Решить проблему можно экранированием символа или установкой символа r вперед строки\n",
    "```python\n",
    "myFile = open(r'E:\\Project\\Python\\skillfactory\\module15\\namefile.txt.txt', 'rt', encoding='utf-8')\n",
    "```"
   ],
   "metadata": {
    "collapsed": false
   }
  },
  {
   "cell_type": "code",
   "execution_count": 2,
   "outputs": [
    {
     "name": "stdout",
     "output_type": "stream",
     "text": [
      "..\\module15\\namefile.txt\n"
     ]
    }
   ],
   "source": [
    "import os\n",
    "\n",
    "pp = os.path.join('..', 'module15', 'namefile.txt')\n",
    "print(pp)"
   ],
   "metadata": {
    "collapsed": false
   }
  },
  {
   "cell_type": "markdown",
   "source": [
    "Задача звучит следующим образом:\n",
    "\n",
    "1. Есть файл, в котором задан лабиринт\n",
    "2. В этом лабиринте буквой А отмечен вход. Буквой В отмечен выход, 0 — свободный проход, 1 — непроходимая стена.\n",
    "3. Нужно составить и вывести на экран последовательность шагов (вверх, вниз, вправо, влево), которая приведет из точки А в точку В.\n",
    "\n",
    "Идея в том, что начальной точке ставится вес — единица, затем от нее проверяется, можно ли пойти налево, направо, вверх или вниз и в те места, где можно ставится вес на единицу больше. Затем перемещаем начальную точку туда, куда мы смогли походить, и проверяем еще раз. В котором -1 — это непроходимая стена, а остальные — это веса, которые символизируют, за сколько шагов можно достичь этого места от начала лабиринта. Соответственно, путь строится от обратного: точка с выходом принимается за начальную, и путь идет ровно по уменьшению веса — это будет минимально короткий выход из лабиринта."
   ],
   "metadata": {
    "collapsed": false
   }
  },
  {
   "cell_type": "code",
   "execution_count": null,
   "outputs": [],
   "source": [
    "labirint = []\n",
    "with open('labirint.txt') as myFile:\n",
    "    for line in myFile:\n",
    "        labirint.append(line.replace('\\n', '').split(' '))\n",
    "\n",
    "ii = 0\n",
    "for i in labirint:\n",
    "    jj = 0\n",
    "    for j in i:\n",
    "        if j == 'A':\n",
    "            labirint[ii][jj] = '1'\n",
    "            pozIn = (ii, jj)\n",
    "        elif j == 'B':\n",
    "            labirint[ii][jj] = '0'\n",
    "            pozOut = (ii, jj)\n",
    "        elif j == '1':\n",
    "            labirint[ii][jj] = '-1'\n",
    "        else:\n",
    "            labirint[ii][jj] = '0'\n",
    "        jj += 1\n",
    "    ii += 1\n",
    "\n",
    "if not found(labirint, pozOut):\n",
    "    print('Путь не найден!')\n",
    "else:\n",
    "    result = printPath(labirint, pozOut)\n",
    "\n",
    "    for i in labirint:\n",
    "        for line in i:\n",
    "            print('{:^3}'.format(line), end=' ')\n",
    "        print()\n",
    "    print(result)\n",
    "\n"
   ],
   "metadata": {
    "collapsed": false
   }
  },
  {
   "cell_type": "markdown",
   "source": [
    "Мы читаем файл и подменяем значения из него для нашего удобства. Сначала читаем построчно, убираем перевод строки и разбиваем строку на список. Мы будем работать с числами, так что нам нужно заменить все стены на -1, чтобы они никак не участвовали в процессе, нолики остаются ноликами, а начальная точка заменяется на единицу, конечная — на ноль, чтобы алгоритм также посчитал эту точку. Кроме того, мы запоминаем позицию начала и конца в переменных pozIn и pozOut.\n",
    "Затем у нас идёт условие, которое вызывает функцию"
   ],
   "metadata": {
    "collapsed": false
   }
  },
  {
   "cell_type": "code",
   "execution_count": null,
   "outputs": [],
   "source": [
    "def found(pathArr, finPoint):\n",
    "    weight = 1\n",
    "    for i in range(len(pathArr) * len(pathArr[0])):\n",
    "        for y in range(len(pathArr)):\n",
    "            for x in range(len(pathArr[y])):\n",
    "                if pathArr[y][x] == weight:\n",
    "                    # Вниз\n",
    "                    if y > 0 and pathArr[y - 1][x] == 0:\n",
    "                        pathArr[y - 1][x] = weight + 1\n",
    "\n",
    "                    # Вверх\n",
    "                    if y < (len(pathArr) - 1) and pathArr[y + 1][x] == 0:\n",
    "                        pathArr[y + 1][x] = weight + 1\n",
    "\n",
    "                    # Вправо\n",
    "                    if x > 0 and pathArr[y][x - 1] == 0:\n",
    "                        pathArr[y][x - 1] = weight + 1\n",
    "\n",
    "                    # Влево\n",
    "                    if x < (len(pathArr[y]) - 1) and pathArr[y][x + 1] == 0:\n",
    "                        pathArr[y][x + 1] = weight + 1\n",
    "\n",
    "                    # Конечная точка\n",
    "                    if (abs(y - finPoint[0]) + abs(x - finPoint[1])) == 1:\n",
    "                        pathArr[finPoint[0]][finPoint[1]] = weight + 1\n",
    "                        return True\n",
    "        weight += 1\n",
    "    return False\n"
   ],
   "metadata": {
    "collapsed": false
   }
  },
  {
   "cell_type": "markdown",
   "source": [
    "Здесь реализована логика, которая проверяет в матрице лабиринта, можно ли сходить влево-вправо-вверх-вниз от точки, и если да, то этой точке присваивается текущий актуальный вес, который увеличивается с каждым шагом.\n",
    "\n",
    "Кроме того, каждый раз мы проверяем, не конечная ли точка, в которой мы оказались. И если мы в какой-то момент ее достигнем, то функция прекратит выполняться и вернёт True, а если мы целиком весь лабиринт так пройдем и не наткнёмся на выход, то вернёт False.\n",
    "\n",
    "Условие у нас оценивает, что вернула функция, и если выхода нет — печатает об этом сообщение, а если есть, то мы вызываем следующую функцию."
   ],
   "metadata": {
    "collapsed": false
   }
  },
  {
   "cell_type": "code",
   "execution_count": null,
   "outputs": [],
   "source": [
    "def printPath(pathArr, finPoint):\n",
    "    y = finPoint[0]\n",
    "    x = finPoint[1]\n",
    "    weight = pathArr[y][x]\n",
    "    result = list(range(weight))\n",
    "    while (weight):\n",
    "        weight -= 1\n",
    "        if y > 0 and pathArr[y - 1][x] == weight:\n",
    "            result[weight] = 'Вниз'\n",
    "            y -= 1\n",
    "        elif y < (len(pathArr) - 1) and pathArr[y + 1][x] == weight:\n",
    "            result[weight] = 'Вверх'\n",
    "            y += 1\n",
    "        elif x > 0 and pathArr[y][x - 1] == weight:\n",
    "            result[weight] = 'Вправо'\n",
    "            x -= 1\n",
    "        elif x < (len(pathArr[y]) - 1) and pathArr[y][x + 1] == weight:\n",
    "            result[weight] = 'Влево'\n",
    "            x += 1\n",
    "    return result[1:]\n"
   ],
   "metadata": {
    "collapsed": false
   }
  },
  {
   "cell_type": "markdown",
   "source": [
    "Эта функция похожа на предыдущую, она идет в обратную сторону и записывает, в какую сторону был выполнен шаг."
   ],
   "metadata": {
    "collapsed": false
   }
  },
  {
   "cell_type": "code",
   "execution_count": null,
   "outputs": [],
   "source": [],
   "metadata": {
    "collapsed": false
   }
  }
 ],
 "metadata": {
  "kernelspec": {
   "display_name": "Python 3 (ipykernel)",
   "language": "python",
   "name": "python3"
  },
  "language_info": {
   "codemirror_mode": {
    "name": "ipython",
    "version": 3
   },
   "file_extension": ".py",
   "mimetype": "text/x-python",
   "name": "python",
   "nbconvert_exporter": "python",
   "pygments_lexer": "ipython3",
   "version": "3.8.10"
  }
 },
 "nbformat": 4,
 "nbformat_minor": 1
}
